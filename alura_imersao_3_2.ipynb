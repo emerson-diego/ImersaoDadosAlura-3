{
  "nbformat": 4,
  "nbformat_minor": 0,
  "metadata": {
    "colab": {
      "name": "alura_imersao_3_2.ipynb",
      "provenance": [],
      "collapsed_sections": [],
      "authorship_tag": "ABX9TyOFAUGYvFLrGRbbrmW3Eduz",
      "include_colab_link": true
    },
    "kernelspec": {
      "name": "python3",
      "display_name": "Python 3"
    },
    "language_info": {
      "name": "python"
    }
  },
  "cells": [
    {
      "cell_type": "markdown",
      "metadata": {
        "id": "view-in-github",
        "colab_type": "text"
      },
      "source": [
        "<a href=\"https://colab.research.google.com/github/emerson-diego/ImersaoDadosAlura-3/blob/main/alura_imersao_3_2.ipynb\" target=\"_parent\"><img src=\"https://colab.research.google.com/assets/colab-badge.svg\" alt=\"Open In Colab\"/></a>"
      ]
    },
    {
      "cell_type": "code",
      "metadata": {
        "colab": {
          "base_uri": "https://localhost:8080/"
        },
        "id": "OiznHsyx6bZ_",
        "outputId": "d57faf26-ec87-4239-ac87-c4a143dabcc6"
      },
      "source": [
        "1 + 1"
      ],
      "execution_count": null,
      "outputs": [
        {
          "output_type": "execute_result",
          "data": {
            "text/plain": [
              "2"
            ]
          },
          "metadata": {
            "tags": []
          },
          "execution_count": 1
        }
      ]
    },
    {
      "cell_type": "code",
      "metadata": {
        "colab": {
          "base_uri": "https://localhost:8080/",
          "height": 435
        },
        "id": "ezAwoRfR_3JR",
        "outputId": "bfd4e345-a794-4eaa-bdb5-241f262ac9ec"
      },
      "source": [
        "import pandas as pd\n",
        "\n",
        "url_dados = 'https://github.com/alura-cursos/imersaodados3/blob/main/dados/dados_experimentos.zip?raw=true'\n",
        "\n",
        "dados = pd.read_csv(url_dados, compression = 'zip')\n",
        "\n",
        "dados.columns = dados.columns.str.replace('-','')\n",
        "mapa = {'droga': 'composto'}\n",
        "dados.rename(columns=mapa, inplace=True)\n",
        "dados\n",
        "\n",
        "#É importante destacar que passamos o parâmetro inplace = True, esse parâmetro faz com que os dados sejam modificados no local e o dataframe será atualizado. Caso esse parâmetro não seja declarado, o default é inplace = False e o retorno será uma cópia do objeto e caso você queira, precisa salva-lo com um outro nome."
      ],
      "execution_count": null,
      "outputs": [
        {
          "output_type": "execute_result",
          "data": {
            "text/html": [
              "<div>\n",
              "<style scoped>\n",
              "    .dataframe tbody tr th:only-of-type {\n",
              "        vertical-align: middle;\n",
              "    }\n",
              "\n",
              "    .dataframe tbody tr th {\n",
              "        vertical-align: top;\n",
              "    }\n",
              "\n",
              "    .dataframe thead th {\n",
              "        text-align: right;\n",
              "    }\n",
              "</style>\n",
              "<table border=\"1\" class=\"dataframe\">\n",
              "  <thead>\n",
              "    <tr style=\"text-align: right;\">\n",
              "      <th></th>\n",
              "      <th>id</th>\n",
              "      <th>tratamento</th>\n",
              "      <th>tempo</th>\n",
              "      <th>dose</th>\n",
              "      <th>composto</th>\n",
              "      <th>g0</th>\n",
              "      <th>g1</th>\n",
              "      <th>g2</th>\n",
              "      <th>g3</th>\n",
              "      <th>g4</th>\n",
              "      <th>g5</th>\n",
              "      <th>g6</th>\n",
              "      <th>g7</th>\n",
              "      <th>g8</th>\n",
              "      <th>g9</th>\n",
              "      <th>g10</th>\n",
              "      <th>g11</th>\n",
              "      <th>g12</th>\n",
              "      <th>g13</th>\n",
              "      <th>g14</th>\n",
              "      <th>g15</th>\n",
              "      <th>g16</th>\n",
              "      <th>g17</th>\n",
              "      <th>g18</th>\n",
              "      <th>g19</th>\n",
              "      <th>g20</th>\n",
              "      <th>g21</th>\n",
              "      <th>g22</th>\n",
              "      <th>g23</th>\n",
              "      <th>g24</th>\n",
              "      <th>g25</th>\n",
              "      <th>g26</th>\n",
              "      <th>g27</th>\n",
              "      <th>g28</th>\n",
              "      <th>g29</th>\n",
              "      <th>g30</th>\n",
              "      <th>g31</th>\n",
              "      <th>g32</th>\n",
              "      <th>g33</th>\n",
              "      <th>g34</th>\n",
              "      <th>...</th>\n",
              "      <th>c60</th>\n",
              "      <th>c61</th>\n",
              "      <th>c62</th>\n",
              "      <th>c63</th>\n",
              "      <th>c64</th>\n",
              "      <th>c65</th>\n",
              "      <th>c66</th>\n",
              "      <th>c67</th>\n",
              "      <th>c68</th>\n",
              "      <th>c69</th>\n",
              "      <th>c70</th>\n",
              "      <th>c71</th>\n",
              "      <th>c72</th>\n",
              "      <th>c73</th>\n",
              "      <th>c74</th>\n",
              "      <th>c75</th>\n",
              "      <th>c76</th>\n",
              "      <th>c77</th>\n",
              "      <th>c78</th>\n",
              "      <th>c79</th>\n",
              "      <th>c80</th>\n",
              "      <th>c81</th>\n",
              "      <th>c82</th>\n",
              "      <th>c83</th>\n",
              "      <th>c84</th>\n",
              "      <th>c85</th>\n",
              "      <th>c86</th>\n",
              "      <th>c87</th>\n",
              "      <th>c88</th>\n",
              "      <th>c89</th>\n",
              "      <th>c90</th>\n",
              "      <th>c91</th>\n",
              "      <th>c92</th>\n",
              "      <th>c93</th>\n",
              "      <th>c94</th>\n",
              "      <th>c95</th>\n",
              "      <th>c96</th>\n",
              "      <th>c97</th>\n",
              "      <th>c98</th>\n",
              "      <th>c99</th>\n",
              "    </tr>\n",
              "  </thead>\n",
              "  <tbody>\n",
              "    <tr>\n",
              "      <th>0</th>\n",
              "      <td>id_000644bb2</td>\n",
              "      <td>com_droga</td>\n",
              "      <td>24</td>\n",
              "      <td>D1</td>\n",
              "      <td>b68db1d53</td>\n",
              "      <td>1.0620</td>\n",
              "      <td>0.5577</td>\n",
              "      <td>-0.2479</td>\n",
              "      <td>-0.6208</td>\n",
              "      <td>-0.1944</td>\n",
              "      <td>-1.0120</td>\n",
              "      <td>-1.0220</td>\n",
              "      <td>-0.0326</td>\n",
              "      <td>0.5548</td>\n",
              "      <td>-0.0921</td>\n",
              "      <td>1.1830</td>\n",
              "      <td>0.1530</td>\n",
              "      <td>0.5574</td>\n",
              "      <td>-0.4015</td>\n",
              "      <td>0.1789</td>\n",
              "      <td>-0.6528</td>\n",
              "      <td>-0.7969</td>\n",
              "      <td>0.6342</td>\n",
              "      <td>0.1778</td>\n",
              "      <td>-0.3694</td>\n",
              "      <td>-0.5688</td>\n",
              "      <td>-1.1360</td>\n",
              "      <td>-1.1880</td>\n",
              "      <td>0.6940</td>\n",
              "      <td>0.4393</td>\n",
              "      <td>0.2664</td>\n",
              "      <td>0.1907</td>\n",
              "      <td>0.1628</td>\n",
              "      <td>-0.2853</td>\n",
              "      <td>0.5819</td>\n",
              "      <td>0.2934</td>\n",
              "      <td>-0.5584</td>\n",
              "      <td>-0.0916</td>\n",
              "      <td>-0.3010</td>\n",
              "      <td>-0.1537</td>\n",
              "      <td>...</td>\n",
              "      <td>0.4805</td>\n",
              "      <td>0.4965</td>\n",
              "      <td>0.3680</td>\n",
              "      <td>0.8427</td>\n",
              "      <td>0.1042</td>\n",
              "      <td>0.1403</td>\n",
              "      <td>0.1758</td>\n",
              "      <td>1.2570</td>\n",
              "      <td>-0.5979</td>\n",
              "      <td>1.2250</td>\n",
              "      <td>-0.0553</td>\n",
              "      <td>0.7351</td>\n",
              "      <td>0.5810</td>\n",
              "      <td>0.9590</td>\n",
              "      <td>0.2427</td>\n",
              "      <td>0.0495</td>\n",
              "      <td>0.4141</td>\n",
              "      <td>0.8432</td>\n",
              "      <td>0.6162</td>\n",
              "      <td>-0.7318</td>\n",
              "      <td>1.2120</td>\n",
              "      <td>0.6362</td>\n",
              "      <td>-0.4427</td>\n",
              "      <td>0.1288</td>\n",
              "      <td>1.4840</td>\n",
              "      <td>0.1799</td>\n",
              "      <td>0.5367</td>\n",
              "      <td>-0.1111</td>\n",
              "      <td>-1.0120</td>\n",
              "      <td>0.6685</td>\n",
              "      <td>0.2862</td>\n",
              "      <td>0.2584</td>\n",
              "      <td>0.8076</td>\n",
              "      <td>0.5523</td>\n",
              "      <td>-0.1912</td>\n",
              "      <td>0.6584</td>\n",
              "      <td>-0.3981</td>\n",
              "      <td>0.2139</td>\n",
              "      <td>0.3801</td>\n",
              "      <td>0.4176</td>\n",
              "    </tr>\n",
              "    <tr>\n",
              "      <th>1</th>\n",
              "      <td>id_000779bfc</td>\n",
              "      <td>com_droga</td>\n",
              "      <td>72</td>\n",
              "      <td>D1</td>\n",
              "      <td>df89a8e5a</td>\n",
              "      <td>0.0743</td>\n",
              "      <td>0.4087</td>\n",
              "      <td>0.2991</td>\n",
              "      <td>0.0604</td>\n",
              "      <td>1.0190</td>\n",
              "      <td>0.5207</td>\n",
              "      <td>0.2341</td>\n",
              "      <td>0.3372</td>\n",
              "      <td>-0.4047</td>\n",
              "      <td>0.8507</td>\n",
              "      <td>-1.1520</td>\n",
              "      <td>-0.4201</td>\n",
              "      <td>-0.0958</td>\n",
              "      <td>0.4590</td>\n",
              "      <td>0.0803</td>\n",
              "      <td>0.2250</td>\n",
              "      <td>0.5293</td>\n",
              "      <td>0.2839</td>\n",
              "      <td>-0.3494</td>\n",
              "      <td>0.2883</td>\n",
              "      <td>0.9449</td>\n",
              "      <td>-0.1646</td>\n",
              "      <td>-0.2657</td>\n",
              "      <td>-0.3372</td>\n",
              "      <td>0.3135</td>\n",
              "      <td>-0.4316</td>\n",
              "      <td>0.4773</td>\n",
              "      <td>0.2075</td>\n",
              "      <td>-0.4216</td>\n",
              "      <td>-0.1161</td>\n",
              "      <td>-0.0499</td>\n",
              "      <td>-0.2627</td>\n",
              "      <td>0.9959</td>\n",
              "      <td>-0.2483</td>\n",
              "      <td>0.2655</td>\n",
              "      <td>...</td>\n",
              "      <td>0.4083</td>\n",
              "      <td>0.0319</td>\n",
              "      <td>0.3905</td>\n",
              "      <td>0.7099</td>\n",
              "      <td>0.2912</td>\n",
              "      <td>0.4151</td>\n",
              "      <td>-0.2840</td>\n",
              "      <td>-0.3104</td>\n",
              "      <td>-0.6373</td>\n",
              "      <td>0.2887</td>\n",
              "      <td>-0.0765</td>\n",
              "      <td>0.2539</td>\n",
              "      <td>0.4443</td>\n",
              "      <td>0.5932</td>\n",
              "      <td>0.2031</td>\n",
              "      <td>0.7639</td>\n",
              "      <td>0.5499</td>\n",
              "      <td>-0.3322</td>\n",
              "      <td>-0.0977</td>\n",
              "      <td>0.4329</td>\n",
              "      <td>-0.2782</td>\n",
              "      <td>0.7827</td>\n",
              "      <td>0.5934</td>\n",
              "      <td>0.3402</td>\n",
              "      <td>0.1499</td>\n",
              "      <td>0.4420</td>\n",
              "      <td>0.9366</td>\n",
              "      <td>0.8193</td>\n",
              "      <td>-0.4236</td>\n",
              "      <td>0.3192</td>\n",
              "      <td>-0.4265</td>\n",
              "      <td>0.7543</td>\n",
              "      <td>0.4708</td>\n",
              "      <td>0.0230</td>\n",
              "      <td>0.2957</td>\n",
              "      <td>0.4899</td>\n",
              "      <td>0.1522</td>\n",
              "      <td>0.1241</td>\n",
              "      <td>0.6077</td>\n",
              "      <td>0.7371</td>\n",
              "    </tr>\n",
              "    <tr>\n",
              "      <th>2</th>\n",
              "      <td>id_000a6266a</td>\n",
              "      <td>com_droga</td>\n",
              "      <td>48</td>\n",
              "      <td>D1</td>\n",
              "      <td>18bb41b2c</td>\n",
              "      <td>0.6280</td>\n",
              "      <td>0.5817</td>\n",
              "      <td>1.5540</td>\n",
              "      <td>-0.0764</td>\n",
              "      <td>-0.0323</td>\n",
              "      <td>1.2390</td>\n",
              "      <td>0.1715</td>\n",
              "      <td>0.2155</td>\n",
              "      <td>0.0065</td>\n",
              "      <td>1.2300</td>\n",
              "      <td>-0.4797</td>\n",
              "      <td>-0.5631</td>\n",
              "      <td>-0.0366</td>\n",
              "      <td>-1.8300</td>\n",
              "      <td>0.6057</td>\n",
              "      <td>-0.3278</td>\n",
              "      <td>0.6042</td>\n",
              "      <td>-0.3075</td>\n",
              "      <td>-0.1147</td>\n",
              "      <td>-0.0570</td>\n",
              "      <td>-0.0799</td>\n",
              "      <td>-0.8181</td>\n",
              "      <td>-1.5320</td>\n",
              "      <td>0.2307</td>\n",
              "      <td>0.4901</td>\n",
              "      <td>0.4780</td>\n",
              "      <td>-1.3970</td>\n",
              "      <td>4.6240</td>\n",
              "      <td>-0.0437</td>\n",
              "      <td>1.2870</td>\n",
              "      <td>-1.8530</td>\n",
              "      <td>0.6069</td>\n",
              "      <td>0.4290</td>\n",
              "      <td>0.1783</td>\n",
              "      <td>0.0018</td>\n",
              "      <td>...</td>\n",
              "      <td>-0.5477</td>\n",
              "      <td>-0.7576</td>\n",
              "      <td>-0.0444</td>\n",
              "      <td>0.1894</td>\n",
              "      <td>-0.0014</td>\n",
              "      <td>-2.3640</td>\n",
              "      <td>-0.4682</td>\n",
              "      <td>0.1210</td>\n",
              "      <td>-0.5177</td>\n",
              "      <td>-0.0604</td>\n",
              "      <td>0.1682</td>\n",
              "      <td>-0.4436</td>\n",
              "      <td>0.4963</td>\n",
              "      <td>0.1363</td>\n",
              "      <td>0.3335</td>\n",
              "      <td>0.9760</td>\n",
              "      <td>-0.0427</td>\n",
              "      <td>-0.1235</td>\n",
              "      <td>0.0959</td>\n",
              "      <td>0.0690</td>\n",
              "      <td>-0.9416</td>\n",
              "      <td>-0.7548</td>\n",
              "      <td>-0.1109</td>\n",
              "      <td>-0.6272</td>\n",
              "      <td>0.3019</td>\n",
              "      <td>0.1172</td>\n",
              "      <td>0.1093</td>\n",
              "      <td>-0.3113</td>\n",
              "      <td>0.3019</td>\n",
              "      <td>-0.0873</td>\n",
              "      <td>-0.7250</td>\n",
              "      <td>-0.6297</td>\n",
              "      <td>0.6103</td>\n",
              "      <td>0.0223</td>\n",
              "      <td>-1.3240</td>\n",
              "      <td>-0.3174</td>\n",
              "      <td>-0.6417</td>\n",
              "      <td>-0.2187</td>\n",
              "      <td>-1.4080</td>\n",
              "      <td>0.6931</td>\n",
              "    </tr>\n",
              "    <tr>\n",
              "      <th>3</th>\n",
              "      <td>id_0015fd391</td>\n",
              "      <td>com_droga</td>\n",
              "      <td>48</td>\n",
              "      <td>D1</td>\n",
              "      <td>8c7f86626</td>\n",
              "      <td>-0.5138</td>\n",
              "      <td>-0.2491</td>\n",
              "      <td>-0.2656</td>\n",
              "      <td>0.5288</td>\n",
              "      <td>4.0620</td>\n",
              "      <td>-0.8095</td>\n",
              "      <td>-1.9590</td>\n",
              "      <td>0.1792</td>\n",
              "      <td>-0.1321</td>\n",
              "      <td>-1.0600</td>\n",
              "      <td>-0.8269</td>\n",
              "      <td>-0.3584</td>\n",
              "      <td>-0.8511</td>\n",
              "      <td>-0.5844</td>\n",
              "      <td>-2.5690</td>\n",
              "      <td>0.8183</td>\n",
              "      <td>-0.0532</td>\n",
              "      <td>-0.8554</td>\n",
              "      <td>0.1160</td>\n",
              "      <td>-2.3520</td>\n",
              "      <td>2.1200</td>\n",
              "      <td>-1.1580</td>\n",
              "      <td>-0.7191</td>\n",
              "      <td>-0.8004</td>\n",
              "      <td>-1.4670</td>\n",
              "      <td>-0.0107</td>\n",
              "      <td>-0.8995</td>\n",
              "      <td>0.2406</td>\n",
              "      <td>-0.2479</td>\n",
              "      <td>-1.0890</td>\n",
              "      <td>-0.7575</td>\n",
              "      <td>0.0881</td>\n",
              "      <td>-2.7370</td>\n",
              "      <td>0.8745</td>\n",
              "      <td>0.5787</td>\n",
              "      <td>...</td>\n",
              "      <td>-2.1220</td>\n",
              "      <td>-0.3752</td>\n",
              "      <td>-2.3820</td>\n",
              "      <td>-3.7350</td>\n",
              "      <td>-2.9740</td>\n",
              "      <td>-1.4930</td>\n",
              "      <td>-1.6600</td>\n",
              "      <td>-3.1660</td>\n",
              "      <td>0.2816</td>\n",
              "      <td>-0.2990</td>\n",
              "      <td>-1.1870</td>\n",
              "      <td>-0.5044</td>\n",
              "      <td>-1.7750</td>\n",
              "      <td>-1.6120</td>\n",
              "      <td>-0.9215</td>\n",
              "      <td>-1.0810</td>\n",
              "      <td>-3.0520</td>\n",
              "      <td>-3.4470</td>\n",
              "      <td>-2.7740</td>\n",
              "      <td>-1.8460</td>\n",
              "      <td>-0.5568</td>\n",
              "      <td>-3.3960</td>\n",
              "      <td>-2.9510</td>\n",
              "      <td>-1.1550</td>\n",
              "      <td>-3.2620</td>\n",
              "      <td>-1.5390</td>\n",
              "      <td>-2.4600</td>\n",
              "      <td>-0.9417</td>\n",
              "      <td>-1.5550</td>\n",
              "      <td>0.2431</td>\n",
              "      <td>-2.0990</td>\n",
              "      <td>-0.6441</td>\n",
              "      <td>-5.6300</td>\n",
              "      <td>-1.3780</td>\n",
              "      <td>-0.8632</td>\n",
              "      <td>-1.2880</td>\n",
              "      <td>-1.6210</td>\n",
              "      <td>-0.8784</td>\n",
              "      <td>-0.3876</td>\n",
              "      <td>-0.8154</td>\n",
              "    </tr>\n",
              "    <tr>\n",
              "      <th>4</th>\n",
              "      <td>id_001626bd3</td>\n",
              "      <td>com_droga</td>\n",
              "      <td>72</td>\n",
              "      <td>D2</td>\n",
              "      <td>7cbed3131</td>\n",
              "      <td>-0.3254</td>\n",
              "      <td>-0.4009</td>\n",
              "      <td>0.9700</td>\n",
              "      <td>0.6919</td>\n",
              "      <td>1.4180</td>\n",
              "      <td>-0.8244</td>\n",
              "      <td>-0.2800</td>\n",
              "      <td>-0.1498</td>\n",
              "      <td>-0.8789</td>\n",
              "      <td>0.8630</td>\n",
              "      <td>-0.2219</td>\n",
              "      <td>-0.5121</td>\n",
              "      <td>-0.9577</td>\n",
              "      <td>1.1750</td>\n",
              "      <td>0.2042</td>\n",
              "      <td>0.1970</td>\n",
              "      <td>0.1244</td>\n",
              "      <td>-1.7090</td>\n",
              "      <td>-0.3543</td>\n",
              "      <td>-0.5160</td>\n",
              "      <td>-0.3330</td>\n",
              "      <td>-0.2685</td>\n",
              "      <td>0.7649</td>\n",
              "      <td>0.2057</td>\n",
              "      <td>1.3720</td>\n",
              "      <td>0.6835</td>\n",
              "      <td>0.8056</td>\n",
              "      <td>-0.3754</td>\n",
              "      <td>-1.2090</td>\n",
              "      <td>0.2965</td>\n",
              "      <td>-0.0712</td>\n",
              "      <td>0.6389</td>\n",
              "      <td>0.6674</td>\n",
              "      <td>-0.0783</td>\n",
              "      <td>1.1740</td>\n",
              "      <td>...</td>\n",
              "      <td>-0.2274</td>\n",
              "      <td>0.3215</td>\n",
              "      <td>0.1535</td>\n",
              "      <td>-0.4640</td>\n",
              "      <td>-0.5943</td>\n",
              "      <td>0.3973</td>\n",
              "      <td>0.1500</td>\n",
              "      <td>0.5178</td>\n",
              "      <td>0.5159</td>\n",
              "      <td>0.6091</td>\n",
              "      <td>0.1813</td>\n",
              "      <td>-0.4249</td>\n",
              "      <td>0.7832</td>\n",
              "      <td>0.6529</td>\n",
              "      <td>0.5648</td>\n",
              "      <td>0.4817</td>\n",
              "      <td>0.0587</td>\n",
              "      <td>0.5303</td>\n",
              "      <td>0.6376</td>\n",
              "      <td>-0.3966</td>\n",
              "      <td>-1.4950</td>\n",
              "      <td>-0.9625</td>\n",
              "      <td>-0.0541</td>\n",
              "      <td>0.6273</td>\n",
              "      <td>0.4563</td>\n",
              "      <td>0.0698</td>\n",
              "      <td>0.8134</td>\n",
              "      <td>0.1924</td>\n",
              "      <td>0.6054</td>\n",
              "      <td>-0.1824</td>\n",
              "      <td>0.0042</td>\n",
              "      <td>0.0048</td>\n",
              "      <td>0.6670</td>\n",
              "      <td>1.0690</td>\n",
              "      <td>0.5523</td>\n",
              "      <td>-0.3031</td>\n",
              "      <td>0.1094</td>\n",
              "      <td>0.2885</td>\n",
              "      <td>-0.3786</td>\n",
              "      <td>0.7125</td>\n",
              "    </tr>\n",
              "    <tr>\n",
              "      <th>...</th>\n",
              "      <td>...</td>\n",
              "      <td>...</td>\n",
              "      <td>...</td>\n",
              "      <td>...</td>\n",
              "      <td>...</td>\n",
              "      <td>...</td>\n",
              "      <td>...</td>\n",
              "      <td>...</td>\n",
              "      <td>...</td>\n",
              "      <td>...</td>\n",
              "      <td>...</td>\n",
              "      <td>...</td>\n",
              "      <td>...</td>\n",
              "      <td>...</td>\n",
              "      <td>...</td>\n",
              "      <td>...</td>\n",
              "      <td>...</td>\n",
              "      <td>...</td>\n",
              "      <td>...</td>\n",
              "      <td>...</td>\n",
              "      <td>...</td>\n",
              "      <td>...</td>\n",
              "      <td>...</td>\n",
              "      <td>...</td>\n",
              "      <td>...</td>\n",
              "      <td>...</td>\n",
              "      <td>...</td>\n",
              "      <td>...</td>\n",
              "      <td>...</td>\n",
              "      <td>...</td>\n",
              "      <td>...</td>\n",
              "      <td>...</td>\n",
              "      <td>...</td>\n",
              "      <td>...</td>\n",
              "      <td>...</td>\n",
              "      <td>...</td>\n",
              "      <td>...</td>\n",
              "      <td>...</td>\n",
              "      <td>...</td>\n",
              "      <td>...</td>\n",
              "      <td>...</td>\n",
              "      <td>...</td>\n",
              "      <td>...</td>\n",
              "      <td>...</td>\n",
              "      <td>...</td>\n",
              "      <td>...</td>\n",
              "      <td>...</td>\n",
              "      <td>...</td>\n",
              "      <td>...</td>\n",
              "      <td>...</td>\n",
              "      <td>...</td>\n",
              "      <td>...</td>\n",
              "      <td>...</td>\n",
              "      <td>...</td>\n",
              "      <td>...</td>\n",
              "      <td>...</td>\n",
              "      <td>...</td>\n",
              "      <td>...</td>\n",
              "      <td>...</td>\n",
              "      <td>...</td>\n",
              "      <td>...</td>\n",
              "      <td>...</td>\n",
              "      <td>...</td>\n",
              "      <td>...</td>\n",
              "      <td>...</td>\n",
              "      <td>...</td>\n",
              "      <td>...</td>\n",
              "      <td>...</td>\n",
              "      <td>...</td>\n",
              "      <td>...</td>\n",
              "      <td>...</td>\n",
              "      <td>...</td>\n",
              "      <td>...</td>\n",
              "      <td>...</td>\n",
              "      <td>...</td>\n",
              "      <td>...</td>\n",
              "      <td>...</td>\n",
              "      <td>...</td>\n",
              "      <td>...</td>\n",
              "      <td>...</td>\n",
              "      <td>...</td>\n",
              "    </tr>\n",
              "    <tr>\n",
              "      <th>23809</th>\n",
              "      <td>id_fffb1ceed</td>\n",
              "      <td>com_droga</td>\n",
              "      <td>24</td>\n",
              "      <td>D2</td>\n",
              "      <td>df1d0a5a1</td>\n",
              "      <td>0.1394</td>\n",
              "      <td>-0.0636</td>\n",
              "      <td>-0.1112</td>\n",
              "      <td>-0.5080</td>\n",
              "      <td>-0.4713</td>\n",
              "      <td>0.7201</td>\n",
              "      <td>0.5773</td>\n",
              "      <td>0.3055</td>\n",
              "      <td>-0.4726</td>\n",
              "      <td>0.1269</td>\n",
              "      <td>0.2531</td>\n",
              "      <td>0.1730</td>\n",
              "      <td>-0.4532</td>\n",
              "      <td>-1.0790</td>\n",
              "      <td>0.2474</td>\n",
              "      <td>-0.4550</td>\n",
              "      <td>0.3588</td>\n",
              "      <td>0.1600</td>\n",
              "      <td>-0.7362</td>\n",
              "      <td>-0.1103</td>\n",
              "      <td>0.8550</td>\n",
              "      <td>-0.4139</td>\n",
              "      <td>0.5541</td>\n",
              "      <td>0.2310</td>\n",
              "      <td>-0.5573</td>\n",
              "      <td>-0.4397</td>\n",
              "      <td>-0.9260</td>\n",
              "      <td>-0.2424</td>\n",
              "      <td>-0.6686</td>\n",
              "      <td>0.2326</td>\n",
              "      <td>0.6456</td>\n",
              "      <td>0.0136</td>\n",
              "      <td>-0.5141</td>\n",
              "      <td>-0.6320</td>\n",
              "      <td>0.7166</td>\n",
              "      <td>...</td>\n",
              "      <td>0.0807</td>\n",
              "      <td>0.4024</td>\n",
              "      <td>-0.0895</td>\n",
              "      <td>0.4420</td>\n",
              "      <td>0.9641</td>\n",
              "      <td>-0.1846</td>\n",
              "      <td>-0.0014</td>\n",
              "      <td>0.3154</td>\n",
              "      <td>-0.2071</td>\n",
              "      <td>-0.6158</td>\n",
              "      <td>-0.2977</td>\n",
              "      <td>0.0992</td>\n",
              "      <td>0.6838</td>\n",
              "      <td>0.5259</td>\n",
              "      <td>0.7882</td>\n",
              "      <td>0.3119</td>\n",
              "      <td>-0.7697</td>\n",
              "      <td>0.2203</td>\n",
              "      <td>-1.0710</td>\n",
              "      <td>0.5979</td>\n",
              "      <td>0.0848</td>\n",
              "      <td>-0.2555</td>\n",
              "      <td>0.6293</td>\n",
              "      <td>1.1660</td>\n",
              "      <td>0.3329</td>\n",
              "      <td>0.2754</td>\n",
              "      <td>0.4108</td>\n",
              "      <td>-0.1252</td>\n",
              "      <td>-0.2340</td>\n",
              "      <td>0.2267</td>\n",
              "      <td>0.1969</td>\n",
              "      <td>0.0262</td>\n",
              "      <td>-0.8121</td>\n",
              "      <td>0.3434</td>\n",
              "      <td>0.5372</td>\n",
              "      <td>-0.3246</td>\n",
              "      <td>0.0631</td>\n",
              "      <td>0.9171</td>\n",
              "      <td>0.5258</td>\n",
              "      <td>0.4680</td>\n",
              "    </tr>\n",
              "    <tr>\n",
              "      <th>23810</th>\n",
              "      <td>id_fffb70c0c</td>\n",
              "      <td>com_droga</td>\n",
              "      <td>24</td>\n",
              "      <td>D2</td>\n",
              "      <td>ecf3b6b74</td>\n",
              "      <td>-1.3260</td>\n",
              "      <td>0.3478</td>\n",
              "      <td>-0.3743</td>\n",
              "      <td>0.9905</td>\n",
              "      <td>-0.7178</td>\n",
              "      <td>0.6621</td>\n",
              "      <td>-0.2252</td>\n",
              "      <td>-0.5565</td>\n",
              "      <td>0.5112</td>\n",
              "      <td>0.6727</td>\n",
              "      <td>-0.1851</td>\n",
              "      <td>2.8650</td>\n",
              "      <td>-0.2140</td>\n",
              "      <td>-0.6153</td>\n",
              "      <td>0.8362</td>\n",
              "      <td>0.5584</td>\n",
              "      <td>-0.2589</td>\n",
              "      <td>0.1292</td>\n",
              "      <td>0.0148</td>\n",
              "      <td>0.0949</td>\n",
              "      <td>-0.2182</td>\n",
              "      <td>-0.9235</td>\n",
              "      <td>0.0749</td>\n",
              "      <td>-1.5910</td>\n",
              "      <td>-0.8359</td>\n",
              "      <td>-0.9217</td>\n",
              "      <td>0.3013</td>\n",
              "      <td>0.1716</td>\n",
              "      <td>0.0880</td>\n",
              "      <td>0.1842</td>\n",
              "      <td>0.1835</td>\n",
              "      <td>0.5436</td>\n",
              "      <td>-0.0533</td>\n",
              "      <td>-0.0491</td>\n",
              "      <td>0.9543</td>\n",
              "      <td>...</td>\n",
              "      <td>0.1410</td>\n",
              "      <td>1.2640</td>\n",
              "      <td>-0.8663</td>\n",
              "      <td>0.8129</td>\n",
              "      <td>-0.1514</td>\n",
              "      <td>-0.4652</td>\n",
              "      <td>-0.7390</td>\n",
              "      <td>-1.3270</td>\n",
              "      <td>0.9925</td>\n",
              "      <td>1.0570</td>\n",
              "      <td>-0.3355</td>\n",
              "      <td>-0.2555</td>\n",
              "      <td>0.8219</td>\n",
              "      <td>0.6995</td>\n",
              "      <td>-0.2942</td>\n",
              "      <td>0.2408</td>\n",
              "      <td>-0.7781</td>\n",
              "      <td>-0.0929</td>\n",
              "      <td>-0.0329</td>\n",
              "      <td>0.0781</td>\n",
              "      <td>-1.4440</td>\n",
              "      <td>-0.0921</td>\n",
              "      <td>0.3188</td>\n",
              "      <td>-1.1080</td>\n",
              "      <td>0.4895</td>\n",
              "      <td>-0.2144</td>\n",
              "      <td>1.0960</td>\n",
              "      <td>0.3335</td>\n",
              "      <td>0.4444</td>\n",
              "      <td>-1.1130</td>\n",
              "      <td>0.4286</td>\n",
              "      <td>0.4426</td>\n",
              "      <td>0.0423</td>\n",
              "      <td>-0.3195</td>\n",
              "      <td>-0.8086</td>\n",
              "      <td>-0.9798</td>\n",
              "      <td>-0.2084</td>\n",
              "      <td>-0.1224</td>\n",
              "      <td>-0.2715</td>\n",
              "      <td>0.3689</td>\n",
              "    </tr>\n",
              "    <tr>\n",
              "      <th>23811</th>\n",
              "      <td>id_fffc1c3f4</td>\n",
              "      <td>com_controle</td>\n",
              "      <td>48</td>\n",
              "      <td>D2</td>\n",
              "      <td>cacb2b860</td>\n",
              "      <td>0.3942</td>\n",
              "      <td>0.3756</td>\n",
              "      <td>0.3109</td>\n",
              "      <td>-0.7389</td>\n",
              "      <td>0.5505</td>\n",
              "      <td>-0.0159</td>\n",
              "      <td>-0.2541</td>\n",
              "      <td>0.1745</td>\n",
              "      <td>-0.0340</td>\n",
              "      <td>0.4865</td>\n",
              "      <td>-0.1854</td>\n",
              "      <td>0.0716</td>\n",
              "      <td>0.1729</td>\n",
              "      <td>-0.0434</td>\n",
              "      <td>0.1542</td>\n",
              "      <td>-0.2192</td>\n",
              "      <td>-0.0302</td>\n",
              "      <td>-0.4218</td>\n",
              "      <td>0.4057</td>\n",
              "      <td>-0.5372</td>\n",
              "      <td>0.1521</td>\n",
              "      <td>-0.2651</td>\n",
              "      <td>0.2310</td>\n",
              "      <td>-0.8101</td>\n",
              "      <td>0.4943</td>\n",
              "      <td>0.6905</td>\n",
              "      <td>-0.3720</td>\n",
              "      <td>-1.4110</td>\n",
              "      <td>0.4516</td>\n",
              "      <td>1.2300</td>\n",
              "      <td>-0.1949</td>\n",
              "      <td>-1.3280</td>\n",
              "      <td>-0.4276</td>\n",
              "      <td>-0.0040</td>\n",
              "      <td>-0.3086</td>\n",
              "      <td>...</td>\n",
              "      <td>0.6845</td>\n",
              "      <td>0.7127</td>\n",
              "      <td>0.7294</td>\n",
              "      <td>0.4718</td>\n",
              "      <td>-0.2020</td>\n",
              "      <td>0.2783</td>\n",
              "      <td>0.4934</td>\n",
              "      <td>0.4144</td>\n",
              "      <td>0.5449</td>\n",
              "      <td>1.4690</td>\n",
              "      <td>-0.6142</td>\n",
              "      <td>0.6068</td>\n",
              "      <td>0.3434</td>\n",
              "      <td>0.9880</td>\n",
              "      <td>-0.0468</td>\n",
              "      <td>-0.1882</td>\n",
              "      <td>-0.0087</td>\n",
              "      <td>-0.0356</td>\n",
              "      <td>0.5718</td>\n",
              "      <td>0.4971</td>\n",
              "      <td>0.1057</td>\n",
              "      <td>0.2111</td>\n",
              "      <td>0.6992</td>\n",
              "      <td>0.0708</td>\n",
              "      <td>0.6169</td>\n",
              "      <td>0.2248</td>\n",
              "      <td>0.5994</td>\n",
              "      <td>0.2689</td>\n",
              "      <td>0.0305</td>\n",
              "      <td>1.2320</td>\n",
              "      <td>0.5409</td>\n",
              "      <td>0.3755</td>\n",
              "      <td>0.7343</td>\n",
              "      <td>0.2807</td>\n",
              "      <td>0.4116</td>\n",
              "      <td>0.6422</td>\n",
              "      <td>0.2256</td>\n",
              "      <td>0.7592</td>\n",
              "      <td>0.6656</td>\n",
              "      <td>0.3808</td>\n",
              "    </tr>\n",
              "    <tr>\n",
              "      <th>23812</th>\n",
              "      <td>id_fffcb9e7c</td>\n",
              "      <td>com_droga</td>\n",
              "      <td>24</td>\n",
              "      <td>D1</td>\n",
              "      <td>8b87a7a83</td>\n",
              "      <td>0.6660</td>\n",
              "      <td>0.2324</td>\n",
              "      <td>0.4392</td>\n",
              "      <td>0.2044</td>\n",
              "      <td>0.8531</td>\n",
              "      <td>-0.0343</td>\n",
              "      <td>0.0323</td>\n",
              "      <td>0.0463</td>\n",
              "      <td>0.4299</td>\n",
              "      <td>-0.7985</td>\n",
              "      <td>0.5742</td>\n",
              "      <td>0.1421</td>\n",
              "      <td>2.2700</td>\n",
              "      <td>0.2046</td>\n",
              "      <td>0.5363</td>\n",
              "      <td>-1.7330</td>\n",
              "      <td>0.1450</td>\n",
              "      <td>0.6097</td>\n",
              "      <td>0.2024</td>\n",
              "      <td>0.9865</td>\n",
              "      <td>-0.7805</td>\n",
              "      <td>0.9608</td>\n",
              "      <td>0.3440</td>\n",
              "      <td>2.7650</td>\n",
              "      <td>0.4925</td>\n",
              "      <td>0.6698</td>\n",
              "      <td>0.2374</td>\n",
              "      <td>-0.3372</td>\n",
              "      <td>0.8771</td>\n",
              "      <td>-2.6560</td>\n",
              "      <td>-0.2000</td>\n",
              "      <td>-0.2043</td>\n",
              "      <td>0.6797</td>\n",
              "      <td>-0.0248</td>\n",
              "      <td>-0.0927</td>\n",
              "      <td>...</td>\n",
              "      <td>0.3360</td>\n",
              "      <td>-0.6136</td>\n",
              "      <td>0.5011</td>\n",
              "      <td>0.9261</td>\n",
              "      <td>0.4419</td>\n",
              "      <td>0.0295</td>\n",
              "      <td>0.4220</td>\n",
              "      <td>0.4677</td>\n",
              "      <td>-0.1184</td>\n",
              "      <td>0.4524</td>\n",
              "      <td>0.4135</td>\n",
              "      <td>0.1356</td>\n",
              "      <td>-0.5801</td>\n",
              "      <td>0.0411</td>\n",
              "      <td>1.0240</td>\n",
              "      <td>1.0340</td>\n",
              "      <td>-0.0270</td>\n",
              "      <td>-0.4194</td>\n",
              "      <td>0.7403</td>\n",
              "      <td>-0.6793</td>\n",
              "      <td>-0.1423</td>\n",
              "      <td>0.7307</td>\n",
              "      <td>0.7946</td>\n",
              "      <td>-0.0650</td>\n",
              "      <td>0.9038</td>\n",
              "      <td>0.2324</td>\n",
              "      <td>0.9676</td>\n",
              "      <td>1.0940</td>\n",
              "      <td>0.4290</td>\n",
              "      <td>0.5187</td>\n",
              "      <td>-0.1105</td>\n",
              "      <td>0.4258</td>\n",
              "      <td>-0.2012</td>\n",
              "      <td>0.1506</td>\n",
              "      <td>1.5230</td>\n",
              "      <td>0.7101</td>\n",
              "      <td>0.1732</td>\n",
              "      <td>0.7015</td>\n",
              "      <td>-0.6290</td>\n",
              "      <td>0.0740</td>\n",
              "    </tr>\n",
              "    <tr>\n",
              "      <th>23813</th>\n",
              "      <td>id_ffffdd77b</td>\n",
              "      <td>com_droga</td>\n",
              "      <td>72</td>\n",
              "      <td>D1</td>\n",
              "      <td>972f41291</td>\n",
              "      <td>-0.8598</td>\n",
              "      <td>1.0240</td>\n",
              "      <td>-0.1361</td>\n",
              "      <td>0.7952</td>\n",
              "      <td>-0.3611</td>\n",
              "      <td>-3.6750</td>\n",
              "      <td>-1.2420</td>\n",
              "      <td>0.9146</td>\n",
              "      <td>3.0790</td>\n",
              "      <td>1.2460</td>\n",
              "      <td>1.9460</td>\n",
              "      <td>1.4370</td>\n",
              "      <td>2.9780</td>\n",
              "      <td>2.2370</td>\n",
              "      <td>-0.6818</td>\n",
              "      <td>0.6870</td>\n",
              "      <td>-1.1060</td>\n",
              "      <td>0.0182</td>\n",
              "      <td>-0.9247</td>\n",
              "      <td>-0.0738</td>\n",
              "      <td>-0.1919</td>\n",
              "      <td>-0.7722</td>\n",
              "      <td>-1.4050</td>\n",
              "      <td>-1.0050</td>\n",
              "      <td>-1.1170</td>\n",
              "      <td>-0.5293</td>\n",
              "      <td>-1.1720</td>\n",
              "      <td>-0.2885</td>\n",
              "      <td>0.1599</td>\n",
              "      <td>-0.4250</td>\n",
              "      <td>0.3591</td>\n",
              "      <td>-0.1420</td>\n",
              "      <td>-0.9530</td>\n",
              "      <td>-0.2005</td>\n",
              "      <td>-1.8340</td>\n",
              "      <td>...</td>\n",
              "      <td>-6.9170</td>\n",
              "      <td>-1.8640</td>\n",
              "      <td>-2.5090</td>\n",
              "      <td>-4.7130</td>\n",
              "      <td>-1.7250</td>\n",
              "      <td>-3.8650</td>\n",
              "      <td>-3.0800</td>\n",
              "      <td>-4.1530</td>\n",
              "      <td>-1.2030</td>\n",
              "      <td>-1.1690</td>\n",
              "      <td>-4.1460</td>\n",
              "      <td>-1.2670</td>\n",
              "      <td>-1.1300</td>\n",
              "      <td>-2.4390</td>\n",
              "      <td>0.1591</td>\n",
              "      <td>-2.2490</td>\n",
              "      <td>-2.5860</td>\n",
              "      <td>-1.9520</td>\n",
              "      <td>-2.1810</td>\n",
              "      <td>-4.6690</td>\n",
              "      <td>-3.9450</td>\n",
              "      <td>-2.9560</td>\n",
              "      <td>-2.7930</td>\n",
              "      <td>-2.1560</td>\n",
              "      <td>-2.4100</td>\n",
              "      <td>-1.8190</td>\n",
              "      <td>-3.3480</td>\n",
              "      <td>-0.1414</td>\n",
              "      <td>-2.6430</td>\n",
              "      <td>-2.5810</td>\n",
              "      <td>-3.3890</td>\n",
              "      <td>-1.7450</td>\n",
              "      <td>-6.6300</td>\n",
              "      <td>-4.0950</td>\n",
              "      <td>-7.3860</td>\n",
              "      <td>-1.4160</td>\n",
              "      <td>-3.5770</td>\n",
              "      <td>-0.4775</td>\n",
              "      <td>-2.1500</td>\n",
              "      <td>-4.2520</td>\n",
              "    </tr>\n",
              "  </tbody>\n",
              "</table>\n",
              "<p>23814 rows × 877 columns</p>\n",
              "</div>"
            ],
            "text/plain": [
              "                 id    tratamento  tempo dose  ...     c96     c97     c98     c99\n",
              "0      id_000644bb2     com_droga     24   D1  ... -0.3981  0.2139  0.3801  0.4176\n",
              "1      id_000779bfc     com_droga     72   D1  ...  0.1522  0.1241  0.6077  0.7371\n",
              "2      id_000a6266a     com_droga     48   D1  ... -0.6417 -0.2187 -1.4080  0.6931\n",
              "3      id_0015fd391     com_droga     48   D1  ... -1.6210 -0.8784 -0.3876 -0.8154\n",
              "4      id_001626bd3     com_droga     72   D2  ...  0.1094  0.2885 -0.3786  0.7125\n",
              "...             ...           ...    ...  ...  ...     ...     ...     ...     ...\n",
              "23809  id_fffb1ceed     com_droga     24   D2  ...  0.0631  0.9171  0.5258  0.4680\n",
              "23810  id_fffb70c0c     com_droga     24   D2  ... -0.2084 -0.1224 -0.2715  0.3689\n",
              "23811  id_fffc1c3f4  com_controle     48   D2  ...  0.2256  0.7592  0.6656  0.3808\n",
              "23812  id_fffcb9e7c     com_droga     24   D1  ...  0.1732  0.7015 -0.6290  0.0740\n",
              "23813  id_ffffdd77b     com_droga     72   D1  ... -3.5770 -0.4775 -2.1500 -4.2520\n",
              "\n",
              "[23814 rows x 877 columns]"
            ]
          },
          "metadata": {
            "tags": []
          },
          "execution_count": 2
        }
      ]
    },
    {
      "cell_type": "markdown",
      "metadata": {
        "id": "n0fOMy_SwV8t"
      },
      "source": [
        "Nós utilizamos o Pandas para abrir o dataset, que estava no formato CSV, e para gerar um dataframe, uma tabela, para então começarmos a analisar e entender o que significava cada coluna. "
      ]
    },
    {
      "cell_type": "markdown",
      "metadata": {
        "id": "fNOrZT7Owset"
      },
      "source": [
        "\n",
        "Queremos melhorar a visualização do nosso histograma de compostos e, como existem mais de 3.000 variações na nossa base de dados, decidimos elencar os 5 compostos que mais aparecem. Para isso, vamos usar a função value_counts (função presente na biblioteca Pandas e que conta a ocorrência dos diferentes valores) e, como queremos saber somente os 5 elementos mais frequentes, também declaramos o index[0:5]. Essa parte final, faz com que o value_countsse atenha à contagem dos maiores valores e apresente como resultado apenas o index do intervalo [0, 5[, ou seja, o nome dos 5 maiores valores."
      ]
    },
    {
      "cell_type": "code",
      "metadata": {
        "colab": {
          "base_uri": "https://localhost:8080/"
        },
        "id": "o-2qsiyoBrv-",
        "outputId": "31ff997f-4e05-4586-9839-68a7aba504e4"
      },
      "source": [
        "compostos = dados['composto'].value_counts()[0:5] # pega os 5 primeiros elementos, poderia usar ().index[:5]\n",
        "compostos"
      ],
      "execution_count": null,
      "outputs": [
        {
          "output_type": "execute_result",
          "data": {
            "text/plain": [
              "cacb2b860    1866\n",
              "87d714366     718\n",
              "9f80f3f77     246\n",
              "8b87a7a83     203\n",
              "5628cb3ee     202\n",
              "Name: composto, dtype: int64"
            ]
          },
          "metadata": {
            "tags": []
          },
          "execution_count": 3
        }
      ]
    },
    {
      "cell_type": "code",
      "metadata": {
        "colab": {
          "base_uri": "https://localhost:8080/"
        },
        "id": "HFojYfo4Ci9M",
        "outputId": "1c7a2f3b-d877-4dc4-daa9-df0293fa98a3"
      },
      "source": [
        "compostos.index"
      ],
      "execution_count": null,
      "outputs": [
        {
          "output_type": "execute_result",
          "data": {
            "text/plain": [
              "Index(['cacb2b860', '87d714366', '9f80f3f77', '8b87a7a83', '5628cb3ee'], dtype='object')"
            ]
          },
          "metadata": {
            "tags": []
          },
          "execution_count": 4
        }
      ]
    },
    {
      "cell_type": "code",
      "metadata": {
        "colab": {
          "base_uri": "https://localhost:8080/",
          "height": 435
        },
        "id": "XttvfgwNCZSI",
        "outputId": "8ef2ba3c-0899-4751-8948-8cd4f81a7113"
      },
      "source": [
        "cod_compostos = compostos.index\n",
        "dados.query('composto in @cod_compostos') #@ para referenciar a variável cod_compostos"
      ],
      "execution_count": null,
      "outputs": [
        {
          "output_type": "execute_result",
          "data": {
            "text/html": [
              "<div>\n",
              "<style scoped>\n",
              "    .dataframe tbody tr th:only-of-type {\n",
              "        vertical-align: middle;\n",
              "    }\n",
              "\n",
              "    .dataframe tbody tr th {\n",
              "        vertical-align: top;\n",
              "    }\n",
              "\n",
              "    .dataframe thead th {\n",
              "        text-align: right;\n",
              "    }\n",
              "</style>\n",
              "<table border=\"1\" class=\"dataframe\">\n",
              "  <thead>\n",
              "    <tr style=\"text-align: right;\">\n",
              "      <th></th>\n",
              "      <th>id</th>\n",
              "      <th>tratamento</th>\n",
              "      <th>tempo</th>\n",
              "      <th>dose</th>\n",
              "      <th>composto</th>\n",
              "      <th>g0</th>\n",
              "      <th>g1</th>\n",
              "      <th>g2</th>\n",
              "      <th>g3</th>\n",
              "      <th>g4</th>\n",
              "      <th>g5</th>\n",
              "      <th>g6</th>\n",
              "      <th>g7</th>\n",
              "      <th>g8</th>\n",
              "      <th>g9</th>\n",
              "      <th>g10</th>\n",
              "      <th>g11</th>\n",
              "      <th>g12</th>\n",
              "      <th>g13</th>\n",
              "      <th>g14</th>\n",
              "      <th>g15</th>\n",
              "      <th>g16</th>\n",
              "      <th>g17</th>\n",
              "      <th>g18</th>\n",
              "      <th>g19</th>\n",
              "      <th>g20</th>\n",
              "      <th>g21</th>\n",
              "      <th>g22</th>\n",
              "      <th>g23</th>\n",
              "      <th>g24</th>\n",
              "      <th>g25</th>\n",
              "      <th>g26</th>\n",
              "      <th>g27</th>\n",
              "      <th>g28</th>\n",
              "      <th>g29</th>\n",
              "      <th>g30</th>\n",
              "      <th>g31</th>\n",
              "      <th>g32</th>\n",
              "      <th>g33</th>\n",
              "      <th>g34</th>\n",
              "      <th>...</th>\n",
              "      <th>c60</th>\n",
              "      <th>c61</th>\n",
              "      <th>c62</th>\n",
              "      <th>c63</th>\n",
              "      <th>c64</th>\n",
              "      <th>c65</th>\n",
              "      <th>c66</th>\n",
              "      <th>c67</th>\n",
              "      <th>c68</th>\n",
              "      <th>c69</th>\n",
              "      <th>c70</th>\n",
              "      <th>c71</th>\n",
              "      <th>c72</th>\n",
              "      <th>c73</th>\n",
              "      <th>c74</th>\n",
              "      <th>c75</th>\n",
              "      <th>c76</th>\n",
              "      <th>c77</th>\n",
              "      <th>c78</th>\n",
              "      <th>c79</th>\n",
              "      <th>c80</th>\n",
              "      <th>c81</th>\n",
              "      <th>c82</th>\n",
              "      <th>c83</th>\n",
              "      <th>c84</th>\n",
              "      <th>c85</th>\n",
              "      <th>c86</th>\n",
              "      <th>c87</th>\n",
              "      <th>c88</th>\n",
              "      <th>c89</th>\n",
              "      <th>c90</th>\n",
              "      <th>c91</th>\n",
              "      <th>c92</th>\n",
              "      <th>c93</th>\n",
              "      <th>c94</th>\n",
              "      <th>c95</th>\n",
              "      <th>c96</th>\n",
              "      <th>c97</th>\n",
              "      <th>c98</th>\n",
              "      <th>c99</th>\n",
              "    </tr>\n",
              "  </thead>\n",
              "  <tbody>\n",
              "    <tr>\n",
              "      <th>7</th>\n",
              "      <td>id_0020d0484</td>\n",
              "      <td>com_droga</td>\n",
              "      <td>48</td>\n",
              "      <td>D1</td>\n",
              "      <td>8b87a7a83</td>\n",
              "      <td>0.2711</td>\n",
              "      <td>0.5133</td>\n",
              "      <td>-0.1327</td>\n",
              "      <td>2.5950</td>\n",
              "      <td>0.6980</td>\n",
              "      <td>0.5846</td>\n",
              "      <td>-0.2633</td>\n",
              "      <td>-2.1490</td>\n",
              "      <td>0.4881</td>\n",
              "      <td>1.4750</td>\n",
              "      <td>-0.0488</td>\n",
              "      <td>-0.0561</td>\n",
              "      <td>0.1641</td>\n",
              "      <td>0.1749</td>\n",
              "      <td>-0.3464</td>\n",
              "      <td>-0.1811</td>\n",
              "      <td>0.5685</td>\n",
              "      <td>1.2970</td>\n",
              "      <td>1.0510</td>\n",
              "      <td>-0.9585</td>\n",
              "      <td>0.7911</td>\n",
              "      <td>-0.2991</td>\n",
              "      <td>2.7420</td>\n",
              "      <td>-0.5979</td>\n",
              "      <td>-1.0240</td>\n",
              "      <td>0.7268</td>\n",
              "      <td>0.1590</td>\n",
              "      <td>-1.9730</td>\n",
              "      <td>1.1340</td>\n",
              "      <td>-2.5720</td>\n",
              "      <td>0.2068</td>\n",
              "      <td>0.9992</td>\n",
              "      <td>-0.1958</td>\n",
              "      <td>0.2262</td>\n",
              "      <td>1.0140</td>\n",
              "      <td>...</td>\n",
              "      <td>-0.2623</td>\n",
              "      <td>-0.5500</td>\n",
              "      <td>-0.0530</td>\n",
              "      <td>0.2077</td>\n",
              "      <td>-0.0825</td>\n",
              "      <td>0.2156</td>\n",
              "      <td>0.8142</td>\n",
              "      <td>1.0990</td>\n",
              "      <td>1.0860</td>\n",
              "      <td>0.4011</td>\n",
              "      <td>-0.1342</td>\n",
              "      <td>0.4653</td>\n",
              "      <td>-0.1104</td>\n",
              "      <td>0.3935</td>\n",
              "      <td>1.2370</td>\n",
              "      <td>-0.5072</td>\n",
              "      <td>0.0351</td>\n",
              "      <td>0.5084</td>\n",
              "      <td>-0.1248</td>\n",
              "      <td>0.4351</td>\n",
              "      <td>0.1389</td>\n",
              "      <td>0.6726</td>\n",
              "      <td>0.6070</td>\n",
              "      <td>0.3431</td>\n",
              "      <td>-0.4116</td>\n",
              "      <td>0.1194</td>\n",
              "      <td>0.3420</td>\n",
              "      <td>0.1331</td>\n",
              "      <td>0.8541</td>\n",
              "      <td>0.6282</td>\n",
              "      <td>0.3230</td>\n",
              "      <td>-0.4140</td>\n",
              "      <td>0.2532</td>\n",
              "      <td>0.0513</td>\n",
              "      <td>0.8600</td>\n",
              "      <td>1.4250</td>\n",
              "      <td>0.6633</td>\n",
              "      <td>0.4562</td>\n",
              "      <td>-0.9622</td>\n",
              "      <td>0.0260</td>\n",
              "    </tr>\n",
              "    <tr>\n",
              "      <th>16</th>\n",
              "      <td>id_002fb9c19</td>\n",
              "      <td>com_droga</td>\n",
              "      <td>48</td>\n",
              "      <td>D1</td>\n",
              "      <td>87d714366</td>\n",
              "      <td>8.7380</td>\n",
              "      <td>0.1914</td>\n",
              "      <td>2.4380</td>\n",
              "      <td>-0.2930</td>\n",
              "      <td>3.2010</td>\n",
              "      <td>1.4910</td>\n",
              "      <td>5.3920</td>\n",
              "      <td>-1.0420</td>\n",
              "      <td>-8.4860</td>\n",
              "      <td>-2.5790</td>\n",
              "      <td>-6.7470</td>\n",
              "      <td>3.6150</td>\n",
              "      <td>-1.4510</td>\n",
              "      <td>0.6909</td>\n",
              "      <td>-0.7623</td>\n",
              "      <td>-2.9400</td>\n",
              "      <td>-9.2850</td>\n",
              "      <td>-6.7110</td>\n",
              "      <td>-0.4195</td>\n",
              "      <td>1.1600</td>\n",
              "      <td>-1.3180</td>\n",
              "      <td>1.3660</td>\n",
              "      <td>-1.4020</td>\n",
              "      <td>-2.6220</td>\n",
              "      <td>0.7204</td>\n",
              "      <td>-2.5930</td>\n",
              "      <td>-4.0630</td>\n",
              "      <td>-0.8282</td>\n",
              "      <td>-3.5000</td>\n",
              "      <td>0.9206</td>\n",
              "      <td>-5.1450</td>\n",
              "      <td>9.8040</td>\n",
              "      <td>-2.6840</td>\n",
              "      <td>-2.4390</td>\n",
              "      <td>-0.1427</td>\n",
              "      <td>...</td>\n",
              "      <td>-10.0000</td>\n",
              "      <td>-9.5910</td>\n",
              "      <td>-10.0000</td>\n",
              "      <td>-10.0000</td>\n",
              "      <td>-8.5110</td>\n",
              "      <td>-10.0000</td>\n",
              "      <td>-10.0000</td>\n",
              "      <td>-10.0000</td>\n",
              "      <td>-10.0000</td>\n",
              "      <td>-8.8870</td>\n",
              "      <td>-10.0000</td>\n",
              "      <td>-10.0000</td>\n",
              "      <td>-10.0000</td>\n",
              "      <td>-10.0000</td>\n",
              "      <td>-4.9020</td>\n",
              "      <td>-9.9840</td>\n",
              "      <td>-5.5520</td>\n",
              "      <td>-9.9840</td>\n",
              "      <td>-9.9840</td>\n",
              "      <td>-9.9840</td>\n",
              "      <td>-9.9840</td>\n",
              "      <td>-9.9840</td>\n",
              "      <td>-9.9840</td>\n",
              "      <td>-9.9840</td>\n",
              "      <td>-9.9840</td>\n",
              "      <td>-9.9840</td>\n",
              "      <td>-9.7960</td>\n",
              "      <td>-8.1770</td>\n",
              "      <td>-9.8990</td>\n",
              "      <td>-9.9840</td>\n",
              "      <td>-9.9840</td>\n",
              "      <td>-9.9840</td>\n",
              "      <td>-9.9840</td>\n",
              "      <td>-9.9840</td>\n",
              "      <td>-9.9840</td>\n",
              "      <td>-9.9840</td>\n",
              "      <td>-9.9840</td>\n",
              "      <td>-9.9840</td>\n",
              "      <td>-9.9840</td>\n",
              "      <td>-6.7840</td>\n",
              "    </tr>\n",
              "    <tr>\n",
              "      <th>25</th>\n",
              "      <td>id_0054388ec</td>\n",
              "      <td>com_controle</td>\n",
              "      <td>48</td>\n",
              "      <td>D1</td>\n",
              "      <td>cacb2b860</td>\n",
              "      <td>-0.6696</td>\n",
              "      <td>-0.2718</td>\n",
              "      <td>-1.2230</td>\n",
              "      <td>-0.6226</td>\n",
              "      <td>-0.7220</td>\n",
              "      <td>0.1588</td>\n",
              "      <td>0.7785</td>\n",
              "      <td>0.7062</td>\n",
              "      <td>-0.7951</td>\n",
              "      <td>1.3770</td>\n",
              "      <td>0.2856</td>\n",
              "      <td>-0.8331</td>\n",
              "      <td>0.3879</td>\n",
              "      <td>1.3290</td>\n",
              "      <td>-0.4746</td>\n",
              "      <td>0.0857</td>\n",
              "      <td>-0.2745</td>\n",
              "      <td>-0.1093</td>\n",
              "      <td>0.2603</td>\n",
              "      <td>0.7386</td>\n",
              "      <td>-0.6665</td>\n",
              "      <td>-1.6520</td>\n",
              "      <td>-0.9262</td>\n",
              "      <td>0.0000</td>\n",
              "      <td>1.6310</td>\n",
              "      <td>-0.2933</td>\n",
              "      <td>0.2043</td>\n",
              "      <td>-2.2070</td>\n",
              "      <td>0.1383</td>\n",
              "      <td>-0.4966</td>\n",
              "      <td>0.6922</td>\n",
              "      <td>-0.4077</td>\n",
              "      <td>0.2303</td>\n",
              "      <td>-0.0456</td>\n",
              "      <td>-0.7447</td>\n",
              "      <td>...</td>\n",
              "      <td>0.6976</td>\n",
              "      <td>-0.0178</td>\n",
              "      <td>0.3768</td>\n",
              "      <td>0.4318</td>\n",
              "      <td>-0.1051</td>\n",
              "      <td>0.3933</td>\n",
              "      <td>-0.3189</td>\n",
              "      <td>0.4128</td>\n",
              "      <td>-0.2116</td>\n",
              "      <td>-1.0410</td>\n",
              "      <td>0.7798</td>\n",
              "      <td>0.1579</td>\n",
              "      <td>1.7250</td>\n",
              "      <td>1.4490</td>\n",
              "      <td>0.9117</td>\n",
              "      <td>-0.0754</td>\n",
              "      <td>-0.8396</td>\n",
              "      <td>0.7640</td>\n",
              "      <td>1.2080</td>\n",
              "      <td>1.1890</td>\n",
              "      <td>0.2114</td>\n",
              "      <td>0.6335</td>\n",
              "      <td>0.3265</td>\n",
              "      <td>-0.1056</td>\n",
              "      <td>0.5478</td>\n",
              "      <td>0.7477</td>\n",
              "      <td>1.2340</td>\n",
              "      <td>0.5035</td>\n",
              "      <td>-0.6591</td>\n",
              "      <td>0.3023</td>\n",
              "      <td>0.6171</td>\n",
              "      <td>0.6405</td>\n",
              "      <td>0.5429</td>\n",
              "      <td>0.3562</td>\n",
              "      <td>1.3290</td>\n",
              "      <td>0.5573</td>\n",
              "      <td>0.8837</td>\n",
              "      <td>0.5534</td>\n",
              "      <td>0.8976</td>\n",
              "      <td>1.0050</td>\n",
              "    </tr>\n",
              "    <tr>\n",
              "      <th>38</th>\n",
              "      <td>id_0079af0fb</td>\n",
              "      <td>com_controle</td>\n",
              "      <td>24</td>\n",
              "      <td>D1</td>\n",
              "      <td>cacb2b860</td>\n",
              "      <td>-0.1636</td>\n",
              "      <td>-1.8230</td>\n",
              "      <td>-0.5211</td>\n",
              "      <td>0.3054</td>\n",
              "      <td>-1.1280</td>\n",
              "      <td>0.6041</td>\n",
              "      <td>0.3856</td>\n",
              "      <td>-0.1670</td>\n",
              "      <td>-0.5400</td>\n",
              "      <td>0.2721</td>\n",
              "      <td>-0.2479</td>\n",
              "      <td>0.0761</td>\n",
              "      <td>-0.4054</td>\n",
              "      <td>2.9760</td>\n",
              "      <td>-0.7679</td>\n",
              "      <td>0.6995</td>\n",
              "      <td>0.0752</td>\n",
              "      <td>0.5943</td>\n",
              "      <td>0.4266</td>\n",
              "      <td>0.0000</td>\n",
              "      <td>1.0410</td>\n",
              "      <td>-0.1131</td>\n",
              "      <td>0.6593</td>\n",
              "      <td>-0.6890</td>\n",
              "      <td>0.5115</td>\n",
              "      <td>-0.2512</td>\n",
              "      <td>-0.8775</td>\n",
              "      <td>-1.3810</td>\n",
              "      <td>0.1419</td>\n",
              "      <td>-0.0363</td>\n",
              "      <td>0.2559</td>\n",
              "      <td>2.5290</td>\n",
              "      <td>0.2853</td>\n",
              "      <td>1.4690</td>\n",
              "      <td>-0.3626</td>\n",
              "      <td>...</td>\n",
              "      <td>-0.3420</td>\n",
              "      <td>0.2815</td>\n",
              "      <td>-0.7493</td>\n",
              "      <td>-0.2701</td>\n",
              "      <td>0.1205</td>\n",
              "      <td>0.2396</td>\n",
              "      <td>0.3506</td>\n",
              "      <td>-0.9233</td>\n",
              "      <td>0.2490</td>\n",
              "      <td>-0.0824</td>\n",
              "      <td>0.4841</td>\n",
              "      <td>1.1940</td>\n",
              "      <td>-1.1650</td>\n",
              "      <td>-0.4853</td>\n",
              "      <td>1.1080</td>\n",
              "      <td>-0.5979</td>\n",
              "      <td>0.7438</td>\n",
              "      <td>0.2050</td>\n",
              "      <td>-0.2761</td>\n",
              "      <td>-0.1748</td>\n",
              "      <td>0.3385</td>\n",
              "      <td>-0.3500</td>\n",
              "      <td>-0.0309</td>\n",
              "      <td>-0.0409</td>\n",
              "      <td>-0.0735</td>\n",
              "      <td>0.2732</td>\n",
              "      <td>-1.2100</td>\n",
              "      <td>0.0089</td>\n",
              "      <td>0.0317</td>\n",
              "      <td>0.4721</td>\n",
              "      <td>-0.3880</td>\n",
              "      <td>-0.6828</td>\n",
              "      <td>-0.6594</td>\n",
              "      <td>-0.2043</td>\n",
              "      <td>0.3571</td>\n",
              "      <td>-0.1319</td>\n",
              "      <td>0.2187</td>\n",
              "      <td>0.0737</td>\n",
              "      <td>0.6498</td>\n",
              "      <td>-1.4820</td>\n",
              "    </tr>\n",
              "    <tr>\n",
              "      <th>40</th>\n",
              "      <td>id_007bfbb91</td>\n",
              "      <td>com_controle</td>\n",
              "      <td>24</td>\n",
              "      <td>D2</td>\n",
              "      <td>cacb2b860</td>\n",
              "      <td>-1.3200</td>\n",
              "      <td>-1.7340</td>\n",
              "      <td>-0.0741</td>\n",
              "      <td>1.5440</td>\n",
              "      <td>-1.8290</td>\n",
              "      <td>-0.0951</td>\n",
              "      <td>0.3829</td>\n",
              "      <td>-1.8700</td>\n",
              "      <td>-0.0324</td>\n",
              "      <td>2.7670</td>\n",
              "      <td>-0.0438</td>\n",
              "      <td>-0.0147</td>\n",
              "      <td>0.1276</td>\n",
              "      <td>0.2968</td>\n",
              "      <td>-0.0704</td>\n",
              "      <td>-0.3767</td>\n",
              "      <td>2.5790</td>\n",
              "      <td>0.4069</td>\n",
              "      <td>-0.3868</td>\n",
              "      <td>-0.2782</td>\n",
              "      <td>1.8180</td>\n",
              "      <td>-2.9390</td>\n",
              "      <td>-0.1150</td>\n",
              "      <td>-0.8009</td>\n",
              "      <td>-1.4440</td>\n",
              "      <td>0.5412</td>\n",
              "      <td>-0.0804</td>\n",
              "      <td>-0.4444</td>\n",
              "      <td>2.9230</td>\n",
              "      <td>2.8270</td>\n",
              "      <td>-0.3437</td>\n",
              "      <td>1.6570</td>\n",
              "      <td>-1.9200</td>\n",
              "      <td>0.3442</td>\n",
              "      <td>1.7160</td>\n",
              "      <td>...</td>\n",
              "      <td>0.4009</td>\n",
              "      <td>0.7649</td>\n",
              "      <td>0.2789</td>\n",
              "      <td>0.4465</td>\n",
              "      <td>0.9492</td>\n",
              "      <td>0.6385</td>\n",
              "      <td>1.5510</td>\n",
              "      <td>-0.1220</td>\n",
              "      <td>0.6688</td>\n",
              "      <td>0.4396</td>\n",
              "      <td>0.6947</td>\n",
              "      <td>0.9761</td>\n",
              "      <td>1.2430</td>\n",
              "      <td>1.4770</td>\n",
              "      <td>-0.0081</td>\n",
              "      <td>1.0040</td>\n",
              "      <td>1.4420</td>\n",
              "      <td>-0.3482</td>\n",
              "      <td>0.3297</td>\n",
              "      <td>1.2070</td>\n",
              "      <td>0.0524</td>\n",
              "      <td>0.5346</td>\n",
              "      <td>0.7643</td>\n",
              "      <td>0.4067</td>\n",
              "      <td>0.3817</td>\n",
              "      <td>0.4566</td>\n",
              "      <td>0.7736</td>\n",
              "      <td>0.5316</td>\n",
              "      <td>0.2790</td>\n",
              "      <td>0.9735</td>\n",
              "      <td>0.7412</td>\n",
              "      <td>1.0340</td>\n",
              "      <td>0.7393</td>\n",
              "      <td>1.1020</td>\n",
              "      <td>0.3786</td>\n",
              "      <td>0.2636</td>\n",
              "      <td>-0.5751</td>\n",
              "      <td>0.3362</td>\n",
              "      <td>0.8543</td>\n",
              "      <td>0.9180</td>\n",
              "    </tr>\n",
              "    <tr>\n",
              "      <th>...</th>\n",
              "      <td>...</td>\n",
              "      <td>...</td>\n",
              "      <td>...</td>\n",
              "      <td>...</td>\n",
              "      <td>...</td>\n",
              "      <td>...</td>\n",
              "      <td>...</td>\n",
              "      <td>...</td>\n",
              "      <td>...</td>\n",
              "      <td>...</td>\n",
              "      <td>...</td>\n",
              "      <td>...</td>\n",
              "      <td>...</td>\n",
              "      <td>...</td>\n",
              "      <td>...</td>\n",
              "      <td>...</td>\n",
              "      <td>...</td>\n",
              "      <td>...</td>\n",
              "      <td>...</td>\n",
              "      <td>...</td>\n",
              "      <td>...</td>\n",
              "      <td>...</td>\n",
              "      <td>...</td>\n",
              "      <td>...</td>\n",
              "      <td>...</td>\n",
              "      <td>...</td>\n",
              "      <td>...</td>\n",
              "      <td>...</td>\n",
              "      <td>...</td>\n",
              "      <td>...</td>\n",
              "      <td>...</td>\n",
              "      <td>...</td>\n",
              "      <td>...</td>\n",
              "      <td>...</td>\n",
              "      <td>...</td>\n",
              "      <td>...</td>\n",
              "      <td>...</td>\n",
              "      <td>...</td>\n",
              "      <td>...</td>\n",
              "      <td>...</td>\n",
              "      <td>...</td>\n",
              "      <td>...</td>\n",
              "      <td>...</td>\n",
              "      <td>...</td>\n",
              "      <td>...</td>\n",
              "      <td>...</td>\n",
              "      <td>...</td>\n",
              "      <td>...</td>\n",
              "      <td>...</td>\n",
              "      <td>...</td>\n",
              "      <td>...</td>\n",
              "      <td>...</td>\n",
              "      <td>...</td>\n",
              "      <td>...</td>\n",
              "      <td>...</td>\n",
              "      <td>...</td>\n",
              "      <td>...</td>\n",
              "      <td>...</td>\n",
              "      <td>...</td>\n",
              "      <td>...</td>\n",
              "      <td>...</td>\n",
              "      <td>...</td>\n",
              "      <td>...</td>\n",
              "      <td>...</td>\n",
              "      <td>...</td>\n",
              "      <td>...</td>\n",
              "      <td>...</td>\n",
              "      <td>...</td>\n",
              "      <td>...</td>\n",
              "      <td>...</td>\n",
              "      <td>...</td>\n",
              "      <td>...</td>\n",
              "      <td>...</td>\n",
              "      <td>...</td>\n",
              "      <td>...</td>\n",
              "      <td>...</td>\n",
              "      <td>...</td>\n",
              "      <td>...</td>\n",
              "      <td>...</td>\n",
              "      <td>...</td>\n",
              "      <td>...</td>\n",
              "    </tr>\n",
              "    <tr>\n",
              "      <th>23793</th>\n",
              "      <td>id_ffd26f361</td>\n",
              "      <td>com_controle</td>\n",
              "      <td>48</td>\n",
              "      <td>D2</td>\n",
              "      <td>cacb2b860</td>\n",
              "      <td>0.6008</td>\n",
              "      <td>0.2781</td>\n",
              "      <td>-0.3319</td>\n",
              "      <td>-0.8782</td>\n",
              "      <td>0.9281</td>\n",
              "      <td>0.7535</td>\n",
              "      <td>0.5971</td>\n",
              "      <td>1.6350</td>\n",
              "      <td>-0.3146</td>\n",
              "      <td>0.4984</td>\n",
              "      <td>-1.1890</td>\n",
              "      <td>0.3772</td>\n",
              "      <td>-0.8196</td>\n",
              "      <td>0.1083</td>\n",
              "      <td>-2.0350</td>\n",
              "      <td>0.4135</td>\n",
              "      <td>0.7586</td>\n",
              "      <td>-0.4024</td>\n",
              "      <td>-0.0449</td>\n",
              "      <td>0.3335</td>\n",
              "      <td>0.2358</td>\n",
              "      <td>0.7919</td>\n",
              "      <td>-0.8775</td>\n",
              "      <td>0.4232</td>\n",
              "      <td>1.8460</td>\n",
              "      <td>-2.0940</td>\n",
              "      <td>0.1438</td>\n",
              "      <td>-0.6604</td>\n",
              "      <td>0.7243</td>\n",
              "      <td>0.0338</td>\n",
              "      <td>-0.0182</td>\n",
              "      <td>-0.2022</td>\n",
              "      <td>0.8827</td>\n",
              "      <td>0.3147</td>\n",
              "      <td>-0.9263</td>\n",
              "      <td>...</td>\n",
              "      <td>0.1934</td>\n",
              "      <td>1.2240</td>\n",
              "      <td>-0.1178</td>\n",
              "      <td>0.1459</td>\n",
              "      <td>-0.1242</td>\n",
              "      <td>0.3106</td>\n",
              "      <td>-0.7959</td>\n",
              "      <td>0.5681</td>\n",
              "      <td>0.3663</td>\n",
              "      <td>0.4874</td>\n",
              "      <td>-0.0548</td>\n",
              "      <td>0.1810</td>\n",
              "      <td>1.3470</td>\n",
              "      <td>1.6210</td>\n",
              "      <td>-0.8260</td>\n",
              "      <td>0.3377</td>\n",
              "      <td>0.3264</td>\n",
              "      <td>0.9241</td>\n",
              "      <td>0.3012</td>\n",
              "      <td>1.2980</td>\n",
              "      <td>-0.2789</td>\n",
              "      <td>0.7019</td>\n",
              "      <td>-0.3528</td>\n",
              "      <td>0.7383</td>\n",
              "      <td>1.0300</td>\n",
              "      <td>0.6527</td>\n",
              "      <td>1.6750</td>\n",
              "      <td>-0.5046</td>\n",
              "      <td>0.2942</td>\n",
              "      <td>0.2950</td>\n",
              "      <td>1.2470</td>\n",
              "      <td>0.9569</td>\n",
              "      <td>-0.2065</td>\n",
              "      <td>-0.4918</td>\n",
              "      <td>0.7863</td>\n",
              "      <td>0.0504</td>\n",
              "      <td>0.8813</td>\n",
              "      <td>0.7757</td>\n",
              "      <td>-0.5272</td>\n",
              "      <td>0.7082</td>\n",
              "    </tr>\n",
              "    <tr>\n",
              "      <th>23802</th>\n",
              "      <td>id_fff3976bd</td>\n",
              "      <td>com_droga</td>\n",
              "      <td>24</td>\n",
              "      <td>D1</td>\n",
              "      <td>87d714366</td>\n",
              "      <td>3.2890</td>\n",
              "      <td>2.1270</td>\n",
              "      <td>0.9770</td>\n",
              "      <td>2.0490</td>\n",
              "      <td>2.3170</td>\n",
              "      <td>-0.5355</td>\n",
              "      <td>-0.6357</td>\n",
              "      <td>-6.9060</td>\n",
              "      <td>-4.4830</td>\n",
              "      <td>-2.8400</td>\n",
              "      <td>-5.3310</td>\n",
              "      <td>0.6547</td>\n",
              "      <td>-2.2080</td>\n",
              "      <td>3.6030</td>\n",
              "      <td>0.6380</td>\n",
              "      <td>-2.1280</td>\n",
              "      <td>-3.1680</td>\n",
              "      <td>-4.2180</td>\n",
              "      <td>-0.3170</td>\n",
              "      <td>0.2140</td>\n",
              "      <td>-1.7660</td>\n",
              "      <td>-1.9700</td>\n",
              "      <td>-1.4820</td>\n",
              "      <td>-1.3710</td>\n",
              "      <td>-0.2628</td>\n",
              "      <td>-0.5276</td>\n",
              "      <td>-2.4160</td>\n",
              "      <td>-0.4638</td>\n",
              "      <td>-3.8630</td>\n",
              "      <td>-0.8880</td>\n",
              "      <td>-1.9850</td>\n",
              "      <td>2.0530</td>\n",
              "      <td>-1.4700</td>\n",
              "      <td>-3.3220</td>\n",
              "      <td>1.8800</td>\n",
              "      <td>...</td>\n",
              "      <td>-9.9170</td>\n",
              "      <td>-4.0200</td>\n",
              "      <td>-6.7560</td>\n",
              "      <td>-9.9170</td>\n",
              "      <td>-4.1240</td>\n",
              "      <td>-8.5110</td>\n",
              "      <td>-5.7500</td>\n",
              "      <td>-8.4760</td>\n",
              "      <td>-6.9470</td>\n",
              "      <td>-4.7650</td>\n",
              "      <td>-9.7690</td>\n",
              "      <td>-5.7900</td>\n",
              "      <td>-9.9170</td>\n",
              "      <td>-5.7450</td>\n",
              "      <td>-2.3570</td>\n",
              "      <td>-9.1190</td>\n",
              "      <td>-4.5980</td>\n",
              "      <td>-8.7760</td>\n",
              "      <td>-7.7980</td>\n",
              "      <td>-4.1620</td>\n",
              "      <td>-6.1510</td>\n",
              "      <td>-5.7400</td>\n",
              "      <td>-6.8700</td>\n",
              "      <td>-9.1000</td>\n",
              "      <td>-3.3360</td>\n",
              "      <td>-6.6420</td>\n",
              "      <td>-2.2750</td>\n",
              "      <td>-3.4720</td>\n",
              "      <td>-6.2670</td>\n",
              "      <td>-6.3980</td>\n",
              "      <td>-8.6300</td>\n",
              "      <td>-8.1490</td>\n",
              "      <td>-6.2900</td>\n",
              "      <td>-8.0970</td>\n",
              "      <td>-8.7330</td>\n",
              "      <td>-2.3780</td>\n",
              "      <td>-8.4480</td>\n",
              "      <td>-4.4550</td>\n",
              "      <td>-5.7930</td>\n",
              "      <td>-3.7000</td>\n",
              "    </tr>\n",
              "    <tr>\n",
              "      <th>23805</th>\n",
              "      <td>id_fff6df1c5</td>\n",
              "      <td>com_droga</td>\n",
              "      <td>48</td>\n",
              "      <td>D2</td>\n",
              "      <td>5628cb3ee</td>\n",
              "      <td>1.7380</td>\n",
              "      <td>-1.2900</td>\n",
              "      <td>-0.4533</td>\n",
              "      <td>-1.1640</td>\n",
              "      <td>-0.4841</td>\n",
              "      <td>-0.2392</td>\n",
              "      <td>-0.1774</td>\n",
              "      <td>-1.3980</td>\n",
              "      <td>-0.4059</td>\n",
              "      <td>0.1553</td>\n",
              "      <td>0.1083</td>\n",
              "      <td>-0.8020</td>\n",
              "      <td>-0.5039</td>\n",
              "      <td>-0.7167</td>\n",
              "      <td>-0.5016</td>\n",
              "      <td>-0.9369</td>\n",
              "      <td>-0.5864</td>\n",
              "      <td>-0.1009</td>\n",
              "      <td>0.8987</td>\n",
              "      <td>0.3389</td>\n",
              "      <td>-1.3460</td>\n",
              "      <td>-0.5087</td>\n",
              "      <td>-0.0892</td>\n",
              "      <td>-0.6559</td>\n",
              "      <td>0.0864</td>\n",
              "      <td>-0.6251</td>\n",
              "      <td>0.2471</td>\n",
              "      <td>-0.4523</td>\n",
              "      <td>-0.0389</td>\n",
              "      <td>1.0340</td>\n",
              "      <td>0.0796</td>\n",
              "      <td>-0.2560</td>\n",
              "      <td>-0.7851</td>\n",
              "      <td>-0.1687</td>\n",
              "      <td>-1.2890</td>\n",
              "      <td>...</td>\n",
              "      <td>0.2866</td>\n",
              "      <td>0.3854</td>\n",
              "      <td>-0.4986</td>\n",
              "      <td>0.2883</td>\n",
              "      <td>0.5843</td>\n",
              "      <td>0.0907</td>\n",
              "      <td>-0.9303</td>\n",
              "      <td>0.1981</td>\n",
              "      <td>0.6515</td>\n",
              "      <td>0.2877</td>\n",
              "      <td>0.4389</td>\n",
              "      <td>-0.3859</td>\n",
              "      <td>0.5203</td>\n",
              "      <td>-1.1070</td>\n",
              "      <td>2.3870</td>\n",
              "      <td>0.1820</td>\n",
              "      <td>-0.6434</td>\n",
              "      <td>-0.9722</td>\n",
              "      <td>-0.4200</td>\n",
              "      <td>-0.5693</td>\n",
              "      <td>1.0700</td>\n",
              "      <td>1.1110</td>\n",
              "      <td>-0.5117</td>\n",
              "      <td>-1.2130</td>\n",
              "      <td>0.3769</td>\n",
              "      <td>0.5296</td>\n",
              "      <td>1.0400</td>\n",
              "      <td>0.0587</td>\n",
              "      <td>1.0150</td>\n",
              "      <td>-0.7669</td>\n",
              "      <td>0.2865</td>\n",
              "      <td>0.5974</td>\n",
              "      <td>-0.2727</td>\n",
              "      <td>0.1188</td>\n",
              "      <td>1.0770</td>\n",
              "      <td>-1.0250</td>\n",
              "      <td>0.1516</td>\n",
              "      <td>0.4503</td>\n",
              "      <td>-0.6312</td>\n",
              "      <td>-0.8302</td>\n",
              "    </tr>\n",
              "    <tr>\n",
              "      <th>23811</th>\n",
              "      <td>id_fffc1c3f4</td>\n",
              "      <td>com_controle</td>\n",
              "      <td>48</td>\n",
              "      <td>D2</td>\n",
              "      <td>cacb2b860</td>\n",
              "      <td>0.3942</td>\n",
              "      <td>0.3756</td>\n",
              "      <td>0.3109</td>\n",
              "      <td>-0.7389</td>\n",
              "      <td>0.5505</td>\n",
              "      <td>-0.0159</td>\n",
              "      <td>-0.2541</td>\n",
              "      <td>0.1745</td>\n",
              "      <td>-0.0340</td>\n",
              "      <td>0.4865</td>\n",
              "      <td>-0.1854</td>\n",
              "      <td>0.0716</td>\n",
              "      <td>0.1729</td>\n",
              "      <td>-0.0434</td>\n",
              "      <td>0.1542</td>\n",
              "      <td>-0.2192</td>\n",
              "      <td>-0.0302</td>\n",
              "      <td>-0.4218</td>\n",
              "      <td>0.4057</td>\n",
              "      <td>-0.5372</td>\n",
              "      <td>0.1521</td>\n",
              "      <td>-0.2651</td>\n",
              "      <td>0.2310</td>\n",
              "      <td>-0.8101</td>\n",
              "      <td>0.4943</td>\n",
              "      <td>0.6905</td>\n",
              "      <td>-0.3720</td>\n",
              "      <td>-1.4110</td>\n",
              "      <td>0.4516</td>\n",
              "      <td>1.2300</td>\n",
              "      <td>-0.1949</td>\n",
              "      <td>-1.3280</td>\n",
              "      <td>-0.4276</td>\n",
              "      <td>-0.0040</td>\n",
              "      <td>-0.3086</td>\n",
              "      <td>...</td>\n",
              "      <td>0.6845</td>\n",
              "      <td>0.7127</td>\n",
              "      <td>0.7294</td>\n",
              "      <td>0.4718</td>\n",
              "      <td>-0.2020</td>\n",
              "      <td>0.2783</td>\n",
              "      <td>0.4934</td>\n",
              "      <td>0.4144</td>\n",
              "      <td>0.5449</td>\n",
              "      <td>1.4690</td>\n",
              "      <td>-0.6142</td>\n",
              "      <td>0.6068</td>\n",
              "      <td>0.3434</td>\n",
              "      <td>0.9880</td>\n",
              "      <td>-0.0468</td>\n",
              "      <td>-0.1882</td>\n",
              "      <td>-0.0087</td>\n",
              "      <td>-0.0356</td>\n",
              "      <td>0.5718</td>\n",
              "      <td>0.4971</td>\n",
              "      <td>0.1057</td>\n",
              "      <td>0.2111</td>\n",
              "      <td>0.6992</td>\n",
              "      <td>0.0708</td>\n",
              "      <td>0.6169</td>\n",
              "      <td>0.2248</td>\n",
              "      <td>0.5994</td>\n",
              "      <td>0.2689</td>\n",
              "      <td>0.0305</td>\n",
              "      <td>1.2320</td>\n",
              "      <td>0.5409</td>\n",
              "      <td>0.3755</td>\n",
              "      <td>0.7343</td>\n",
              "      <td>0.2807</td>\n",
              "      <td>0.4116</td>\n",
              "      <td>0.6422</td>\n",
              "      <td>0.2256</td>\n",
              "      <td>0.7592</td>\n",
              "      <td>0.6656</td>\n",
              "      <td>0.3808</td>\n",
              "    </tr>\n",
              "    <tr>\n",
              "      <th>23812</th>\n",
              "      <td>id_fffcb9e7c</td>\n",
              "      <td>com_droga</td>\n",
              "      <td>24</td>\n",
              "      <td>D1</td>\n",
              "      <td>8b87a7a83</td>\n",
              "      <td>0.6660</td>\n",
              "      <td>0.2324</td>\n",
              "      <td>0.4392</td>\n",
              "      <td>0.2044</td>\n",
              "      <td>0.8531</td>\n",
              "      <td>-0.0343</td>\n",
              "      <td>0.0323</td>\n",
              "      <td>0.0463</td>\n",
              "      <td>0.4299</td>\n",
              "      <td>-0.7985</td>\n",
              "      <td>0.5742</td>\n",
              "      <td>0.1421</td>\n",
              "      <td>2.2700</td>\n",
              "      <td>0.2046</td>\n",
              "      <td>0.5363</td>\n",
              "      <td>-1.7330</td>\n",
              "      <td>0.1450</td>\n",
              "      <td>0.6097</td>\n",
              "      <td>0.2024</td>\n",
              "      <td>0.9865</td>\n",
              "      <td>-0.7805</td>\n",
              "      <td>0.9608</td>\n",
              "      <td>0.3440</td>\n",
              "      <td>2.7650</td>\n",
              "      <td>0.4925</td>\n",
              "      <td>0.6698</td>\n",
              "      <td>0.2374</td>\n",
              "      <td>-0.3372</td>\n",
              "      <td>0.8771</td>\n",
              "      <td>-2.6560</td>\n",
              "      <td>-0.2000</td>\n",
              "      <td>-0.2043</td>\n",
              "      <td>0.6797</td>\n",
              "      <td>-0.0248</td>\n",
              "      <td>-0.0927</td>\n",
              "      <td>...</td>\n",
              "      <td>0.3360</td>\n",
              "      <td>-0.6136</td>\n",
              "      <td>0.5011</td>\n",
              "      <td>0.9261</td>\n",
              "      <td>0.4419</td>\n",
              "      <td>0.0295</td>\n",
              "      <td>0.4220</td>\n",
              "      <td>0.4677</td>\n",
              "      <td>-0.1184</td>\n",
              "      <td>0.4524</td>\n",
              "      <td>0.4135</td>\n",
              "      <td>0.1356</td>\n",
              "      <td>-0.5801</td>\n",
              "      <td>0.0411</td>\n",
              "      <td>1.0240</td>\n",
              "      <td>1.0340</td>\n",
              "      <td>-0.0270</td>\n",
              "      <td>-0.4194</td>\n",
              "      <td>0.7403</td>\n",
              "      <td>-0.6793</td>\n",
              "      <td>-0.1423</td>\n",
              "      <td>0.7307</td>\n",
              "      <td>0.7946</td>\n",
              "      <td>-0.0650</td>\n",
              "      <td>0.9038</td>\n",
              "      <td>0.2324</td>\n",
              "      <td>0.9676</td>\n",
              "      <td>1.0940</td>\n",
              "      <td>0.4290</td>\n",
              "      <td>0.5187</td>\n",
              "      <td>-0.1105</td>\n",
              "      <td>0.4258</td>\n",
              "      <td>-0.2012</td>\n",
              "      <td>0.1506</td>\n",
              "      <td>1.5230</td>\n",
              "      <td>0.7101</td>\n",
              "      <td>0.1732</td>\n",
              "      <td>0.7015</td>\n",
              "      <td>-0.6290</td>\n",
              "      <td>0.0740</td>\n",
              "    </tr>\n",
              "  </tbody>\n",
              "</table>\n",
              "<p>3235 rows × 877 columns</p>\n",
              "</div>"
            ],
            "text/plain": [
              "                 id    tratamento  tempo dose  ...     c96     c97     c98     c99\n",
              "7      id_0020d0484     com_droga     48   D1  ...  0.6633  0.4562 -0.9622  0.0260\n",
              "16     id_002fb9c19     com_droga     48   D1  ... -9.9840 -9.9840 -9.9840 -6.7840\n",
              "25     id_0054388ec  com_controle     48   D1  ...  0.8837  0.5534  0.8976  1.0050\n",
              "38     id_0079af0fb  com_controle     24   D1  ...  0.2187  0.0737  0.6498 -1.4820\n",
              "40     id_007bfbb91  com_controle     24   D2  ... -0.5751  0.3362  0.8543  0.9180\n",
              "...             ...           ...    ...  ...  ...     ...     ...     ...     ...\n",
              "23793  id_ffd26f361  com_controle     48   D2  ...  0.8813  0.7757 -0.5272  0.7082\n",
              "23802  id_fff3976bd     com_droga     24   D1  ... -8.4480 -4.4550 -5.7930 -3.7000\n",
              "23805  id_fff6df1c5     com_droga     48   D2  ...  0.1516  0.4503 -0.6312 -0.8302\n",
              "23811  id_fffc1c3f4  com_controle     48   D2  ...  0.2256  0.7592  0.6656  0.3808\n",
              "23812  id_fffcb9e7c     com_droga     24   D1  ...  0.1732  0.7015 -0.6290  0.0740\n",
              "\n",
              "[3235 rows x 877 columns]"
            ]
          },
          "metadata": {
            "tags": []
          },
          "execution_count": 5
        }
      ]
    },
    {
      "cell_type": "markdown",
      "metadata": {
        "id": "p6lCvcS2xbMF"
      },
      "source": [
        "\n",
        "Agora que vimos que a nossa filtragem funcionou e que temos como retorno uma base de dados com 3.235 linhas, podemos usar a função querycomo parâmetro para o countplot, o nosso gráfico de barras. O countplot é um gráfico pré-programado da biblioteca Seaborne, por isso, precisaremos fazer a importação padrão da mesma (import seaborn as sns). Adicionalmente, aqui no Google Colaboratory, para que possamos enxergar o gráfico com os padrões de configuração da biblioteca, precisamos rodar sns.set(). Além disso, para refinar a apresentação do gráfico, podemos utilizar algumas funcionalidades da biblioteca Matplotlib (fazendo, primeiramente, sua importação - import matplotlib.pyplt as plt). Também estamos definindo o tamanho do gráfico através da função figure e seu parâmetro figsize=(x, y)) e o título através do set_title('Título'). Como comentado na aula, usualmente, armazenamos o nosso gráfico em uma variável ax e então, definimos as demais configurações (por exemplo, ax.set_title('Título'). E, finalmente, para visualizar o gráfico de barras, usamos o plt.show()."
      ]
    },
    {
      "cell_type": "code",
      "metadata": {
        "colab": {
          "base_uri": "https://localhost:8080/",
          "height": 410
        },
        "id": "EZL7FR7MArEF",
        "outputId": "9004da05-7ff9-469d-9a0d-ef21eaa8a985"
      },
      "source": [
        "import seaborn as sns\n",
        "import matplotlib.pyplot as plt\n",
        "\n",
        "sns.set() #pega as configurações padrões do seaborn\n",
        "plt.figure(figsize=(8, 6))\n",
        "ax = sns.countplot(x='composto', data=dados.query('composto in @cod_compostos'))\n",
        "ax.set_title('Top 5 compostos')\n",
        "plt.show()"
      ],
      "execution_count": null,
      "outputs": [
        {
          "output_type": "display_data",
          "data": {
            "image/png": "[encoded data removed]",
            "text/plain": [
              "<Figure size 576x432 with 1 Axes>"
            ]
          },
          "metadata": {
            "tags": []
          }
        }
      ]
    },
    {
      "cell_type": "markdown",
      "metadata": {
        "id": "mHjhvY9exrSk"
      },
      "source": [
        "Até o momento analisamos os dados de tempo, dose, compostos e afins. Entretanto, não analisamos os dados de expressões gênicas (G's) e viabilidade celular (C's). Será que podemos criar um gráfico de barras para esses dados? Vamos pensar que a nossa base de dados apresenta mais de 3.000 compostos. Mas quantos desses compostos aparecem na coluna g-0? Para responder essa questão, vamos usar a função unique() do Pandas que conta os valores únicos presentes na coluna em questão. Como resposta padrão, o retorno será uma lista com arrays (os nomes dos compostos) mas, nosso objetivo é saber o tamanho dessa lista e, por isso, usamos o len, pois assim, ele contará o tamanho desta lista de arrays."
      ]
    },
    {
      "cell_type": "code",
      "metadata": {
        "colab": {
          "base_uri": "https://localhost:8080/"
        },
        "id": "_ZUszpG_D29T",
        "outputId": "50b65cbc-a4a6-49c0-e745-d2ea5a0342ef"
      },
      "source": [
        "len(dados['g0'].unique())"
      ],
      "execution_count": null,
      "outputs": [
        {
          "output_type": "execute_result",
          "data": {
            "text/plain": [
              "14367"
            ]
          },
          "metadata": {
            "tags": []
          },
          "execution_count": 7
        }
      ]
    },
    {
      "cell_type": "markdown",
      "metadata": {
        "id": "iksM8oT8x4nQ"
      },
      "source": [
        "\n",
        "Como temos diversos compostos únicos dentro da coluna g-0, não é viável que façamos o mesmo gráfico utilizado anteriormente. Por isso, precisamos traçar uma nova estratégia para visualizar os nossos dadose aqui, usaremos um histograma. O primeiro passo, é identificar qual o valor mínimo (min()) e o valor máximo (max()) para entender qual o intervalo númerico com o qual estamos trabalhando."
      ]
    },
    {
      "cell_type": "code",
      "metadata": {
        "colab": {
          "base_uri": "https://localhost:8080/"
        },
        "id": "I7WSPrDwG441",
        "outputId": "a85a7b79-eae5-4f14-e391-39a725d3b41d"
      },
      "source": [
        "dados['g0'].min()"
      ],
      "execution_count": null,
      "outputs": [
        {
          "output_type": "execute_result",
          "data": {
            "text/plain": [
              "-5.513"
            ]
          },
          "metadata": {
            "tags": []
          },
          "execution_count": 8
        }
      ]
    },
    {
      "cell_type": "code",
      "metadata": {
        "colab": {
          "base_uri": "https://localhost:8080/"
        },
        "id": "ojVh2DYfG-xO",
        "outputId": "78a8a8ad-2d40-477d-fd5d-ba9cafe5ac64"
      },
      "source": [
        "dados['g0'].max()"
      ],
      "execution_count": null,
      "outputs": [
        {
          "output_type": "execute_result",
          "data": {
            "text/plain": [
              "10.0"
            ]
          },
          "metadata": {
            "tags": []
          },
          "execution_count": 9
        }
      ]
    },
    {
      "cell_type": "code",
      "metadata": {
        "colab": {
          "base_uri": "https://localhost:8080/",
          "height": 285
        },
        "id": "3CjoDIm3HDcr",
        "outputId": "8a5cad35-11f5-4493-d786-f7194365540f"
      },
      "source": [
        "dados['g0'].hist()"
      ],
      "execution_count": null,
      "outputs": [
        {
          "output_type": "execute_result",
          "data": {
            "text/plain": [
              "<matplotlib.axes._subplots.AxesSubplot at 0x7f1845fe0310>"
            ]
          },
          "metadata": {
            "tags": []
          },
          "execution_count": 10
        },
        {
          "output_type": "display_data",
          "data": {
            "image/png": "[encoded data removed]",
            "text/plain": [
              "<Figure size 432x288 with 1 Axes>"
            ]
          },
          "metadata": {
            "tags": []
          }
        }
      ]
    },
    {
      "cell_type": "code",
      "metadata": {
        "colab": {
          "base_uri": "https://localhost:8080/",
          "height": 285
        },
        "id": "aCZqqMGDHVIZ",
        "outputId": "f8282ce2-2c0d-4bfc-b3b4-a4003f8f40e1"
      },
      "source": [
        "dados['g0'].hist(bins=50)"
      ],
      "execution_count": null,
      "outputs": [
        {
          "output_type": "execute_result",
          "data": {
            "text/plain": [
              "<matplotlib.axes._subplots.AxesSubplot at 0x7f1845efc750>"
            ]
          },
          "metadata": {
            "tags": []
          },
          "execution_count": 11
        },
        {
          "output_type": "display_data",
          "data": {
            "image/png": "[encoded data removed]",
            "text/plain": [
              "<Figure size 432x288 with 1 Axes>"
            ]
          },
          "metadata": {
            "tags": []
          }
        }
      ]
    },
    {
      "cell_type": "markdown",
      "metadata": {
        "id": "8IE_SGvwyDDJ"
      },
      "source": [
        "\n",
        "Depois que reconhecemos que o nosso intervalo vai de ~5,5 a 10,0, podemos partir para o histograma e a função que usaremos para plotar é do Pandas (dataframe['variável'].hist()). Assim que rodamos essa função, percebemos que a visualização destes dados ainda não está boa pois, a divisão padrão das barras do histograma, representam intervalos muito grandes que atrapalham o entendimento dos dados. Por isso, acresentamos um parâmetro dentro da função (bins = número de quebras) para melhor dividir e, consequentemente visualizar os dados. Quando definimos os bins em 100, podemos perceber que a forma se aproxima bastante de uma curva bastante conhecida: a curva normal."
      ]
    },
    {
      "cell_type": "code",
      "metadata": {
        "colab": {
          "base_uri": "https://localhost:8080/",
          "height": 285
        },
        "id": "Tth564InJSVX",
        "outputId": "946545c9-4cef-41c1-b4af-361809130045"
      },
      "source": [
        "dados['g0'].hist(bins=100)"
      ],
      "execution_count": null,
      "outputs": [
        {
          "output_type": "execute_result",
          "data": {
            "text/plain": [
              "<matplotlib.axes._subplots.AxesSubplot at 0x7f1845de5710>"
            ]
          },
          "metadata": {
            "tags": []
          },
          "execution_count": 12
        },
        {
          "output_type": "display_data",
          "data": {
            "image/png": "[encoded data removed]",
            "text/plain": [
              "<Figure size 432x288 with 1 Axes>"
            ]
          },
          "metadata": {
            "tags": []
          }
        }
      ]
    },
    {
      "cell_type": "code",
      "metadata": {
        "colab": {
          "base_uri": "https://localhost:8080/",
          "height": 285
        },
        "id": "8Lu0T-UJJdIf",
        "outputId": "166d41fa-c688-47d6-d64a-34107ca94ca1"
      },
      "source": [
        "dados['g19'].hist(bins=100)"
      ],
      "execution_count": null,
      "outputs": [
        {
          "output_type": "execute_result",
          "data": {
            "text/plain": [
              "<matplotlib.axes._subplots.AxesSubplot at 0x7f1845df9bd0>"
            ]
          },
          "metadata": {
            "tags": []
          },
          "execution_count": 13
        },
        {
          "output_type": "display_data",
          "data": {
            "image/png": "[encoded data removed]",
            "text/plain": [
              "<Figure size 432x288 with 1 Axes>"
            ]
          },
          "metadata": {
            "tags": []
          }
        }
      ]
    },
    {
      "cell_type": "code",
      "metadata": {
        "colab": {
          "base_uri": "https://localhost:8080/"
        },
        "id": "tCEzTiqWJ_KG",
        "outputId": "0528ba02-3274-45a8-dc6d-6bc80336ea68"
      },
      "source": [
        "dados['g0'].mean()"
      ],
      "execution_count": null,
      "outputs": [
        {
          "output_type": "execute_result",
          "data": {
            "text/plain": [
              "0.24836629293692816"
            ]
          },
          "metadata": {
            "tags": []
          },
          "execution_count": 14
        }
      ]
    },
    {
      "cell_type": "markdown",
      "metadata": {
        "id": "F1NvM-jryPxK"
      },
      "source": [
        "\n",
        "Como concluimos que plotar os gráficos de todos os genes é inviável, vamos analisar resumidamente algumas estatísticas sobre eles. Para isso, vamos usar a função describe do Pandas que já calcula e descreve algumas estatísticas importantes para o entendimento dos dados (contagem, média, desvio padrão, mínimo, alguns quartis e máximo)."
      ]
    },
    {
      "cell_type": "code",
      "metadata": {
        "colab": {
          "base_uri": "https://localhost:8080/",
          "height": 343
        },
        "id": "28zQwKyyKEUs",
        "outputId": "4c13568f-f170-423e-d790-47583de1d92d"
      },
      "source": [
        "dados.describe()"
      ],
      "execution_count": null,
      "outputs": [
        {
          "output_type": "execute_result",
          "data": {
            "text/html": [
              "<div>\n",
              "<style scoped>\n",
              "    .dataframe tbody tr th:only-of-type {\n",
              "        vertical-align: middle;\n",
              "    }\n",
              "\n",
              "    .dataframe tbody tr th {\n",
              "        vertical-align: top;\n",
              "    }\n",
              "\n",
              "    .dataframe thead th {\n",
              "        text-align: right;\n",
              "    }\n",
              "</style>\n",
              "<table border=\"1\" class=\"dataframe\">\n",
              "  <thead>\n",
              "    <tr style=\"text-align: right;\">\n",
              "      <th></th>\n",
              "      <th>tempo</th>\n",
              "      <th>g0</th>\n",
              "      <th>g1</th>\n",
              "      <th>g2</th>\n",
              "      <th>g3</th>\n",
              "      <th>g4</th>\n",
              "      <th>g5</th>\n",
              "      <th>g6</th>\n",
              "      <th>g7</th>\n",
              "      <th>g8</th>\n",
              "      <th>g9</th>\n",
              "      <th>g10</th>\n",
              "      <th>g11</th>\n",
              "      <th>g12</th>\n",
              "      <th>g13</th>\n",
              "      <th>g14</th>\n",
              "      <th>g15</th>\n",
              "      <th>g16</th>\n",
              "      <th>g17</th>\n",
              "      <th>g18</th>\n",
              "      <th>g19</th>\n",
              "      <th>g20</th>\n",
              "      <th>g21</th>\n",
              "      <th>g22</th>\n",
              "      <th>g23</th>\n",
              "      <th>g24</th>\n",
              "      <th>g25</th>\n",
              "      <th>g26</th>\n",
              "      <th>g27</th>\n",
              "      <th>g28</th>\n",
              "      <th>g29</th>\n",
              "      <th>g30</th>\n",
              "      <th>g31</th>\n",
              "      <th>g32</th>\n",
              "      <th>g33</th>\n",
              "      <th>g34</th>\n",
              "      <th>g35</th>\n",
              "      <th>g36</th>\n",
              "      <th>g37</th>\n",
              "      <th>g38</th>\n",
              "      <th>...</th>\n",
              "      <th>c60</th>\n",
              "      <th>c61</th>\n",
              "      <th>c62</th>\n",
              "      <th>c63</th>\n",
              "      <th>c64</th>\n",
              "      <th>c65</th>\n",
              "      <th>c66</th>\n",
              "      <th>c67</th>\n",
              "      <th>c68</th>\n",
              "      <th>c69</th>\n",
              "      <th>c70</th>\n",
              "      <th>c71</th>\n",
              "      <th>c72</th>\n",
              "      <th>c73</th>\n",
              "      <th>c74</th>\n",
              "      <th>c75</th>\n",
              "      <th>c76</th>\n",
              "      <th>c77</th>\n",
              "      <th>c78</th>\n",
              "      <th>c79</th>\n",
              "      <th>c80</th>\n",
              "      <th>c81</th>\n",
              "      <th>c82</th>\n",
              "      <th>c83</th>\n",
              "      <th>c84</th>\n",
              "      <th>c85</th>\n",
              "      <th>c86</th>\n",
              "      <th>c87</th>\n",
              "      <th>c88</th>\n",
              "      <th>c89</th>\n",
              "      <th>c90</th>\n",
              "      <th>c91</th>\n",
              "      <th>c92</th>\n",
              "      <th>c93</th>\n",
              "      <th>c94</th>\n",
              "      <th>c95</th>\n",
              "      <th>c96</th>\n",
              "      <th>c97</th>\n",
              "      <th>c98</th>\n",
              "      <th>c99</th>\n",
              "    </tr>\n",
              "  </thead>\n",
              "  <tbody>\n",
              "    <tr>\n",
              "      <th>count</th>\n",
              "      <td>23814.000000</td>\n",
              "      <td>23814.000000</td>\n",
              "      <td>23814.000000</td>\n",
              "      <td>23814.000000</td>\n",
              "      <td>23814.000000</td>\n",
              "      <td>23814.000000</td>\n",
              "      <td>23814.000000</td>\n",
              "      <td>23814.000000</td>\n",
              "      <td>23814.000000</td>\n",
              "      <td>23814.000000</td>\n",
              "      <td>23814.000000</td>\n",
              "      <td>23814.000000</td>\n",
              "      <td>23814.000000</td>\n",
              "      <td>23814.000000</td>\n",
              "      <td>23814.000000</td>\n",
              "      <td>23814.000000</td>\n",
              "      <td>23814.000000</td>\n",
              "      <td>23814.000000</td>\n",
              "      <td>23814.000000</td>\n",
              "      <td>23814.000000</td>\n",
              "      <td>23814.000000</td>\n",
              "      <td>23814.000000</td>\n",
              "      <td>23814.000000</td>\n",
              "      <td>23814.000000</td>\n",
              "      <td>23814.000000</td>\n",
              "      <td>23814.000000</td>\n",
              "      <td>23814.000000</td>\n",
              "      <td>23814.000000</td>\n",
              "      <td>23814.000000</td>\n",
              "      <td>23814.000000</td>\n",
              "      <td>23814.000000</td>\n",
              "      <td>23814.000000</td>\n",
              "      <td>23814.000000</td>\n",
              "      <td>23814.000000</td>\n",
              "      <td>23814.000000</td>\n",
              "      <td>23814.000000</td>\n",
              "      <td>23814.000000</td>\n",
              "      <td>23814.000000</td>\n",
              "      <td>23814.000000</td>\n",
              "      <td>23814.000000</td>\n",
              "      <td>...</td>\n",
              "      <td>23814.000000</td>\n",
              "      <td>23814.000000</td>\n",
              "      <td>23814.000000</td>\n",
              "      <td>23814.000000</td>\n",
              "      <td>23814.000000</td>\n",
              "      <td>23814.000000</td>\n",
              "      <td>23814.000000</td>\n",
              "      <td>23814.000000</td>\n",
              "      <td>23814.000000</td>\n",
              "      <td>23814.000000</td>\n",
              "      <td>23814.000000</td>\n",
              "      <td>23814.000000</td>\n",
              "      <td>23814.000000</td>\n",
              "      <td>23814.000000</td>\n",
              "      <td>23814.000000</td>\n",
              "      <td>23814.000000</td>\n",
              "      <td>23814.000000</td>\n",
              "      <td>23814.000000</td>\n",
              "      <td>23814.000000</td>\n",
              "      <td>23814.000000</td>\n",
              "      <td>23814.000000</td>\n",
              "      <td>23814.000000</td>\n",
              "      <td>23814.000000</td>\n",
              "      <td>23814.000000</td>\n",
              "      <td>23814.000000</td>\n",
              "      <td>23814.000000</td>\n",
              "      <td>23814.000000</td>\n",
              "      <td>23814.000000</td>\n",
              "      <td>23814.000000</td>\n",
              "      <td>23814.000000</td>\n",
              "      <td>23814.000000</td>\n",
              "      <td>23814.000000</td>\n",
              "      <td>23814.000000</td>\n",
              "      <td>23814.000000</td>\n",
              "      <td>23814.000000</td>\n",
              "      <td>23814.000000</td>\n",
              "      <td>23814.000000</td>\n",
              "      <td>23814.000000</td>\n",
              "      <td>23814.000000</td>\n",
              "      <td>23814.000000</td>\n",
              "    </tr>\n",
              "    <tr>\n",
              "      <th>mean</th>\n",
              "      <td>48.020156</td>\n",
              "      <td>0.248366</td>\n",
              "      <td>-0.095684</td>\n",
              "      <td>0.152253</td>\n",
              "      <td>0.081971</td>\n",
              "      <td>0.057347</td>\n",
              "      <td>-0.138836</td>\n",
              "      <td>0.035961</td>\n",
              "      <td>-0.202651</td>\n",
              "      <td>-0.190083</td>\n",
              "      <td>0.119905</td>\n",
              "      <td>-0.123321</td>\n",
              "      <td>0.182307</td>\n",
              "      <td>0.143203</td>\n",
              "      <td>0.209402</td>\n",
              "      <td>-0.173884</td>\n",
              "      <td>-0.024432</td>\n",
              "      <td>0.126823</td>\n",
              "      <td>-0.146663</td>\n",
              "      <td>0.087687</td>\n",
              "      <td>-0.082982</td>\n",
              "      <td>-0.111908</td>\n",
              "      <td>-0.087379</td>\n",
              "      <td>0.047548</td>\n",
              "      <td>-0.117474</td>\n",
              "      <td>-0.113212</td>\n",
              "      <td>-0.052746</td>\n",
              "      <td>-0.091055</td>\n",
              "      <td>0.112176</td>\n",
              "      <td>-0.046458</td>\n",
              "      <td>-0.076239</td>\n",
              "      <td>-0.197699</td>\n",
              "      <td>0.382177</td>\n",
              "      <td>-0.189432</td>\n",
              "      <td>0.078791</td>\n",
              "      <td>-0.093312</td>\n",
              "      <td>0.135729</td>\n",
              "      <td>-0.188616</td>\n",
              "      <td>-0.606710</td>\n",
              "      <td>0.534425</td>\n",
              "      <td>...</td>\n",
              "      <td>-0.517397</td>\n",
              "      <td>-0.360770</td>\n",
              "      <td>-0.435752</td>\n",
              "      <td>-0.613591</td>\n",
              "      <td>-0.402083</td>\n",
              "      <td>-0.619682</td>\n",
              "      <td>-0.452265</td>\n",
              "      <td>-0.497164</td>\n",
              "      <td>-0.413836</td>\n",
              "      <td>-0.277029</td>\n",
              "      <td>-0.547845</td>\n",
              "      <td>-0.358611</td>\n",
              "      <td>-0.442906</td>\n",
              "      <td>-0.475194</td>\n",
              "      <td>-0.010404</td>\n",
              "      <td>-0.467001</td>\n",
              "      <td>-0.276963</td>\n",
              "      <td>-0.455848</td>\n",
              "      <td>-0.412918</td>\n",
              "      <td>-0.456404</td>\n",
              "      <td>-0.472514</td>\n",
              "      <td>-0.505481</td>\n",
              "      <td>-0.492735</td>\n",
              "      <td>-0.446836</td>\n",
              "      <td>-0.463029</td>\n",
              "      <td>-0.409310</td>\n",
              "      <td>-0.333124</td>\n",
              "      <td>-0.295009</td>\n",
              "      <td>-0.328342</td>\n",
              "      <td>-0.401615</td>\n",
              "      <td>-0.469244</td>\n",
              "      <td>-0.461411</td>\n",
              "      <td>-0.513256</td>\n",
              "      <td>-0.500142</td>\n",
              "      <td>-0.507093</td>\n",
              "      <td>-0.353726</td>\n",
              "      <td>-0.463485</td>\n",
              "      <td>-0.378241</td>\n",
              "      <td>-0.470252</td>\n",
              "      <td>-0.301505</td>\n",
              "    </tr>\n",
              "    <tr>\n",
              "      <th>std</th>\n",
              "      <td>19.402807</td>\n",
              "      <td>1.393399</td>\n",
              "      <td>0.812363</td>\n",
              "      <td>1.035731</td>\n",
              "      <td>0.950012</td>\n",
              "      <td>1.032091</td>\n",
              "      <td>1.179388</td>\n",
              "      <td>0.882395</td>\n",
              "      <td>1.125494</td>\n",
              "      <td>1.749885</td>\n",
              "      <td>1.087180</td>\n",
              "      <td>1.291501</td>\n",
              "      <td>1.253604</td>\n",
              "      <td>1.234590</td>\n",
              "      <td>1.273068</td>\n",
              "      <td>1.247178</td>\n",
              "      <td>0.659839</td>\n",
              "      <td>1.418997</td>\n",
              "      <td>1.179688</td>\n",
              "      <td>0.743301</td>\n",
              "      <td>0.844796</td>\n",
              "      <td>1.219529</td>\n",
              "      <td>0.824401</td>\n",
              "      <td>0.924838</td>\n",
              "      <td>0.760159</td>\n",
              "      <td>1.203186</td>\n",
              "      <td>0.866977</td>\n",
              "      <td>1.103765</td>\n",
              "      <td>1.001687</td>\n",
              "      <td>1.027758</td>\n",
              "      <td>1.279399</td>\n",
              "      <td>1.302567</td>\n",
              "      <td>1.559174</td>\n",
              "      <td>0.933514</td>\n",
              "      <td>1.172270</td>\n",
              "      <td>1.174325</td>\n",
              "      <td>1.061719</td>\n",
              "      <td>1.397677</td>\n",
              "      <td>2.200277</td>\n",
              "      <td>2.003317</td>\n",
              "      <td>...</td>\n",
              "      <td>2.122318</td>\n",
              "      <td>1.710725</td>\n",
              "      <td>1.898871</td>\n",
              "      <td>2.307820</td>\n",
              "      <td>1.785055</td>\n",
              "      <td>2.225596</td>\n",
              "      <td>1.991021</td>\n",
              "      <td>2.063896</td>\n",
              "      <td>1.887001</td>\n",
              "      <td>1.459639</td>\n",
              "      <td>2.187835</td>\n",
              "      <td>1.730634</td>\n",
              "      <td>1.924716</td>\n",
              "      <td>2.021927</td>\n",
              "      <td>1.029820</td>\n",
              "      <td>2.004317</td>\n",
              "      <td>1.429340</td>\n",
              "      <td>1.924263</td>\n",
              "      <td>1.888788</td>\n",
              "      <td>1.832863</td>\n",
              "      <td>2.011396</td>\n",
              "      <td>2.091353</td>\n",
              "      <td>2.055624</td>\n",
              "      <td>1.987476</td>\n",
              "      <td>2.014045</td>\n",
              "      <td>1.883974</td>\n",
              "      <td>1.647241</td>\n",
              "      <td>1.634073</td>\n",
              "      <td>1.663170</td>\n",
              "      <td>1.832794</td>\n",
              "      <td>2.000488</td>\n",
              "      <td>2.042475</td>\n",
              "      <td>2.001714</td>\n",
              "      <td>2.107105</td>\n",
              "      <td>2.159589</td>\n",
              "      <td>1.629291</td>\n",
              "      <td>2.059725</td>\n",
              "      <td>1.703615</td>\n",
              "      <td>1.834828</td>\n",
              "      <td>1.407918</td>\n",
              "    </tr>\n",
              "    <tr>\n",
              "      <th>min</th>\n",
              "      <td>24.000000</td>\n",
              "      <td>-5.513000</td>\n",
              "      <td>-5.737000</td>\n",
              "      <td>-9.104000</td>\n",
              "      <td>-5.998000</td>\n",
              "      <td>-6.369000</td>\n",
              "      <td>-10.000000</td>\n",
              "      <td>-10.000000</td>\n",
              "      <td>-10.000000</td>\n",
              "      <td>-10.000000</td>\n",
              "      <td>-8.337000</td>\n",
              "      <td>-10.000000</td>\n",
              "      <td>-5.870000</td>\n",
              "      <td>-8.587000</td>\n",
              "      <td>-5.018000</td>\n",
              "      <td>-10.000000</td>\n",
              "      <td>-10.000000</td>\n",
              "      <td>-10.000000</td>\n",
              "      <td>-10.000000</td>\n",
              "      <td>-4.226000</td>\n",
              "      <td>-10.000000</td>\n",
              "      <td>-10.000000</td>\n",
              "      <td>-5.700000</td>\n",
              "      <td>-10.000000</td>\n",
              "      <td>-10.000000</td>\n",
              "      <td>-10.000000</td>\n",
              "      <td>-8.272000</td>\n",
              "      <td>-8.184000</td>\n",
              "      <td>-4.835000</td>\n",
              "      <td>-7.913000</td>\n",
              "      <td>-10.000000</td>\n",
              "      <td>-10.000000</td>\n",
              "      <td>-2.956000</td>\n",
              "      <td>-8.356000</td>\n",
              "      <td>-7.182000</td>\n",
              "      <td>-10.000000</td>\n",
              "      <td>-9.261000</td>\n",
              "      <td>-10.000000</td>\n",
              "      <td>-10.000000</td>\n",
              "      <td>-10.000000</td>\n",
              "      <td>...</td>\n",
              "      <td>-10.000000</td>\n",
              "      <td>-10.000000</td>\n",
              "      <td>-10.000000</td>\n",
              "      <td>-10.000000</td>\n",
              "      <td>-10.000000</td>\n",
              "      <td>-10.000000</td>\n",
              "      <td>-10.000000</td>\n",
              "      <td>-10.000000</td>\n",
              "      <td>-10.000000</td>\n",
              "      <td>-9.839000</td>\n",
              "      <td>-10.000000</td>\n",
              "      <td>-10.000000</td>\n",
              "      <td>-10.000000</td>\n",
              "      <td>-10.000000</td>\n",
              "      <td>-6.452000</td>\n",
              "      <td>-10.000000</td>\n",
              "      <td>-9.938000</td>\n",
              "      <td>-10.000000</td>\n",
              "      <td>-10.000000</td>\n",
              "      <td>-10.000000</td>\n",
              "      <td>-10.000000</td>\n",
              "      <td>-10.000000</td>\n",
              "      <td>-10.000000</td>\n",
              "      <td>-10.000000</td>\n",
              "      <td>-10.000000</td>\n",
              "      <td>-10.000000</td>\n",
              "      <td>-10.000000</td>\n",
              "      <td>-10.000000</td>\n",
              "      <td>-10.000000</td>\n",
              "      <td>-10.000000</td>\n",
              "      <td>-10.000000</td>\n",
              "      <td>-10.000000</td>\n",
              "      <td>-10.000000</td>\n",
              "      <td>-10.000000</td>\n",
              "      <td>-10.000000</td>\n",
              "      <td>-10.000000</td>\n",
              "      <td>-10.000000</td>\n",
              "      <td>-10.000000</td>\n",
              "      <td>-10.000000</td>\n",
              "      <td>-10.000000</td>\n",
              "    </tr>\n",
              "    <tr>\n",
              "      <th>25%</th>\n",
              "      <td>24.000000</td>\n",
              "      <td>-0.473075</td>\n",
              "      <td>-0.562200</td>\n",
              "      <td>-0.437750</td>\n",
              "      <td>-0.429575</td>\n",
              "      <td>-0.470925</td>\n",
              "      <td>-0.602225</td>\n",
              "      <td>-0.493900</td>\n",
              "      <td>-0.525175</td>\n",
              "      <td>-0.511675</td>\n",
              "      <td>-0.360200</td>\n",
              "      <td>-0.511475</td>\n",
              "      <td>-0.489675</td>\n",
              "      <td>-0.447500</td>\n",
              "      <td>-0.481200</td>\n",
              "      <td>-0.607975</td>\n",
              "      <td>-0.404150</td>\n",
              "      <td>-0.391950</td>\n",
              "      <td>-0.513775</td>\n",
              "      <td>-0.272200</td>\n",
              "      <td>-0.488675</td>\n",
              "      <td>-0.524600</td>\n",
              "      <td>-0.538900</td>\n",
              "      <td>-0.440375</td>\n",
              "      <td>-0.508900</td>\n",
              "      <td>-0.533900</td>\n",
              "      <td>-0.497700</td>\n",
              "      <td>-0.512875</td>\n",
              "      <td>-0.467800</td>\n",
              "      <td>-0.378300</td>\n",
              "      <td>-0.505750</td>\n",
              "      <td>-0.457975</td>\n",
              "      <td>-0.328200</td>\n",
              "      <td>-0.600500</td>\n",
              "      <td>-0.478700</td>\n",
              "      <td>-0.570525</td>\n",
              "      <td>-0.481800</td>\n",
              "      <td>-0.541950</td>\n",
              "      <td>-0.604100</td>\n",
              "      <td>-0.470250</td>\n",
              "      <td>...</td>\n",
              "      <td>-0.588075</td>\n",
              "      <td>-0.564025</td>\n",
              "      <td>-0.561000</td>\n",
              "      <td>-0.583250</td>\n",
              "      <td>-0.566500</td>\n",
              "      <td>-0.603200</td>\n",
              "      <td>-0.541575</td>\n",
              "      <td>-0.560825</td>\n",
              "      <td>-0.555200</td>\n",
              "      <td>-0.534500</td>\n",
              "      <td>-0.569100</td>\n",
              "      <td>-0.558300</td>\n",
              "      <td>-0.573350</td>\n",
              "      <td>-0.594275</td>\n",
              "      <td>-0.389925</td>\n",
              "      <td>-0.551200</td>\n",
              "      <td>-0.544150</td>\n",
              "      <td>-0.575075</td>\n",
              "      <td>-0.568275</td>\n",
              "      <td>-0.582650</td>\n",
              "      <td>-0.558575</td>\n",
              "      <td>-0.562375</td>\n",
              "      <td>-0.572800</td>\n",
              "      <td>-0.561225</td>\n",
              "      <td>-0.560675</td>\n",
              "      <td>-0.560100</td>\n",
              "      <td>-0.533700</td>\n",
              "      <td>-0.504575</td>\n",
              "      <td>-0.544275</td>\n",
              "      <td>-0.569150</td>\n",
              "      <td>-0.566175</td>\n",
              "      <td>-0.565975</td>\n",
              "      <td>-0.589975</td>\n",
              "      <td>-0.568700</td>\n",
              "      <td>-0.563775</td>\n",
              "      <td>-0.567975</td>\n",
              "      <td>-0.552575</td>\n",
              "      <td>-0.561000</td>\n",
              "      <td>-0.592600</td>\n",
              "      <td>-0.562900</td>\n",
              "    </tr>\n",
              "    <tr>\n",
              "      <th>50%</th>\n",
              "      <td>48.000000</td>\n",
              "      <td>-0.008850</td>\n",
              "      <td>-0.046600</td>\n",
              "      <td>0.075200</td>\n",
              "      <td>0.008050</td>\n",
              "      <td>-0.026900</td>\n",
              "      <td>-0.015650</td>\n",
              "      <td>-0.000650</td>\n",
              "      <td>-0.017900</td>\n",
              "      <td>0.010000</td>\n",
              "      <td>0.160450</td>\n",
              "      <td>0.038550</td>\n",
              "      <td>0.013800</td>\n",
              "      <td>0.060250</td>\n",
              "      <td>0.009800</td>\n",
              "      <td>-0.030100</td>\n",
              "      <td>0.000000</td>\n",
              "      <td>0.149400</td>\n",
              "      <td>-0.002200</td>\n",
              "      <td>0.000000</td>\n",
              "      <td>-0.027800</td>\n",
              "      <td>-0.002800</td>\n",
              "      <td>-0.069350</td>\n",
              "      <td>-0.011800</td>\n",
              "      <td>0.000000</td>\n",
              "      <td>0.018300</td>\n",
              "      <td>-0.011650</td>\n",
              "      <td>0.016100</td>\n",
              "      <td>0.037600</td>\n",
              "      <td>0.003750</td>\n",
              "      <td>0.021750</td>\n",
              "      <td>0.027000</td>\n",
              "      <td>0.019100</td>\n",
              "      <td>-0.054000</td>\n",
              "      <td>0.023350</td>\n",
              "      <td>0.003350</td>\n",
              "      <td>-0.000600</td>\n",
              "      <td>0.015350</td>\n",
              "      <td>-0.000700</td>\n",
              "      <td>0.005800</td>\n",
              "      <td>...</td>\n",
              "      <td>-0.017650</td>\n",
              "      <td>-0.041550</td>\n",
              "      <td>-0.002950</td>\n",
              "      <td>-0.012650</td>\n",
              "      <td>-0.005600</td>\n",
              "      <td>0.007650</td>\n",
              "      <td>0.004950</td>\n",
              "      <td>0.000000</td>\n",
              "      <td>-0.023800</td>\n",
              "      <td>-0.011450</td>\n",
              "      <td>-0.007100</td>\n",
              "      <td>-0.019500</td>\n",
              "      <td>-0.019500</td>\n",
              "      <td>-0.009300</td>\n",
              "      <td>0.081550</td>\n",
              "      <td>-0.006900</td>\n",
              "      <td>0.018400</td>\n",
              "      <td>-0.014650</td>\n",
              "      <td>-0.014350</td>\n",
              "      <td>0.005300</td>\n",
              "      <td>-0.005300</td>\n",
              "      <td>-0.004050</td>\n",
              "      <td>0.003300</td>\n",
              "      <td>-0.007900</td>\n",
              "      <td>-0.004600</td>\n",
              "      <td>-0.002400</td>\n",
              "      <td>0.007850</td>\n",
              "      <td>-0.005600</td>\n",
              "      <td>-0.020600</td>\n",
              "      <td>-0.030000</td>\n",
              "      <td>-0.009900</td>\n",
              "      <td>0.003250</td>\n",
              "      <td>-0.009100</td>\n",
              "      <td>-0.013750</td>\n",
              "      <td>-0.003300</td>\n",
              "      <td>-0.010250</td>\n",
              "      <td>-0.001250</td>\n",
              "      <td>-0.006800</td>\n",
              "      <td>0.014000</td>\n",
              "      <td>-0.019500</td>\n",
              "    </tr>\n",
              "    <tr>\n",
              "      <th>75%</th>\n",
              "      <td>72.000000</td>\n",
              "      <td>0.525700</td>\n",
              "      <td>0.403075</td>\n",
              "      <td>0.663925</td>\n",
              "      <td>0.463400</td>\n",
              "      <td>0.465375</td>\n",
              "      <td>0.510425</td>\n",
              "      <td>0.528725</td>\n",
              "      <td>0.411900</td>\n",
              "      <td>0.549225</td>\n",
              "      <td>0.697775</td>\n",
              "      <td>0.525400</td>\n",
              "      <td>0.575275</td>\n",
              "      <td>0.604450</td>\n",
              "      <td>0.575825</td>\n",
              "      <td>0.457975</td>\n",
              "      <td>0.382475</td>\n",
              "      <td>0.829500</td>\n",
              "      <td>0.494775</td>\n",
              "      <td>0.327800</td>\n",
              "      <td>0.400600</td>\n",
              "      <td>0.492400</td>\n",
              "      <td>0.414875</td>\n",
              "      <td>0.433400</td>\n",
              "      <td>0.329250</td>\n",
              "      <td>0.527700</td>\n",
              "      <td>0.461650</td>\n",
              "      <td>0.508425</td>\n",
              "      <td>0.586450</td>\n",
              "      <td>0.431275</td>\n",
              "      <td>0.507600</td>\n",
              "      <td>0.458075</td>\n",
              "      <td>0.471075</td>\n",
              "      <td>0.391950</td>\n",
              "      <td>0.551300</td>\n",
              "      <td>0.503725</td>\n",
              "      <td>0.564875</td>\n",
              "      <td>0.517025</td>\n",
              "      <td>0.460500</td>\n",
              "      <td>0.642300</td>\n",
              "      <td>...</td>\n",
              "      <td>0.452675</td>\n",
              "      <td>0.427675</td>\n",
              "      <td>0.462175</td>\n",
              "      <td>0.447975</td>\n",
              "      <td>0.447150</td>\n",
              "      <td>0.441250</td>\n",
              "      <td>0.470600</td>\n",
              "      <td>0.458550</td>\n",
              "      <td>0.441000</td>\n",
              "      <td>0.460075</td>\n",
              "      <td>0.460950</td>\n",
              "      <td>0.449975</td>\n",
              "      <td>0.445200</td>\n",
              "      <td>0.473200</td>\n",
              "      <td>0.563575</td>\n",
              "      <td>0.456350</td>\n",
              "      <td>0.493400</td>\n",
              "      <td>0.448375</td>\n",
              "      <td>0.451975</td>\n",
              "      <td>0.463075</td>\n",
              "      <td>0.447675</td>\n",
              "      <td>0.462000</td>\n",
              "      <td>0.468900</td>\n",
              "      <td>0.452375</td>\n",
              "      <td>0.460475</td>\n",
              "      <td>0.461675</td>\n",
              "      <td>0.465950</td>\n",
              "      <td>0.463400</td>\n",
              "      <td>0.450075</td>\n",
              "      <td>0.430875</td>\n",
              "      <td>0.457750</td>\n",
              "      <td>0.461500</td>\n",
              "      <td>0.445675</td>\n",
              "      <td>0.452900</td>\n",
              "      <td>0.470900</td>\n",
              "      <td>0.444750</td>\n",
              "      <td>0.465225</td>\n",
              "      <td>0.446400</td>\n",
              "      <td>0.461275</td>\n",
              "      <td>0.438650</td>\n",
              "    </tr>\n",
              "    <tr>\n",
              "      <th>max</th>\n",
              "      <td>72.000000</td>\n",
              "      <td>10.000000</td>\n",
              "      <td>5.039000</td>\n",
              "      <td>8.257000</td>\n",
              "      <td>10.000000</td>\n",
              "      <td>10.000000</td>\n",
              "      <td>7.282000</td>\n",
              "      <td>7.333000</td>\n",
              "      <td>5.473000</td>\n",
              "      <td>8.887000</td>\n",
              "      <td>6.433000</td>\n",
              "      <td>10.000000</td>\n",
              "      <td>10.000000</td>\n",
              "      <td>10.000000</td>\n",
              "      <td>10.000000</td>\n",
              "      <td>10.000000</td>\n",
              "      <td>4.134000</td>\n",
              "      <td>6.418000</td>\n",
              "      <td>4.750000</td>\n",
              "      <td>8.872000</td>\n",
              "      <td>4.081000</td>\n",
              "      <td>9.842000</td>\n",
              "      <td>5.248000</td>\n",
              "      <td>5.942000</td>\n",
              "      <td>5.201000</td>\n",
              "      <td>10.000000</td>\n",
              "      <td>8.494000</td>\n",
              "      <td>10.000000</td>\n",
              "      <td>10.000000</td>\n",
              "      <td>10.000000</td>\n",
              "      <td>9.416000</td>\n",
              "      <td>10.000000</td>\n",
              "      <td>10.000000</td>\n",
              "      <td>6.796000</td>\n",
              "      <td>10.000000</td>\n",
              "      <td>10.000000</td>\n",
              "      <td>10.000000</td>\n",
              "      <td>5.834000</td>\n",
              "      <td>5.602000</td>\n",
              "      <td>10.000000</td>\n",
              "      <td>...</td>\n",
              "      <td>3.888000</td>\n",
              "      <td>3.596000</td>\n",
              "      <td>4.857000</td>\n",
              "      <td>3.549000</td>\n",
              "      <td>3.382000</td>\n",
              "      <td>3.328000</td>\n",
              "      <td>4.157000</td>\n",
              "      <td>3.736000</td>\n",
              "      <td>3.582000</td>\n",
              "      <td>3.119000</td>\n",
              "      <td>3.323000</td>\n",
              "      <td>5.014000</td>\n",
              "      <td>2.898000</td>\n",
              "      <td>4.185000</td>\n",
              "      <td>3.170000</td>\n",
              "      <td>3.276000</td>\n",
              "      <td>4.992000</td>\n",
              "      <td>3.770000</td>\n",
              "      <td>2.851000</td>\n",
              "      <td>3.211000</td>\n",
              "      <td>4.534000</td>\n",
              "      <td>3.890000</td>\n",
              "      <td>3.994000</td>\n",
              "      <td>4.321000</td>\n",
              "      <td>4.020000</td>\n",
              "      <td>3.738000</td>\n",
              "      <td>3.252000</td>\n",
              "      <td>5.406000</td>\n",
              "      <td>3.110000</td>\n",
              "      <td>3.320000</td>\n",
              "      <td>4.069000</td>\n",
              "      <td>3.960000</td>\n",
              "      <td>3.927000</td>\n",
              "      <td>3.596000</td>\n",
              "      <td>3.747000</td>\n",
              "      <td>2.814000</td>\n",
              "      <td>3.505000</td>\n",
              "      <td>2.924000</td>\n",
              "      <td>3.111000</td>\n",
              "      <td>3.805000</td>\n",
              "    </tr>\n",
              "  </tbody>\n",
              "</table>\n",
              "<p>8 rows × 873 columns</p>\n",
              "</div>"
            ],
            "text/plain": [
              "              tempo            g0  ...           c98           c99\n",
              "count  23814.000000  23814.000000  ...  23814.000000  23814.000000\n",
              "mean      48.020156      0.248366  ...     -0.470252     -0.301505\n",
              "std       19.402807      1.393399  ...      1.834828      1.407918\n",
              "min       24.000000     -5.513000  ...    -10.000000    -10.000000\n",
              "25%       24.000000     -0.473075  ...     -0.592600     -0.562900\n",
              "50%       48.000000     -0.008850  ...      0.014000     -0.019500\n",
              "75%       72.000000      0.525700  ...      0.461275      0.438650\n",
              "max       72.000000     10.000000  ...      3.111000      3.805000\n",
              "\n",
              "[8 rows x 873 columns]"
            ]
          },
          "metadata": {
            "tags": []
          },
          "execution_count": 15
        }
      ]
    },
    {
      "cell_type": "markdown",
      "metadata": {
        "id": "6PCSLxOXyWAz"
      },
      "source": [
        "Neste ponto, vamos separar as variáveis que queremos analisar da base de dados (exemplo: g-0 e g-1) através de uma lista de arrays. Entretanto, apesar desta ser uma ótima estratégia para a separação, temos 771 genes e escrevê-los um a um seria muito trabalhoso e podemos fazer de uma outra forma."
      ]
    },
    {
      "cell_type": "code",
      "metadata": {
        "colab": {
          "base_uri": "https://localhost:8080/",
          "height": 415
        },
        "id": "LE9kWI-RKUcX",
        "outputId": "6a2584b9-f807-4370-8a02-2edd60921863"
      },
      "source": [
        "dados[{'g0', 'g1'}]"
      ],
      "execution_count": null,
      "outputs": [
        {
          "output_type": "execute_result",
          "data": {
            "text/html": [
              "<div>\n",
              "<style scoped>\n",
              "    .dataframe tbody tr th:only-of-type {\n",
              "        vertical-align: middle;\n",
              "    }\n",
              "\n",
              "    .dataframe tbody tr th {\n",
              "        vertical-align: top;\n",
              "    }\n",
              "\n",
              "    .dataframe thead th {\n",
              "        text-align: right;\n",
              "    }\n",
              "</style>\n",
              "<table border=\"1\" class=\"dataframe\">\n",
              "  <thead>\n",
              "    <tr style=\"text-align: right;\">\n",
              "      <th></th>\n",
              "      <th>g1</th>\n",
              "      <th>g0</th>\n",
              "    </tr>\n",
              "  </thead>\n",
              "  <tbody>\n",
              "    <tr>\n",
              "      <th>0</th>\n",
              "      <td>0.5577</td>\n",
              "      <td>1.0620</td>\n",
              "    </tr>\n",
              "    <tr>\n",
              "      <th>1</th>\n",
              "      <td>0.4087</td>\n",
              "      <td>0.0743</td>\n",
              "    </tr>\n",
              "    <tr>\n",
              "      <th>2</th>\n",
              "      <td>0.5817</td>\n",
              "      <td>0.6280</td>\n",
              "    </tr>\n",
              "    <tr>\n",
              "      <th>3</th>\n",
              "      <td>-0.2491</td>\n",
              "      <td>-0.5138</td>\n",
              "    </tr>\n",
              "    <tr>\n",
              "      <th>4</th>\n",
              "      <td>-0.4009</td>\n",
              "      <td>-0.3254</td>\n",
              "    </tr>\n",
              "    <tr>\n",
              "      <th>...</th>\n",
              "      <td>...</td>\n",
              "      <td>...</td>\n",
              "    </tr>\n",
              "    <tr>\n",
              "      <th>23809</th>\n",
              "      <td>-0.0636</td>\n",
              "      <td>0.1394</td>\n",
              "    </tr>\n",
              "    <tr>\n",
              "      <th>23810</th>\n",
              "      <td>0.3478</td>\n",
              "      <td>-1.3260</td>\n",
              "    </tr>\n",
              "    <tr>\n",
              "      <th>23811</th>\n",
              "      <td>0.3756</td>\n",
              "      <td>0.3942</td>\n",
              "    </tr>\n",
              "    <tr>\n",
              "      <th>23812</th>\n",
              "      <td>0.2324</td>\n",
              "      <td>0.6660</td>\n",
              "    </tr>\n",
              "    <tr>\n",
              "      <th>23813</th>\n",
              "      <td>1.0240</td>\n",
              "      <td>-0.8598</td>\n",
              "    </tr>\n",
              "  </tbody>\n",
              "</table>\n",
              "<p>23814 rows × 2 columns</p>\n",
              "</div>"
            ],
            "text/plain": [
              "           g1      g0\n",
              "0      0.5577  1.0620\n",
              "1      0.4087  0.0743\n",
              "2      0.5817  0.6280\n",
              "3     -0.2491 -0.5138\n",
              "4     -0.4009 -0.3254\n",
              "...       ...     ...\n",
              "23809 -0.0636  0.1394\n",
              "23810  0.3478 -1.3260\n",
              "23811  0.3756  0.3942\n",
              "23812  0.2324  0.6660\n",
              "23813  1.0240 -0.8598\n",
              "\n",
              "[23814 rows x 2 columns]"
            ]
          },
          "metadata": {
            "tags": []
          },
          "execution_count": 16
        }
      ]
    },
    {
      "cell_type": "code",
      "metadata": {
        "colab": {
          "base_uri": "https://localhost:8080/"
        },
        "id": "mWxNJ83UKlB4",
        "outputId": "338d8bb3-c56b-4743-fdbd-821252f9f9ee"
      },
      "source": [
        "dados.loc[0,'g0'] # linha e coluna"
      ],
      "execution_count": null,
      "outputs": [
        {
          "output_type": "execute_result",
          "data": {
            "text/plain": [
              "1.062"
            ]
          },
          "metadata": {
            "tags": []
          },
          "execution_count": 17
        }
      ]
    },
    {
      "cell_type": "markdown",
      "metadata": {
        "id": "GcOIaRj-yls2"
      },
      "source": [
        "Uma estratégia mais direta em que não precisaremos escrever a lista gene a gene, é o uso da função loc[] do Pandas. Como argumentos, passamos primeiramente o :, os dois pontos faz com que o loc[]retorne todos os elementos de uma determinada coluna, isso é importante quando não sabemos qual a quantidade de linhas de um dataframe. E, o segundo elemento, passamos as colunas que são de nosso interesse. No caso, queremos que a função nos retorne todos os elementos das colunas g-0até g-771. E, por fim, podemos declarar a nossa função de interesse a partir deste filtro realizado nos dados, o describe()."
      ]
    },
    {
      "cell_type": "code",
      "metadata": {
        "colab": {
          "base_uri": "https://localhost:8080/",
          "height": 343
        },
        "id": "zQQer5XtKwFN",
        "outputId": "5556560b-7e71-4bae-9d92-beefb0446aff"
      },
      "source": [
        "dados.loc[:,'g0':'g771'].describe() # : pega todas as linhas"
      ],
      "execution_count": null,
      "outputs": [
        {
          "output_type": "execute_result",
          "data": {
            "text/html": [
              "<div>\n",
              "<style scoped>\n",
              "    .dataframe tbody tr th:only-of-type {\n",
              "        vertical-align: middle;\n",
              "    }\n",
              "\n",
              "    .dataframe tbody tr th {\n",
              "        vertical-align: top;\n",
              "    }\n",
              "\n",
              "    .dataframe thead th {\n",
              "        text-align: right;\n",
              "    }\n",
              "</style>\n",
              "<table border=\"1\" class=\"dataframe\">\n",
              "  <thead>\n",
              "    <tr style=\"text-align: right;\">\n",
              "      <th></th>\n",
              "      <th>g0</th>\n",
              "      <th>g1</th>\n",
              "      <th>g2</th>\n",
              "      <th>g3</th>\n",
              "      <th>g4</th>\n",
              "      <th>g5</th>\n",
              "      <th>g6</th>\n",
              "      <th>g7</th>\n",
              "      <th>g8</th>\n",
              "      <th>g9</th>\n",
              "      <th>g10</th>\n",
              "      <th>g11</th>\n",
              "      <th>g12</th>\n",
              "      <th>g13</th>\n",
              "      <th>g14</th>\n",
              "      <th>g15</th>\n",
              "      <th>g16</th>\n",
              "      <th>g17</th>\n",
              "      <th>g18</th>\n",
              "      <th>g19</th>\n",
              "      <th>g20</th>\n",
              "      <th>g21</th>\n",
              "      <th>g22</th>\n",
              "      <th>g23</th>\n",
              "      <th>g24</th>\n",
              "      <th>g25</th>\n",
              "      <th>g26</th>\n",
              "      <th>g27</th>\n",
              "      <th>g28</th>\n",
              "      <th>g29</th>\n",
              "      <th>g30</th>\n",
              "      <th>g31</th>\n",
              "      <th>g32</th>\n",
              "      <th>g33</th>\n",
              "      <th>g34</th>\n",
              "      <th>g35</th>\n",
              "      <th>g36</th>\n",
              "      <th>g37</th>\n",
              "      <th>g38</th>\n",
              "      <th>g39</th>\n",
              "      <th>...</th>\n",
              "      <th>g732</th>\n",
              "      <th>g733</th>\n",
              "      <th>g734</th>\n",
              "      <th>g735</th>\n",
              "      <th>g736</th>\n",
              "      <th>g737</th>\n",
              "      <th>g738</th>\n",
              "      <th>g739</th>\n",
              "      <th>g740</th>\n",
              "      <th>g741</th>\n",
              "      <th>g742</th>\n",
              "      <th>g743</th>\n",
              "      <th>g744</th>\n",
              "      <th>g745</th>\n",
              "      <th>g746</th>\n",
              "      <th>g747</th>\n",
              "      <th>g748</th>\n",
              "      <th>g749</th>\n",
              "      <th>g750</th>\n",
              "      <th>g751</th>\n",
              "      <th>g752</th>\n",
              "      <th>g753</th>\n",
              "      <th>g754</th>\n",
              "      <th>g755</th>\n",
              "      <th>g756</th>\n",
              "      <th>g757</th>\n",
              "      <th>g758</th>\n",
              "      <th>g759</th>\n",
              "      <th>g760</th>\n",
              "      <th>g761</th>\n",
              "      <th>g762</th>\n",
              "      <th>g763</th>\n",
              "      <th>g764</th>\n",
              "      <th>g765</th>\n",
              "      <th>g766</th>\n",
              "      <th>g767</th>\n",
              "      <th>g768</th>\n",
              "      <th>g769</th>\n",
              "      <th>g770</th>\n",
              "      <th>g771</th>\n",
              "    </tr>\n",
              "  </thead>\n",
              "  <tbody>\n",
              "    <tr>\n",
              "      <th>count</th>\n",
              "      <td>23814.000000</td>\n",
              "      <td>23814.000000</td>\n",
              "      <td>23814.000000</td>\n",
              "      <td>23814.000000</td>\n",
              "      <td>23814.000000</td>\n",
              "      <td>23814.000000</td>\n",
              "      <td>23814.000000</td>\n",
              "      <td>23814.000000</td>\n",
              "      <td>23814.000000</td>\n",
              "      <td>23814.000000</td>\n",
              "      <td>23814.000000</td>\n",
              "      <td>23814.000000</td>\n",
              "      <td>23814.000000</td>\n",
              "      <td>23814.000000</td>\n",
              "      <td>23814.000000</td>\n",
              "      <td>23814.000000</td>\n",
              "      <td>23814.000000</td>\n",
              "      <td>23814.000000</td>\n",
              "      <td>23814.000000</td>\n",
              "      <td>23814.000000</td>\n",
              "      <td>23814.000000</td>\n",
              "      <td>23814.000000</td>\n",
              "      <td>23814.000000</td>\n",
              "      <td>23814.000000</td>\n",
              "      <td>23814.000000</td>\n",
              "      <td>23814.000000</td>\n",
              "      <td>23814.000000</td>\n",
              "      <td>23814.000000</td>\n",
              "      <td>23814.000000</td>\n",
              "      <td>23814.000000</td>\n",
              "      <td>23814.000000</td>\n",
              "      <td>23814.000000</td>\n",
              "      <td>23814.000000</td>\n",
              "      <td>23814.000000</td>\n",
              "      <td>23814.000000</td>\n",
              "      <td>23814.000000</td>\n",
              "      <td>23814.000000</td>\n",
              "      <td>23814.000000</td>\n",
              "      <td>23814.000000</td>\n",
              "      <td>23814.000000</td>\n",
              "      <td>...</td>\n",
              "      <td>23814.000000</td>\n",
              "      <td>23814.000000</td>\n",
              "      <td>23814.000000</td>\n",
              "      <td>23814.000000</td>\n",
              "      <td>23814.000000</td>\n",
              "      <td>23814.000000</td>\n",
              "      <td>23814.000000</td>\n",
              "      <td>23814.000000</td>\n",
              "      <td>23814.000000</td>\n",
              "      <td>23814.000000</td>\n",
              "      <td>23814.000000</td>\n",
              "      <td>23814.000000</td>\n",
              "      <td>23814.000000</td>\n",
              "      <td>23814.000000</td>\n",
              "      <td>23814.000000</td>\n",
              "      <td>23814.000000</td>\n",
              "      <td>23814.000000</td>\n",
              "      <td>23814.000000</td>\n",
              "      <td>23814.000000</td>\n",
              "      <td>23814.000000</td>\n",
              "      <td>23814.000000</td>\n",
              "      <td>23814.000000</td>\n",
              "      <td>23814.000000</td>\n",
              "      <td>23814.000000</td>\n",
              "      <td>23814.000000</td>\n",
              "      <td>23814.000000</td>\n",
              "      <td>23814.000000</td>\n",
              "      <td>23814.000000</td>\n",
              "      <td>23814.000000</td>\n",
              "      <td>23814.000000</td>\n",
              "      <td>23814.000000</td>\n",
              "      <td>23814.000000</td>\n",
              "      <td>23814.000000</td>\n",
              "      <td>23814.000000</td>\n",
              "      <td>23814.000000</td>\n",
              "      <td>23814.000000</td>\n",
              "      <td>23814.000000</td>\n",
              "      <td>23814.000000</td>\n",
              "      <td>23814.000000</td>\n",
              "      <td>23814.000000</td>\n",
              "    </tr>\n",
              "    <tr>\n",
              "      <th>mean</th>\n",
              "      <td>0.248366</td>\n",
              "      <td>-0.095684</td>\n",
              "      <td>0.152253</td>\n",
              "      <td>0.081971</td>\n",
              "      <td>0.057347</td>\n",
              "      <td>-0.138836</td>\n",
              "      <td>0.035961</td>\n",
              "      <td>-0.202651</td>\n",
              "      <td>-0.190083</td>\n",
              "      <td>0.119905</td>\n",
              "      <td>-0.123321</td>\n",
              "      <td>0.182307</td>\n",
              "      <td>0.143203</td>\n",
              "      <td>0.209402</td>\n",
              "      <td>-0.173884</td>\n",
              "      <td>-0.024432</td>\n",
              "      <td>0.126823</td>\n",
              "      <td>-0.146663</td>\n",
              "      <td>0.087687</td>\n",
              "      <td>-0.082982</td>\n",
              "      <td>-0.111908</td>\n",
              "      <td>-0.087379</td>\n",
              "      <td>0.047548</td>\n",
              "      <td>-0.117474</td>\n",
              "      <td>-0.113212</td>\n",
              "      <td>-0.052746</td>\n",
              "      <td>-0.091055</td>\n",
              "      <td>0.112176</td>\n",
              "      <td>-0.046458</td>\n",
              "      <td>-0.076239</td>\n",
              "      <td>-0.197699</td>\n",
              "      <td>0.382177</td>\n",
              "      <td>-0.189432</td>\n",
              "      <td>0.078791</td>\n",
              "      <td>-0.093312</td>\n",
              "      <td>0.135729</td>\n",
              "      <td>-0.188616</td>\n",
              "      <td>-0.606710</td>\n",
              "      <td>0.534425</td>\n",
              "      <td>0.132026</td>\n",
              "      <td>...</td>\n",
              "      <td>0.263569</td>\n",
              "      <td>-0.242638</td>\n",
              "      <td>0.110180</td>\n",
              "      <td>-0.039868</td>\n",
              "      <td>-0.064056</td>\n",
              "      <td>0.193629</td>\n",
              "      <td>0.004470</td>\n",
              "      <td>-0.187085</td>\n",
              "      <td>0.067186</td>\n",
              "      <td>0.006159</td>\n",
              "      <td>-0.201189</td>\n",
              "      <td>-0.243317</td>\n",
              "      <td>0.548903</td>\n",
              "      <td>0.247065</td>\n",
              "      <td>0.085950</td>\n",
              "      <td>0.090544</td>\n",
              "      <td>0.215525</td>\n",
              "      <td>-0.007705</td>\n",
              "      <td>0.236954</td>\n",
              "      <td>0.022785</td>\n",
              "      <td>0.103224</td>\n",
              "      <td>0.048402</td>\n",
              "      <td>0.109367</td>\n",
              "      <td>-0.103262</td>\n",
              "      <td>0.004129</td>\n",
              "      <td>0.066211</td>\n",
              "      <td>0.072773</td>\n",
              "      <td>-0.033051</td>\n",
              "      <td>-0.400643</td>\n",
              "      <td>-0.338978</td>\n",
              "      <td>0.207299</td>\n",
              "      <td>0.009161</td>\n",
              "      <td>0.171027</td>\n",
              "      <td>0.002316</td>\n",
              "      <td>-0.209799</td>\n",
              "      <td>-0.076251</td>\n",
              "      <td>0.134162</td>\n",
              "      <td>-0.128018</td>\n",
              "      <td>-0.219210</td>\n",
              "      <td>0.101524</td>\n",
              "    </tr>\n",
              "    <tr>\n",
              "      <th>std</th>\n",
              "      <td>1.393399</td>\n",
              "      <td>0.812363</td>\n",
              "      <td>1.035731</td>\n",
              "      <td>0.950012</td>\n",
              "      <td>1.032091</td>\n",
              "      <td>1.179388</td>\n",
              "      <td>0.882395</td>\n",
              "      <td>1.125494</td>\n",
              "      <td>1.749885</td>\n",
              "      <td>1.087180</td>\n",
              "      <td>1.291501</td>\n",
              "      <td>1.253604</td>\n",
              "      <td>1.234590</td>\n",
              "      <td>1.273068</td>\n",
              "      <td>1.247178</td>\n",
              "      <td>0.659839</td>\n",
              "      <td>1.418997</td>\n",
              "      <td>1.179688</td>\n",
              "      <td>0.743301</td>\n",
              "      <td>0.844796</td>\n",
              "      <td>1.219529</td>\n",
              "      <td>0.824401</td>\n",
              "      <td>0.924838</td>\n",
              "      <td>0.760159</td>\n",
              "      <td>1.203186</td>\n",
              "      <td>0.866977</td>\n",
              "      <td>1.103765</td>\n",
              "      <td>1.001687</td>\n",
              "      <td>1.027758</td>\n",
              "      <td>1.279399</td>\n",
              "      <td>1.302567</td>\n",
              "      <td>1.559174</td>\n",
              "      <td>0.933514</td>\n",
              "      <td>1.172270</td>\n",
              "      <td>1.174325</td>\n",
              "      <td>1.061719</td>\n",
              "      <td>1.397677</td>\n",
              "      <td>2.200277</td>\n",
              "      <td>2.003317</td>\n",
              "      <td>0.990477</td>\n",
              "      <td>...</td>\n",
              "      <td>1.075809</td>\n",
              "      <td>1.309482</td>\n",
              "      <td>0.881283</td>\n",
              "      <td>0.917119</td>\n",
              "      <td>1.186966</td>\n",
              "      <td>1.212621</td>\n",
              "      <td>1.175611</td>\n",
              "      <td>1.182180</td>\n",
              "      <td>1.057292</td>\n",
              "      <td>0.996940</td>\n",
              "      <td>1.029370</td>\n",
              "      <td>1.378815</td>\n",
              "      <td>2.023791</td>\n",
              "      <td>1.639307</td>\n",
              "      <td>1.238753</td>\n",
              "      <td>0.961212</td>\n",
              "      <td>1.293783</td>\n",
              "      <td>0.966213</td>\n",
              "      <td>1.284074</td>\n",
              "      <td>1.015557</td>\n",
              "      <td>1.035968</td>\n",
              "      <td>1.048645</td>\n",
              "      <td>0.856080</td>\n",
              "      <td>1.175372</td>\n",
              "      <td>0.701031</td>\n",
              "      <td>0.996914</td>\n",
              "      <td>1.077310</td>\n",
              "      <td>1.579948</td>\n",
              "      <td>1.913468</td>\n",
              "      <td>1.701554</td>\n",
              "      <td>1.096488</td>\n",
              "      <td>1.200395</td>\n",
              "      <td>1.357701</td>\n",
              "      <td>1.052771</td>\n",
              "      <td>1.201918</td>\n",
              "      <td>1.115477</td>\n",
              "      <td>0.951264</td>\n",
              "      <td>1.230636</td>\n",
              "      <td>1.326193</td>\n",
              "      <td>1.417674</td>\n",
              "    </tr>\n",
              "    <tr>\n",
              "      <th>min</th>\n",
              "      <td>-5.513000</td>\n",
              "      <td>-5.737000</td>\n",
              "      <td>-9.104000</td>\n",
              "      <td>-5.998000</td>\n",
              "      <td>-6.369000</td>\n",
              "      <td>-10.000000</td>\n",
              "      <td>-10.000000</td>\n",
              "      <td>-10.000000</td>\n",
              "      <td>-10.000000</td>\n",
              "      <td>-8.337000</td>\n",
              "      <td>-10.000000</td>\n",
              "      <td>-5.870000</td>\n",
              "      <td>-8.587000</td>\n",
              "      <td>-5.018000</td>\n",
              "      <td>-10.000000</td>\n",
              "      <td>-10.000000</td>\n",
              "      <td>-10.000000</td>\n",
              "      <td>-10.000000</td>\n",
              "      <td>-4.226000</td>\n",
              "      <td>-10.000000</td>\n",
              "      <td>-10.000000</td>\n",
              "      <td>-5.700000</td>\n",
              "      <td>-10.000000</td>\n",
              "      <td>-10.000000</td>\n",
              "      <td>-10.000000</td>\n",
              "      <td>-8.272000</td>\n",
              "      <td>-8.184000</td>\n",
              "      <td>-4.835000</td>\n",
              "      <td>-7.913000</td>\n",
              "      <td>-10.000000</td>\n",
              "      <td>-10.000000</td>\n",
              "      <td>-2.956000</td>\n",
              "      <td>-8.356000</td>\n",
              "      <td>-7.182000</td>\n",
              "      <td>-10.000000</td>\n",
              "      <td>-9.261000</td>\n",
              "      <td>-10.000000</td>\n",
              "      <td>-10.000000</td>\n",
              "      <td>-10.000000</td>\n",
              "      <td>-4.223000</td>\n",
              "      <td>...</td>\n",
              "      <td>-5.504000</td>\n",
              "      <td>-10.000000</td>\n",
              "      <td>-3.790000</td>\n",
              "      <td>-10.000000</td>\n",
              "      <td>-10.000000</td>\n",
              "      <td>-10.000000</td>\n",
              "      <td>-7.920000</td>\n",
              "      <td>-10.000000</td>\n",
              "      <td>-9.462000</td>\n",
              "      <td>-6.634000</td>\n",
              "      <td>-10.000000</td>\n",
              "      <td>-10.000000</td>\n",
              "      <td>-2.912000</td>\n",
              "      <td>-9.833000</td>\n",
              "      <td>-7.227000</td>\n",
              "      <td>-5.561000</td>\n",
              "      <td>-8.393000</td>\n",
              "      <td>-5.790000</td>\n",
              "      <td>-4.915000</td>\n",
              "      <td>-10.000000</td>\n",
              "      <td>-10.000000</td>\n",
              "      <td>-7.918000</td>\n",
              "      <td>-5.255000</td>\n",
              "      <td>-10.000000</td>\n",
              "      <td>-6.264000</td>\n",
              "      <td>-10.000000</td>\n",
              "      <td>-5.505000</td>\n",
              "      <td>-10.000000</td>\n",
              "      <td>-10.000000</td>\n",
              "      <td>-10.000000</td>\n",
              "      <td>-8.193000</td>\n",
              "      <td>-10.000000</td>\n",
              "      <td>-9.795000</td>\n",
              "      <td>-8.180000</td>\n",
              "      <td>-10.000000</td>\n",
              "      <td>-10.000000</td>\n",
              "      <td>-4.269000</td>\n",
              "      <td>-10.000000</td>\n",
              "      <td>-10.000000</td>\n",
              "      <td>-10.000000</td>\n",
              "    </tr>\n",
              "    <tr>\n",
              "      <th>25%</th>\n",
              "      <td>-0.473075</td>\n",
              "      <td>-0.562200</td>\n",
              "      <td>-0.437750</td>\n",
              "      <td>-0.429575</td>\n",
              "      <td>-0.470925</td>\n",
              "      <td>-0.602225</td>\n",
              "      <td>-0.493900</td>\n",
              "      <td>-0.525175</td>\n",
              "      <td>-0.511675</td>\n",
              "      <td>-0.360200</td>\n",
              "      <td>-0.511475</td>\n",
              "      <td>-0.489675</td>\n",
              "      <td>-0.447500</td>\n",
              "      <td>-0.481200</td>\n",
              "      <td>-0.607975</td>\n",
              "      <td>-0.404150</td>\n",
              "      <td>-0.391950</td>\n",
              "      <td>-0.513775</td>\n",
              "      <td>-0.272200</td>\n",
              "      <td>-0.488675</td>\n",
              "      <td>-0.524600</td>\n",
              "      <td>-0.538900</td>\n",
              "      <td>-0.440375</td>\n",
              "      <td>-0.508900</td>\n",
              "      <td>-0.533900</td>\n",
              "      <td>-0.497700</td>\n",
              "      <td>-0.512875</td>\n",
              "      <td>-0.467800</td>\n",
              "      <td>-0.378300</td>\n",
              "      <td>-0.505750</td>\n",
              "      <td>-0.457975</td>\n",
              "      <td>-0.328200</td>\n",
              "      <td>-0.600500</td>\n",
              "      <td>-0.478700</td>\n",
              "      <td>-0.570525</td>\n",
              "      <td>-0.481800</td>\n",
              "      <td>-0.541950</td>\n",
              "      <td>-0.604100</td>\n",
              "      <td>-0.470250</td>\n",
              "      <td>-0.401700</td>\n",
              "      <td>...</td>\n",
              "      <td>-0.390700</td>\n",
              "      <td>-0.565075</td>\n",
              "      <td>-0.433275</td>\n",
              "      <td>-0.498650</td>\n",
              "      <td>-0.526300</td>\n",
              "      <td>-0.430750</td>\n",
              "      <td>-0.488775</td>\n",
              "      <td>-0.593125</td>\n",
              "      <td>-0.498275</td>\n",
              "      <td>-0.489800</td>\n",
              "      <td>-0.564100</td>\n",
              "      <td>-0.538000</td>\n",
              "      <td>-0.464000</td>\n",
              "      <td>-0.521975</td>\n",
              "      <td>-0.488600</td>\n",
              "      <td>-0.442925</td>\n",
              "      <td>-0.457200</td>\n",
              "      <td>-0.477900</td>\n",
              "      <td>-0.458175</td>\n",
              "      <td>-0.479075</td>\n",
              "      <td>-0.478825</td>\n",
              "      <td>-0.489300</td>\n",
              "      <td>-0.327500</td>\n",
              "      <td>-0.576775</td>\n",
              "      <td>-0.278275</td>\n",
              "      <td>-0.492700</td>\n",
              "      <td>-0.501575</td>\n",
              "      <td>-0.526450</td>\n",
              "      <td>-0.507375</td>\n",
              "      <td>-0.559175</td>\n",
              "      <td>-0.433875</td>\n",
              "      <td>-0.502250</td>\n",
              "      <td>-0.537075</td>\n",
              "      <td>-0.508775</td>\n",
              "      <td>-0.606175</td>\n",
              "      <td>-0.506200</td>\n",
              "      <td>-0.353100</td>\n",
              "      <td>-0.544600</td>\n",
              "      <td>-0.554400</td>\n",
              "      <td>-0.523800</td>\n",
              "    </tr>\n",
              "    <tr>\n",
              "      <th>50%</th>\n",
              "      <td>-0.008850</td>\n",
              "      <td>-0.046600</td>\n",
              "      <td>0.075200</td>\n",
              "      <td>0.008050</td>\n",
              "      <td>-0.026900</td>\n",
              "      <td>-0.015650</td>\n",
              "      <td>-0.000650</td>\n",
              "      <td>-0.017900</td>\n",
              "      <td>0.010000</td>\n",
              "      <td>0.160450</td>\n",
              "      <td>0.038550</td>\n",
              "      <td>0.013800</td>\n",
              "      <td>0.060250</td>\n",
              "      <td>0.009800</td>\n",
              "      <td>-0.030100</td>\n",
              "      <td>0.000000</td>\n",
              "      <td>0.149400</td>\n",
              "      <td>-0.002200</td>\n",
              "      <td>0.000000</td>\n",
              "      <td>-0.027800</td>\n",
              "      <td>-0.002800</td>\n",
              "      <td>-0.069350</td>\n",
              "      <td>-0.011800</td>\n",
              "      <td>0.000000</td>\n",
              "      <td>0.018300</td>\n",
              "      <td>-0.011650</td>\n",
              "      <td>0.016100</td>\n",
              "      <td>0.037600</td>\n",
              "      <td>0.003750</td>\n",
              "      <td>0.021750</td>\n",
              "      <td>0.027000</td>\n",
              "      <td>0.019100</td>\n",
              "      <td>-0.054000</td>\n",
              "      <td>0.023350</td>\n",
              "      <td>0.003350</td>\n",
              "      <td>-0.000600</td>\n",
              "      <td>0.015350</td>\n",
              "      <td>-0.000700</td>\n",
              "      <td>0.005800</td>\n",
              "      <td>0.007400</td>\n",
              "      <td>...</td>\n",
              "      <td>0.065650</td>\n",
              "      <td>-0.014100</td>\n",
              "      <td>0.030850</td>\n",
              "      <td>-0.001800</td>\n",
              "      <td>-0.008400</td>\n",
              "      <td>0.101400</td>\n",
              "      <td>0.033400</td>\n",
              "      <td>-0.001600</td>\n",
              "      <td>0.000850</td>\n",
              "      <td>0.014800</td>\n",
              "      <td>-0.044000</td>\n",
              "      <td>0.017400</td>\n",
              "      <td>0.000850</td>\n",
              "      <td>-0.015550</td>\n",
              "      <td>0.025350</td>\n",
              "      <td>0.017750</td>\n",
              "      <td>0.053450</td>\n",
              "      <td>0.027700</td>\n",
              "      <td>-0.002100</td>\n",
              "      <td>0.009500</td>\n",
              "      <td>-0.004450</td>\n",
              "      <td>-0.000050</td>\n",
              "      <td>0.002400</td>\n",
              "      <td>0.024250</td>\n",
              "      <td>0.000000</td>\n",
              "      <td>0.005300</td>\n",
              "      <td>0.013600</td>\n",
              "      <td>0.001350</td>\n",
              "      <td>0.007350</td>\n",
              "      <td>0.038700</td>\n",
              "      <td>0.059600</td>\n",
              "      <td>-0.005900</td>\n",
              "      <td>-0.013600</td>\n",
              "      <td>-0.027700</td>\n",
              "      <td>-0.011850</td>\n",
              "      <td>0.009900</td>\n",
              "      <td>0.005400</td>\n",
              "      <td>0.000600</td>\n",
              "      <td>0.028700</td>\n",
              "      <td>-0.006500</td>\n",
              "    </tr>\n",
              "    <tr>\n",
              "      <th>75%</th>\n",
              "      <td>0.525700</td>\n",
              "      <td>0.403075</td>\n",
              "      <td>0.663925</td>\n",
              "      <td>0.463400</td>\n",
              "      <td>0.465375</td>\n",
              "      <td>0.510425</td>\n",
              "      <td>0.528725</td>\n",
              "      <td>0.411900</td>\n",
              "      <td>0.549225</td>\n",
              "      <td>0.697775</td>\n",
              "      <td>0.525400</td>\n",
              "      <td>0.575275</td>\n",
              "      <td>0.604450</td>\n",
              "      <td>0.575825</td>\n",
              "      <td>0.457975</td>\n",
              "      <td>0.382475</td>\n",
              "      <td>0.829500</td>\n",
              "      <td>0.494775</td>\n",
              "      <td>0.327800</td>\n",
              "      <td>0.400600</td>\n",
              "      <td>0.492400</td>\n",
              "      <td>0.414875</td>\n",
              "      <td>0.433400</td>\n",
              "      <td>0.329250</td>\n",
              "      <td>0.527700</td>\n",
              "      <td>0.461650</td>\n",
              "      <td>0.508425</td>\n",
              "      <td>0.586450</td>\n",
              "      <td>0.431275</td>\n",
              "      <td>0.507600</td>\n",
              "      <td>0.458075</td>\n",
              "      <td>0.471075</td>\n",
              "      <td>0.391950</td>\n",
              "      <td>0.551300</td>\n",
              "      <td>0.503725</td>\n",
              "      <td>0.564875</td>\n",
              "      <td>0.517025</td>\n",
              "      <td>0.460500</td>\n",
              "      <td>0.642300</td>\n",
              "      <td>0.439400</td>\n",
              "      <td>...</td>\n",
              "      <td>0.646900</td>\n",
              "      <td>0.467900</td>\n",
              "      <td>0.543400</td>\n",
              "      <td>0.477200</td>\n",
              "      <td>0.497400</td>\n",
              "      <td>0.846400</td>\n",
              "      <td>0.573875</td>\n",
              "      <td>0.501675</td>\n",
              "      <td>0.519825</td>\n",
              "      <td>0.515000</td>\n",
              "      <td>0.412375</td>\n",
              "      <td>0.479400</td>\n",
              "      <td>0.646325</td>\n",
              "      <td>0.565200</td>\n",
              "      <td>0.610075</td>\n",
              "      <td>0.506975</td>\n",
              "      <td>0.671725</td>\n",
              "      <td>0.514175</td>\n",
              "      <td>0.524175</td>\n",
              "      <td>0.501325</td>\n",
              "      <td>0.516975</td>\n",
              "      <td>0.517475</td>\n",
              "      <td>0.375275</td>\n",
              "      <td>0.572250</td>\n",
              "      <td>0.251600</td>\n",
              "      <td>0.540950</td>\n",
              "      <td>0.530900</td>\n",
              "      <td>0.527900</td>\n",
              "      <td>0.475275</td>\n",
              "      <td>0.522075</td>\n",
              "      <td>0.648500</td>\n",
              "      <td>0.492150</td>\n",
              "      <td>0.522500</td>\n",
              "      <td>0.457000</td>\n",
              "      <td>0.483000</td>\n",
              "      <td>0.511175</td>\n",
              "      <td>0.409075</td>\n",
              "      <td>0.498500</td>\n",
              "      <td>0.496400</td>\n",
              "      <td>0.536950</td>\n",
              "    </tr>\n",
              "    <tr>\n",
              "      <th>max</th>\n",
              "      <td>10.000000</td>\n",
              "      <td>5.039000</td>\n",
              "      <td>8.257000</td>\n",
              "      <td>10.000000</td>\n",
              "      <td>10.000000</td>\n",
              "      <td>7.282000</td>\n",
              "      <td>7.333000</td>\n",
              "      <td>5.473000</td>\n",
              "      <td>8.887000</td>\n",
              "      <td>6.433000</td>\n",
              "      <td>10.000000</td>\n",
              "      <td>10.000000</td>\n",
              "      <td>10.000000</td>\n",
              "      <td>10.000000</td>\n",
              "      <td>10.000000</td>\n",
              "      <td>4.134000</td>\n",
              "      <td>6.418000</td>\n",
              "      <td>4.750000</td>\n",
              "      <td>8.872000</td>\n",
              "      <td>4.081000</td>\n",
              "      <td>9.842000</td>\n",
              "      <td>5.248000</td>\n",
              "      <td>5.942000</td>\n",
              "      <td>5.201000</td>\n",
              "      <td>10.000000</td>\n",
              "      <td>8.494000</td>\n",
              "      <td>10.000000</td>\n",
              "      <td>10.000000</td>\n",
              "      <td>10.000000</td>\n",
              "      <td>9.416000</td>\n",
              "      <td>10.000000</td>\n",
              "      <td>10.000000</td>\n",
              "      <td>6.796000</td>\n",
              "      <td>10.000000</td>\n",
              "      <td>10.000000</td>\n",
              "      <td>10.000000</td>\n",
              "      <td>5.834000</td>\n",
              "      <td>5.602000</td>\n",
              "      <td>10.000000</td>\n",
              "      <td>10.000000</td>\n",
              "      <td>...</td>\n",
              "      <td>10.000000</td>\n",
              "      <td>5.444000</td>\n",
              "      <td>10.000000</td>\n",
              "      <td>4.889000</td>\n",
              "      <td>10.000000</td>\n",
              "      <td>7.635000</td>\n",
              "      <td>10.000000</td>\n",
              "      <td>6.664000</td>\n",
              "      <td>9.566000</td>\n",
              "      <td>10.000000</td>\n",
              "      <td>3.497000</td>\n",
              "      <td>6.911000</td>\n",
              "      <td>10.000000</td>\n",
              "      <td>10.000000</td>\n",
              "      <td>10.000000</td>\n",
              "      <td>10.000000</td>\n",
              "      <td>10.000000</td>\n",
              "      <td>10.000000</td>\n",
              "      <td>10.000000</td>\n",
              "      <td>10.000000</td>\n",
              "      <td>10.000000</td>\n",
              "      <td>10.000000</td>\n",
              "      <td>10.000000</td>\n",
              "      <td>5.323000</td>\n",
              "      <td>10.000000</td>\n",
              "      <td>6.533000</td>\n",
              "      <td>10.000000</td>\n",
              "      <td>10.000000</td>\n",
              "      <td>4.008000</td>\n",
              "      <td>5.900000</td>\n",
              "      <td>10.000000</td>\n",
              "      <td>9.552000</td>\n",
              "      <td>10.000000</td>\n",
              "      <td>8.346000</td>\n",
              "      <td>5.444000</td>\n",
              "      <td>6.317000</td>\n",
              "      <td>10.000000</td>\n",
              "      <td>5.911000</td>\n",
              "      <td>10.000000</td>\n",
              "      <td>10.000000</td>\n",
              "    </tr>\n",
              "  </tbody>\n",
              "</table>\n",
              "<p>8 rows × 772 columns</p>\n",
              "</div>"
            ],
            "text/plain": [
              "                 g0            g1  ...          g770          g771\n",
              "count  23814.000000  23814.000000  ...  23814.000000  23814.000000\n",
              "mean       0.248366     -0.095684  ...     -0.219210      0.101524\n",
              "std        1.393399      0.812363  ...      1.326193      1.417674\n",
              "min       -5.513000     -5.737000  ...    -10.000000    -10.000000\n",
              "25%       -0.473075     -0.562200  ...     -0.554400     -0.523800\n",
              "50%       -0.008850     -0.046600  ...      0.028700     -0.006500\n",
              "75%        0.525700      0.403075  ...      0.496400      0.536950\n",
              "max       10.000000      5.039000  ...     10.000000     10.000000\n",
              "\n",
              "[8 rows x 772 columns]"
            ]
          },
          "metadata": {
            "tags": []
          },
          "execution_count": 18
        }
      ]
    },
    {
      "cell_type": "markdown",
      "metadata": {
        "id": "Wg-Dttc5y6eu"
      },
      "source": [
        "\n",
        "Apesar do describe reunir as nossas estatísticas de interesse, é bastante complexo analisar o dataframe resposta. Para facilitar o nosso entendimento, vamos plotar histogramas que nos ajudaram na visualização das estatísticas de todas as colunas selecionadas. Olhando o dataframe original, anteriormente, fizemos o histograma de apenas uma coluna. Mas agora, nosso conjunto de dados de interesse é o describe() que fizemos a partir do loc[] e, deste ponto de vista, não queremos mais fazer o histograma coluna a coluna (genes), queremos que ele seja a partir das linhas (estatísticas). Por isso, vamos transpor as linhas e colunas (transformar as linhas em colunas e vice-versa). Para isso, vamos usar o .T[] no código anterior que produzimos para organizar o describe(). Ou seja, vamos manter todo o código até o describe() e, ao final, acrescentaremos o .T[]. Mas, ao rodarmos essa linha, percebemos que temos como devolutiva o mesmo dataframe mas transposto. E, como aqui, nosso interesse é produzir histogramas, acrescentamos como argumento do .T[] a estatística alvo (.T['estatística']) e, por último, acrescentamos o .hist(bins = número de quebras) para que o histograma seja observado."
      ]
    },
    {
      "cell_type": "code",
      "metadata": {
        "colab": {
          "base_uri": "https://localhost:8080/",
          "height": 285
        },
        "id": "cv-K0hoOLhn6",
        "outputId": "b52ad87b-ae92-4295-bc0b-6d4d8b7de8c9"
      },
      "source": [
        "dados.loc[:,'g0':'g771'].describe().T['mean'].hist(bins=30) #inverte linhas e colunas"
      ],
      "execution_count": null,
      "outputs": [
        {
          "output_type": "execute_result",
          "data": {
            "text/plain": [
              "<matplotlib.axes._subplots.AxesSubplot at 0x7f1845ee74d0>"
            ]
          },
          "metadata": {
            "tags": []
          },
          "execution_count": 19
        },
        {
          "output_type": "display_data",
          "data": {
            "image/png": "[encoded data removed]",
            "text/plain": [
              "<Figure size 432x288 with 1 Axes>"
            ]
          },
          "metadata": {
            "tags": []
          }
        }
      ]
    },
    {
      "cell_type": "code",
      "metadata": {
        "colab": {
          "base_uri": "https://localhost:8080/",
          "height": 285
        },
        "id": "JLB6_FZeMKFb",
        "outputId": "500e0b0d-966a-4095-f6f6-30c04cc4837e"
      },
      "source": [
        "dados.loc[:,'g0':'g771'].describe().T['min'].hist(bins=30)"
      ],
      "execution_count": null,
      "outputs": [
        {
          "output_type": "execute_result",
          "data": {
            "text/plain": [
              "<matplotlib.axes._subplots.AxesSubplot at 0x7f1845e28d50>"
            ]
          },
          "metadata": {
            "tags": []
          },
          "execution_count": 20
        },
        {
          "output_type": "display_data",
          "data": {
            "image/png": "[encoded data removed]",
            "text/plain": [
              "<Figure size 432x288 with 1 Axes>"
            ]
          },
          "metadata": {
            "tags": []
          }
        }
      ]
    },
    {
      "cell_type": "code",
      "metadata": {
        "colab": {
          "base_uri": "https://localhost:8080/",
          "height": 285
        },
        "id": "OabsxpjlMNCU",
        "outputId": "66b2fdf2-c0a2-411b-e0e0-a0540dee9930"
      },
      "source": [
        "dados.loc[:,'g0':'g771'].describe().T['max'].hist(bins=30)"
      ],
      "execution_count": null,
      "outputs": [
        {
          "output_type": "execute_result",
          "data": {
            "text/plain": [
              "<matplotlib.axes._subplots.AxesSubplot at 0x7f1845c88d10>"
            ]
          },
          "metadata": {
            "tags": []
          },
          "execution_count": 21
        },
        {
          "output_type": "display_data",
          "data": {
            "image/png": "[encoded data removed]",
            "text/plain": [
              "<Figure size 432x288 with 1 Axes>"
            ]
          },
          "metadata": {
            "tags": []
          }
        }
      ]
    },
    {
      "cell_type": "code",
      "metadata": {
        "colab": {
          "base_uri": "https://localhost:8080/",
          "height": 285
        },
        "id": "7gOUk5biNmFs",
        "outputId": "169ae456-dc08-44c5-a158-30b694db5c21"
      },
      "source": [
        "dados.loc[:,'c0':'c99'].describe().T['mean'].hist(bins=30)"
      ],
      "execution_count": null,
      "outputs": [
        {
          "output_type": "execute_result",
          "data": {
            "text/plain": [
              "<matplotlib.axes._subplots.AxesSubplot at 0x7f18458a0f90>"
            ]
          },
          "metadata": {
            "tags": []
          },
          "execution_count": 22
        },
        {
          "output_type": "display_data",
          "data": {
            "image/png": "[encoded data removed]",
            "text/plain": [
              "<Figure size 432x288 with 1 Axes>"
            ]
          },
          "metadata": {
            "tags": []
          }
        }
      ]
    },
    {
      "cell_type": "code",
      "metadata": {
        "colab": {
          "base_uri": "https://localhost:8080/",
          "height": 284
        },
        "id": "YPKHsIv70NQ1",
        "outputId": "6a408d19-b18d-47d9-ecb8-0ac53ff31f57"
      },
      "source": [
        "fig, ax =plt.subplots(1,3, figsize = ( 20 , 4 ))\n",
        "dados.loc[:,'g0':'g771'].describe().T['mean'].hist(bins=50,ax=ax[0]).set_title(\"Média dos genes\")\n",
        "dados.loc[:,'g0':'g771'].describe().T['min'].hist(bins=50,ax=ax[1]).set_title(\"Mínimo dos genes\")\n",
        "dados.loc[:,'g0':'g771'].describe().T['max'].hist(bins=50,ax=ax[2]).set_title(\"Máximo dos genes\")\n",
        "fig.show()"
      ],
      "execution_count": null,
      "outputs": [
        {
          "output_type": "display_data",
          "data": {
            "image/png": "[encoded data removed]",
            "text/plain": [
              "<Figure size 1440x288 with 3 Axes>"
            ]
          },
          "metadata": {
            "tags": []
          }
        }
      ]
    },
    {
      "cell_type": "code",
      "metadata": {
        "colab": {
          "base_uri": "https://localhost:8080/",
          "height": 284
        },
        "id": "fC8LoRIl0SZb",
        "outputId": "1ed74932-a2d1-46ba-ae1a-ab3a78f438bb"
      },
      "source": [
        "\n",
        "fig, ax =plt.subplots(1,3, figsize = ( 20 , 4 ))\n",
        "dados.loc[:,'c0':'c99'].describe().T['mean'].hist(bins=50,ax=ax[0]).set_title(\"Média dos tipos celulares\")\n",
        "dados.loc[:,'c0':'c99'].describe().T['min'].hist(bins=50,ax=ax[1]).set_title(\"Mínimo dos tipos celulares\")\n",
        "dados.loc[:,'c0':'c99'].describe().T['max'].hist(bins=50,ax=ax[2]).set_title(\"Máximo dos tipos celulares\")\n",
        "fig.show()"
      ],
      "execution_count": null,
      "outputs": [
        {
          "output_type": "display_data",
          "data": {
            "image/png": "[encoded data removed]",
            "text/plain": [
              "<Figure size 1440x288 with 3 Axes>"
            ]
          },
          "metadata": {
            "tags": []
          }
        }
      ]
    },
    {
      "cell_type": "markdown",
      "metadata": {
        "id": "HIZo50UjzjLy"
      },
      "source": [
        "\n",
        "Um outro tipo de gráfico super interessante e útil é o boxplot. Para visualizá-lo, vamos usar a função boxplotdo Seaborn e, como argumentos dessa função vamos passar um x, onde x = coluna que será plotada neste eixo e a base de dados data = conjunto de dados. O boxplot apresenta uma caixa no meio onde podemos identificar a mediana (linha no meio da caixa que é o ponto onde metade dos dados estão na direita e a outra metade para a esquerda), os outliers (pontos acima ou abaixo do eixo principal do gráfico que representam valores discrepantes para mais ou para menos), a maior concentração dos dados (caixa principal que representa onde está a mior parte dos dados - primeiro quartil (25%) e terceiro quartil (75%)) e os máximos e mínimos desconsiderando os outliers (linhas laterais à caixa principal). O boxplot é uma importante ferramenta na visualização de dados porque em apenas um gráfico, podemos identificar várias métricas estatísticas."
      ]
    },
    {
      "cell_type": "code",
      "metadata": {
        "colab": {
          "base_uri": "https://localhost:8080/",
          "height": 303
        },
        "id": "rSAiizAUPDss",
        "outputId": "dab49c1b-6377-4a7b-f396-6cb657d57720"
      },
      "source": [
        "sns.boxplot(x='g0', data=dados)"
      ],
      "execution_count": null,
      "outputs": [
        {
          "output_type": "execute_result",
          "data": {
            "text/plain": [
              "<matplotlib.axes._subplots.AxesSubplot at 0x7f1845881950>"
            ]
          },
          "metadata": {
            "tags": []
          },
          "execution_count": 23
        },
        {
          "output_type": "display_data",
          "data": {
            "image/png": "[encoded data removed]",
            "text/plain": [
              "<Figure size 432x288 with 1 Axes>"
            ]
          },
          "metadata": {
            "tags": []
          }
        }
      ]
    },
    {
      "cell_type": "markdown",
      "metadata": {
        "id": "Kr_PTsClzz-S"
      },
      "source": [
        "\n",
        "Podemos também, além de definir apenas os dados que irão no eixo x, definimos os dados para o outro eixo, atribuindo um valor para o parâmetro y (y = variável que vai ser plotada neste eixo). Como podemos perceber, no boxplot que representa o tratamento = com_droga apresenta muitos outliers e isso gera uma discussão bastante interessante pois, do ponto de vista biológico a investigação desses pontos é importante mas, dependendo da área que estamos trabalhando, esse ponto pode apresentar outras soluções. Dito isso, é importante para um cientista de dados não só entender e manipular a base de dados mas também saber acerca do negócio que estamos tratando."
      ]
    },
    {
      "cell_type": "code",
      "metadata": {
        "colab": {
          "base_uri": "https://localhost:8080/",
          "height": 303
        },
        "id": "6Ia4L6rAQ26t",
        "outputId": "00d17182-aed8-4d92-ed9d-48ea328517c3"
      },
      "source": [
        "sns.boxplot(x='g0',y = 'tratamento', data=dados)"
      ],
      "execution_count": null,
      "outputs": [
        {
          "output_type": "execute_result",
          "data": {
            "text/plain": [
              "<matplotlib.axes._subplots.AxesSubplot at 0x7f1845792a10>"
            ]
          },
          "metadata": {
            "tags": []
          },
          "execution_count": 24
        },
        {
          "output_type": "display_data",
          "data": {
            "image/png": "[encoded data removed]",
            "text/plain": [
              "<Figure size 432x288 with 1 Axes>"
            ]
          },
          "metadata": {
            "tags": []
          }
        }
      ]
    },
    {
      "cell_type": "code",
      "metadata": {
        "colab": {
          "base_uri": "https://localhost:8080/",
          "height": 521
        },
        "id": "zDqL99ZoREQ8",
        "outputId": "f9d7bc45-3137-406e-dc12-4146d5abf0a9"
      },
      "source": [
        "plt.figure(figsize=(10,8))\n",
        "sns.boxplot(y='g0',x= 'tratamento', data=dados)"
      ],
      "execution_count": null,
      "outputs": [
        {
          "output_type": "execute_result",
          "data": {
            "text/plain": [
              "<matplotlib.axes._subplots.AxesSubplot at 0x7f184553f650>"
            ]
          },
          "metadata": {
            "tags": []
          },
          "execution_count": 25
        },
        {
          "output_type": "display_data",
          "data": {
            "image/png": "[encoded data removed]",
            "text/plain": [
              "<Figure size 720x576 with 1 Axes>"
            ]
          },
          "metadata": {
            "tags": []
          }
        }
      ]
    },
    {
      "cell_type": "markdown",
      "metadata": {
        "id": "_n7Mdx0zEowm"
      },
      "source": [
        "### Desafio 01: Ordenar o gráfico countplot\n",
        "### Desafio 02: Melhorar a visualização alterando tamanho da fonte...\n",
        "### Desafio 03: Plotar os histogramas com seaborn\n",
        "### Desafio 04: Estudar sobre as estatísticas retonadas no .describe()\n",
        "### Desafio 05: Refletir sobre a manipulação do tamanho das visualizações\n",
        "### Desafio 06: Fazer outras análises com o boxplot e até com o histograma\n",
        "### Desafio 07: Resumo do que você aprendeu com os dados"
      ]
    },
    {
      "cell_type": "markdown",
      "metadata": {
        "id": "0IKbyObfT30N"
      },
      "source": [
        "###Desafio 01: Ordenar o gráfico countplot"
      ]
    },
    {
      "cell_type": "code",
      "metadata": {
        "colab": {
          "base_uri": "https://localhost:8080/",
          "height": 410
        },
        "id": "wMtO5iS_T4Sl",
        "outputId": "f2f6728d-5daf-41b0-ad94-5726613cbef1"
      },
      "source": [
        "import seaborn as sns\n",
        "import matplotlib.pyplot as plt\n",
        "\n",
        "sns.set() #pega as configurações padrões do seaborn\n",
        "plt.figure(figsize=(8, 6))\n",
        "ax = sns.countplot(x='composto', data=dados.query('composto in @cod_compostos'), order = cod_compostos)\n",
        "ax.set_title('Top 5 compostos')\n",
        "plt.show()\n",
        "\n"
      ],
      "execution_count": null,
      "outputs": [
        {
          "output_type": "display_data",
          "data": {
            "image/png": "[encoded data removed]",
            "text/plain": [
              "<Figure size 576x432 with 1 Axes>"
            ]
          },
          "metadata": {
            "tags": []
          }
        }
      ]
    },
    {
      "cell_type": "code",
      "metadata": {
        "colab": {
          "base_uri": "https://localhost:8080/",
          "height": 410
        },
        "id": "YoJ80xc1XzDm",
        "outputId": "0bdccdc5-8048-442e-a4eb-7934a0b05351"
      },
      "source": [
        "cod_compostos = dados['composto'].value_counts().index[0:5:1] # decrescente\n",
        "plt.figure(figsize=(8, 6))\n",
        "ax = sns.countplot(x='composto', data=dados.query('composto in @cod_compostos'), order = cod_compostos)\n",
        "ax.set_title('Top 5 compostos')\n",
        "plt.show()"
      ],
      "execution_count": null,
      "outputs": [
        {
          "output_type": "display_data",
          "data": {
            "image/png": "[encoded data removed]",
            "text/plain": [
              "<Figure size 576x432 with 1 Axes>"
            ]
          },
          "metadata": {
            "tags": []
          }
        }
      ]
    },
    {
      "cell_type": "code",
      "metadata": {
        "colab": {
          "base_uri": "https://localhost:8080/",
          "height": 410
        },
        "id": "lje62kNHqdqj",
        "outputId": "de8e69af-dcec-4d92-db23-f09619066882"
      },
      "source": [
        "cod_compostos = dados['composto'].value_counts().index[5:0:-1] # crescente\n",
        "plt.figure(figsize=(8, 6))\n",
        "ax = sns.countplot(x='composto', data=dados.query('composto in @cod_compostos'), order = cod_compostos)\n",
        "ax.set_title('Top 5 compostos')\n",
        "plt.show()"
      ],
      "execution_count": null,
      "outputs": [
        {
          "output_type": "display_data",
          "data": {
            "image/png": "[encoded data removed]",
            "text/plain": [
              "<Figure size 576x432 with 1 Axes>"
            ]
          },
          "metadata": {
            "tags": []
          }
        }
      ]
    },
    {
      "cell_type": "markdown",
      "metadata": {
        "id": "uiuyK3lRsTtQ"
      },
      "source": [
        "### Desafio 02: Melhorar a visualização alterando tamanho da fonte..."
      ]
    },
    {
      "cell_type": "code",
      "metadata": {
        "colab": {
          "base_uri": "https://localhost:8080/",
          "height": 419
        },
        "id": "NcTUjtkOsVAb",
        "outputId": "cb35bc60-6918-4546-fbe6-6b9839503e65"
      },
      "source": [
        "cod_compostos = dados['composto'].value_counts().index[0:5:1] # decrescente\n",
        "plt.figure(figsize=(8, 6))\n",
        "ax = sns.countplot(x='composto', data=dados.query('composto in @cod_compostos'), order = cod_compostos)\n",
        "ax.set_title('Top 5 compostos', fontsize=18, color = '#5975a4')\n",
        "ax.set_xlabel('Contador', fontsize=18, color = '#5975a4')\n",
        "ax.set_ylabel('Composto', fontsize=18, color = '#5975a4')\n",
        "plt.show()"
      ],
      "execution_count": null,
      "outputs": [
        {
          "output_type": "display_data",
          "data": {
            "image/png": "[encoded data removed]",
            "text/plain": [
              "<Figure size 576x432 with 1 Axes>"
            ]
          },
          "metadata": {
            "tags": []
          }
        }
      ]
    },
    {
      "cell_type": "code",
      "metadata": {
        "colab": {
          "base_uri": "https://localhost:8080/",
          "height": 431
        },
        "id": "jK3Zan4B04RU",
        "outputId": "04a0ade2-3e7e-4f6a-8f9c-43621894ecd1"
      },
      "source": [
        "plt.figure(figsize=(8,6))\n",
        "ax = sns.countplot(\n",
        "    data=dados.query('composto in @cod_compostos'),        #utilização do query para relacionar a lista dos top5 com seus valores nos dados\n",
        "    x='composto',                                                   \n",
        "    order=cod_compostos,               #aqui ordenando os compostos segundo seu index na lista ordenada de ocorrências \n",
        "    palette=\"rocket\")                           #utilização da palette de colors 'rocket', há muitas outas disponíveis na documentação\n",
        "ax.set_title(\"Gráfico dos 5 compostos mais utilizados\",fontsize=20)           #colocando título e alterando o tamanho\n",
        "ax.set(xlabel=\"Compostos\",ylabel=\"Número de amostras\")           #set up dos eixos x e y\n",
        "ax.set_xticklabels(ax.get_xticklabels(), rotation=15)            #estilização do nome de cada composto, para ficar mais visível\n",
        "plt.show()             #mostrando o gráfico montado de maneira mais limpa"
      ],
      "execution_count": null,
      "outputs": [
        {
          "output_type": "display_data",
          "data": {
            "image/png": "[encoded data removed]",
            "text/plain": [
              "<Figure size 576x432 with 1 Axes>"
            ]
          },
          "metadata": {
            "tags": []
          }
        }
      ]
    },
    {
      "cell_type": "markdown",
      "metadata": {
        "id": "yymY2mn-u5Jk"
      },
      "source": [
        "### Desafio 03: Plotar os histogramas com seaborn"
      ]
    },
    {
      "cell_type": "code",
      "metadata": {
        "colab": {
          "base_uri": "https://localhost:8080/",
          "height": 285
        },
        "id": "H1UFfZqXvpPW",
        "outputId": "f41a833d-efbb-4998-dbc6-965c6acb3289"
      },
      "source": [
        "dados.loc[:,'c0':'c99'].describe().T['mean'].hist(bins=30)"
      ],
      "execution_count": null,
      "outputs": [
        {
          "output_type": "execute_result",
          "data": {
            "text/plain": [
              "<matplotlib.axes._subplots.AxesSubplot at 0x7f184545e490>"
            ]
          },
          "metadata": {
            "tags": []
          },
          "execution_count": 30
        },
        {
          "output_type": "display_data",
          "data": {
            "image/png": "[encoded data removed]",
            "text/plain": [
              "<Figure size 432x288 with 1 Axes>"
            ]
          },
          "metadata": {
            "tags": []
          }
        }
      ]
    },
    {
      "cell_type": "code",
      "metadata": {
        "colab": {
          "base_uri": "https://localhost:8080/",
          "height": 419
        },
        "id": "anK3BLXfwDM7",
        "outputId": "915bbf41-4d89-49f5-8162-ff39173a717b"
      },
      "source": [
        "celulas = dados.loc[:,'c0':'c99'].describe().T['mean']\n",
        "\n",
        "plt.figure(figsize=(8, 6))\n",
        "\n",
        "hist = sns.histplot(celulas, bins=30)\n",
        "hist.set_title('Células', fontsize=18, color = '#5975a4')\n",
        "hist.set_xlabel('Contador', fontsize=18, color = '#5975a4')\n",
        "hist.set_ylabel('Composto', fontsize=18, color = '#5975a4')\n",
        "\n",
        "plt.show()"
      ],
      "execution_count": null,
      "outputs": [
        {
          "output_type": "display_data",
          "data": {
            "image/png": "[encoded data removed]",
            "text/plain": [
              "<Figure size 576x432 with 1 Axes>"
            ]
          },
          "metadata": {
            "tags": []
          }
        }
      ]
    },
    {
      "cell_type": "code",
      "metadata": {
        "id": "niAwknU-wgIh",
        "colab": {
          "base_uri": "https://localhost:8080/",
          "height": 285
        },
        "outputId": "3bc97bbe-7b22-40de-d612-d336a2dc80b1"
      },
      "source": [
        "fig, ax =plt.subplots(1,3, figsize = ( 20 , 4 ))\n",
        "dados.loc[:,'g0':'g771'].describe().T['25%'].hist(bins=50,ax=ax[0]).set_title(\"Primeiro quartil dos genes\", fontsize=15)\n",
        "dados.loc[:,'g0':'g771'].describe().T['50%'].hist(bins=50,ax=ax[1]).set_title(\"Segundo quartil dos genes\", fontsize=15)\n",
        "dados.loc[:,'g0':'g771'].describe().T['75%'].hist(bins=50,ax=ax[2]).set_title(\"Terceiro quartil dos genes\", fontsize=15)\n",
        "fig.show()"
      ],
      "execution_count": null,
      "outputs": [
        {
          "output_type": "display_data",
          "data": {
            "image/png": "[encoded data removed]",
            "text/plain": [
              "<Figure size 1440x288 with 3 Axes>"
            ]
          },
          "metadata": {
            "tags": []
          }
        }
      ]
    },
    {
      "cell_type": "code",
      "metadata": {
        "colab": {
          "base_uri": "https://localhost:8080/",
          "height": 286
        },
        "id": "NrGHoi8x1hqd",
        "outputId": "90ea2561-b454-435d-ed73-a53d4faea2ca"
      },
      "source": [
        "fig, ax =plt.subplots(1,3, figsize = ( 20 , 4 ))\n",
        "dados.loc[:,'c0':'c99'].describe().T['25%'].hist(bins=50,ax=ax[0]).set_title(\"Primeiro quartil dos tipos celulares\", fontsize=15)\n",
        "dados.loc[:,'c0':'c99'].describe().T['50%'].hist(bins=50,ax=ax[1]).set_title(\"Segundo quartil dos tipos celulares\", fontsize=15)\n",
        "dados.loc[:,'c0':'c99'].describe().T['75%'].hist(bins=50,ax=ax[2]).set_title(\"Terceiro quartil dos tipos celulares\", fontsize=15)\n",
        "fig.show()"
      ],
      "execution_count": null,
      "outputs": [
        {
          "output_type": "display_data",
          "data": {
            "image/png": "[encoded data removed]",
            "text/plain": [
              "<Figure size 1440x288 with 3 Axes>"
            ]
          },
          "metadata": {
            "tags": []
          }
        }
      ]
    },
    {
      "cell_type": "markdown",
      "metadata": {
        "id": "LPrVOf3q1mHq"
      },
      "source": [
        "Vemos que os genes apresentam uma distribuição muito mais regular do que os tipos celulares."
      ]
    },
    {
      "cell_type": "code",
      "metadata": {
        "colab": {
          "base_uri": "https://localhost:8080/",
          "height": 285
        },
        "id": "jmYb2-8U2G5Y",
        "outputId": "317af714-78f3-4adf-d57a-63ab215e0793"
      },
      "source": [
        "dados['g0'].hist(bins = 100) #Versão com o Pandas"
      ],
      "execution_count": null,
      "outputs": [
        {
          "output_type": "execute_result",
          "data": {
            "text/plain": [
              "<matplotlib.axes._subplots.AxesSubplot at 0x7f1844b8fd50>"
            ]
          },
          "metadata": {
            "tags": []
          },
          "execution_count": 48
        },
        {
          "output_type": "display_data",
          "data": {
            "image/png": "[encoded data removed]",
            "text/plain": [
              "<Figure size 432x288 with 1 Axes>"
            ]
          },
          "metadata": {
            "tags": []
          }
        }
      ]
    },
    {
      "cell_type": "code",
      "metadata": {
        "colab": {
          "base_uri": "https://localhost:8080/",
          "height": 303
        },
        "id": "DPwNgCM-2NwT",
        "outputId": "e1bb8aef-4da2-4ea0-e9a7-a948e8bd3d97"
      },
      "source": [
        "sns.histplot(data=dados['g0'],bins=100) # Versão com o Seaborn"
      ],
      "execution_count": null,
      "outputs": [
        {
          "output_type": "execute_result",
          "data": {
            "text/plain": [
              "<matplotlib.axes._subplots.AxesSubplot at 0x7f18450a3150>"
            ]
          },
          "metadata": {
            "tags": []
          },
          "execution_count": 49
        },
        {
          "output_type": "display_data",
          "data": {
            "image/png": "[encoded data removed]",
            "text/plain": [
              "<Figure size 432x288 with 1 Axes>"
            ]
          },
          "metadata": {
            "tags": []
          }
        }
      ]
    },
    {
      "cell_type": "markdown",
      "metadata": {
        "id": "wrRtfKrQ2eH-"
      },
      "source": [
        "###Desafio 04: Estudar sobre as estatísticas retonadas no .describe()"
      ]
    },
    {
      "cell_type": "markdown",
      "metadata": {
        "id": "jTxN6JWb2ijQ"
      },
      "source": [
        "\n",
        "[Link documentação](https://pandas.pydata.org/docs/reference/api/pandas.DataFrame.describe.html)\n",
        "\n",
        "INCLUIR ARTIGO SOBRE DESCRIBE"
      ]
    },
    {
      "cell_type": "markdown",
      "metadata": {
        "id": "Co-KiN5A2yMN"
      },
      "source": [
        "###Desafio 05: Refletir sobre a manipulação do tamanho das visualizações"
      ]
    },
    {
      "cell_type": "markdown",
      "metadata": {
        "id": "gq-alpRy29or"
      },
      "source": [
        "Analisando o box plot apresentado na aula, podemos ter varios tamanho, porém, o boxplot é geralmente apresentado como uma régua, ou seja, ele é mais bem visualizado com uma direção significativa. Para analisar apenas um parâmetro, seria melhor apresetá-lo na horizontal. Como abaixo, mas nota-se que no figsize, foi utilizado um tamanho que apresenta um maior comprimento do que altura:"
      ]
    },
    {
      "cell_type": "code",
      "metadata": {
        "colab": {
          "base_uri": "https://localhost:8080/",
          "height": 303
        },
        "id": "etVzGhZY2dEC",
        "outputId": "76af2fca-db4e-4117-eeaf-4508245b11be"
      },
      "source": [
        "plt.figure(figsize=(16,4))\n",
        "sns.boxplot(x='g0', data=dados)"
      ],
      "execution_count": null,
      "outputs": [
        {
          "output_type": "execute_result",
          "data": {
            "text/plain": [
              "<matplotlib.axes._subplots.AxesSubplot at 0x7f1844a30d90>"
            ]
          },
          "metadata": {
            "tags": []
          },
          "execution_count": 50
        },
        {
          "output_type": "display_data",
          "data": {
            "image/png": "[encoded data removed]",
            "text/plain": [
              "<Figure size 1152x288 with 1 Axes>"
            ]
          },
          "metadata": {
            "tags": []
          }
        }
      ]
    },
    {
      "cell_type": "markdown",
      "metadata": {
        "id": "lRC_qUWU3OoB"
      },
      "source": [
        "\n",
        "Quanto maior o comprimento, melhor será vizualizado os outliers da distribuição de dados."
      ]
    },
    {
      "cell_type": "markdown",
      "metadata": {
        "id": "9tFY6-LS4gbD"
      },
      "source": [
        "Um artigo que pode lhe artigo que pode lhe ajudar nesse processo de reflexão é este aqui: [Visualizando informações com um gráfico](https://www.alura.com.br/artigos/visualizando-informacoes-com-um-grafico)\n",
        "\n"
      ]
    },
    {
      "cell_type": "markdown",
      "metadata": {
        "id": "8gR943PP4byr"
      },
      "source": [
        "###Desafio 06: Fazer outras análises com o boxplot e até com o histograma."
      ]
    },
    {
      "cell_type": "markdown",
      "metadata": {
        "id": "UARPrZfs3SGD"
      },
      "source": [
        "\n",
        "Este artigo dá alguns exemplos de visualização: Análise de dados: [analisando minha distribuição com três alternativas de visualização](https://www.alura.com.br/artigos/analise-de-dados-analisando-minha-distribuicao-com-tres-alternativas-de-visualizacao)"
      ]
    },
    {
      "cell_type": "markdown",
      "metadata": {
        "id": "jm80YG2u3giR"
      },
      "source": [
        "Olhando para a Dose"
      ]
    },
    {
      "cell_type": "code",
      "metadata": {
        "colab": {
          "base_uri": "https://localhost:8080/",
          "height": 519
        },
        "id": "meYvCACS3bZy",
        "outputId": "4da83068-c89d-47a7-e1e8-5b0ea1bf2f5b"
      },
      "source": [
        "plt.figure(figsize=(10,8))\n",
        "sns.boxplot(y='g0', x='dose' , data=dados)"
      ],
      "execution_count": null,
      "outputs": [
        {
          "output_type": "execute_result",
          "data": {
            "text/plain": [
              "<matplotlib.axes._subplots.AxesSubplot at 0x7f1844d04950>"
            ]
          },
          "metadata": {
            "tags": []
          },
          "execution_count": 52
        },
        {
          "output_type": "display_data",
          "data": {
            "image/png": "[encoded data removed]",
            "text/plain": [
              "<Figure size 720x576 with 1 Axes>"
            ]
          },
          "metadata": {
            "tags": []
          }
        }
      ]
    },
    {
      "cell_type": "markdown",
      "metadata": {
        "id": "a4Eo1kub3iRx"
      },
      "source": [
        "Olhando apenas para o composto de controle"
      ]
    },
    {
      "cell_type": "code",
      "metadata": {
        "colab": {
          "base_uri": "https://localhost:8080/",
          "height": 519
        },
        "id": "9uaKRgKg3l7M",
        "outputId": "8e67c149-0f1a-4e42-acb5-003fd851ea6a"
      },
      "source": [
        "plt.figure(figsize=(10,8))\n",
        "sns.boxplot(y='g0', x='dose' , data=dados.query('composto == \"cacb2b860\"'))"
      ],
      "execution_count": null,
      "outputs": [
        {
          "output_type": "execute_result",
          "data": {
            "text/plain": [
              "<matplotlib.axes._subplots.AxesSubplot at 0x7f1844a5c590>"
            ]
          },
          "metadata": {
            "tags": []
          },
          "execution_count": 54
        },
        {
          "output_type": "display_data",
          "data": {
            "image/png": "[encoded data removed]",
            "text/plain": [
              "<Figure size 720x576 with 1 Axes>"
            ]
          },
          "metadata": {
            "tags": []
          }
        }
      ]
    },
    {
      "cell_type": "code",
      "metadata": {
        "colab": {
          "base_uri": "https://localhost:8080/",
          "height": 523
        },
        "id": "SljuX9SB3qpK",
        "outputId": "2a3aa18e-23bc-4bdb-aa98-2a8148414b56"
      },
      "source": [
        "plt.figure(figsize=(10,8))\n",
        "sns.boxplot(y='c0', x='dose' , data=dados)"
      ],
      "execution_count": null,
      "outputs": [
        {
          "output_type": "execute_result",
          "data": {
            "text/plain": [
              "<matplotlib.axes._subplots.AxesSubplot at 0x7f1844b68cd0>"
            ]
          },
          "metadata": {
            "tags": []
          },
          "execution_count": 56
        },
        {
          "output_type": "display_data",
          "data": {
            "image/png": "[encoded data removed]",
            "text/plain": [
              "<Figure size 720x576 with 1 Axes>"
            ]
          },
          "metadata": {
            "tags": []
          }
        }
      ]
    },
    {
      "cell_type": "markdown",
      "metadata": {
        "id": "jUXco3X93u0h"
      },
      "source": [
        "Olhando para o tempo"
      ]
    },
    {
      "cell_type": "code",
      "metadata": {
        "colab": {
          "base_uri": "https://localhost:8080/",
          "height": 519
        },
        "id": "BGatIEu_3wjK",
        "outputId": "f4a838c6-afc0-436b-d38a-5e1f93a08c4a"
      },
      "source": [
        "plt.figure(figsize=(10,8))\n",
        "sns.boxplot(y='c15', x='tempo' , data=dados)"
      ],
      "execution_count": null,
      "outputs": [
        {
          "output_type": "execute_result",
          "data": {
            "text/plain": [
              "<matplotlib.axes._subplots.AxesSubplot at 0x7f1844ccf590>"
            ]
          },
          "metadata": {
            "tags": []
          },
          "execution_count": 58
        },
        {
          "output_type": "display_data",
          "data": {
            "image/png": "[encoded data removed]",
            "text/plain": [
              "<Figure size 720x576 with 1 Axes>"
            ]
          },
          "metadata": {
            "tags": []
          }
        }
      ]
    },
    {
      "cell_type": "markdown",
      "metadata": {
        "id": "6rlwnYTH38g8"
      },
      "source": [
        "Histograma de g-0 comparando com droga ou com controle"
      ]
    },
    {
      "cell_type": "code",
      "metadata": {
        "colab": {
          "base_uri": "https://localhost:8080/",
          "height": 394
        },
        "id": "6CA1wD-O3_Sb",
        "outputId": "4ed17188-ab99-4608-bfa4-c428b3a6be9a"
      },
      "source": [
        "plt.figure(figsize=(10,6))\n",
        "sns.histplot(data=dados, x='g0', bins=100, hue='tratamento')\n",
        "plt.show()"
      ],
      "execution_count": null,
      "outputs": [
        {
          "output_type": "display_data",
          "data": {
            "image/png": "[encoded data removed]",
            "text/plain": [
              "<Figure size 720x432 with 1 Axes>"
            ]
          },
          "metadata": {
            "tags": []
          }
        }
      ]
    },
    {
      "cell_type": "markdown",
      "metadata": {
        "id": "_CqvRCI24vxe"
      },
      "source": [
        "Fazer outras analises com o boxplot e até com o histograma.\n",
        "\n",
        "Optei por analisar outro tipo de visualização de dados que fica entre um scatter plot e um box plot."
      ]
    },
    {
      "cell_type": "code",
      "metadata": {
        "colab": {
          "base_uri": "https://localhost:8080/",
          "height": 337
        },
        "id": "sS-3DH3z4u1P",
        "outputId": "e0b9acf5-d47f-4a66-971b-13497810eed6"
      },
      "source": [
        "sns.stripplot(x='g0',y='tratamento', data=dados, split=True)"
      ],
      "execution_count": null,
      "outputs": [
        {
          "output_type": "stream",
          "text": [
            "/usr/local/lib/python3.7/dist-packages/seaborn/categorical.py:2802: UserWarning: The `split` parameter has been renamed to `dodge`.\n",
            "  warnings.warn(msg, UserWarning)\n"
          ],
          "name": "stderr"
        },
        {
          "output_type": "execute_result",
          "data": {
            "text/plain": [
              "<matplotlib.axes._subplots.AxesSubplot at 0x7f1844646710>"
            ]
          },
          "metadata": {
            "tags": []
          },
          "execution_count": 61
        },
        {
          "output_type": "display_data",
          "data": {
            "image/png": "[encoded data removed]",
            "text/plain": [
              "<Figure size 432x288 with 1 Axes>"
            ]
          },
          "metadata": {
            "tags": []
          }
        }
      ]
    },
    {
      "cell_type": "markdown",
      "metadata": {
        "id": "AknLgMsF5eFb"
      },
      "source": [
        "###Desafio 07: Resumo do que você aprendeu com os dados"
      ]
    },
    {
      "cell_type": "markdown",
      "metadata": {
        "id": "BitlugAc5ce7"
      },
      "source": [
        "Resumo da análises\n",
        "\n",
        "Os dados referentes aos genes e aos tipos celulares apresentam uma distruição que seria comparada a distribuição normal\n",
        "os genes apresentam uma distribuição muito mais regular do que os tipos celulares"
      ]
    }
  ]
}